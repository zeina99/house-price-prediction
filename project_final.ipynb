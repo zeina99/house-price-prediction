{
 "cells": [
  {
   "cell_type": "markdown",
   "metadata": {
    "id": "Sx-UcowLGltk"
   },
   "source": [
    "### Real Estate rent price prediction\n",
    "Our topic is real estate price prediction in Dubai\n",
    "What our model will do is predict the real estate prices based on the data used for training. \n",
    "\n",
    "We scraped the data from Propert Finder.\n",
    "Each row in our data resembles an ad on the website.\n",
    "After collecting the data, we started cleaning and preprocessing the data."
   ]
  },
  {
   "cell_type": "code",
   "execution_count": 82,
   "metadata": {
    "id": "F9x74P04Gltl"
   },
   "outputs": [],
   "source": [
    "import pandas as pd\n",
    "import numpy as np \n",
    "from sklearn.model_selection import train_test_split\n",
    "from sklearn.compose import ColumnTransformer\n",
    "from sklearn.preprocessing import FunctionTransformer\n",
    "from sklearn.pipeline import Pipeline,make_pipeline\n",
    "from sklearn.feature_extraction.text import TfidfVectorizer\n",
    "from sklearn.feature_extraction.text import CountVectorizer\n",
    "from sklearn.base import BaseEstimator\n",
    "from sklearn.base import TransformerMixin\n",
    "from sklearn.model_selection import cross_val_score\n",
    "from sklearn.model_selection import GridSearchCV\n",
    "from sklearn.model_selection import RepeatedStratifiedKFold, RepeatedKFold\n",
    "from sklearn.model_selection import RandomizedSearchCV\n",
    "import scipy as sp\n",
    "\n",
    "from sklearn.linear_model import LinearRegression\n",
    "from sklearn.ensemble import RandomForestRegressor\n",
    "from sklearn.linear_model import SGDRegressor\n",
    "from sklearn.tree import DecisionTreeRegressor\n",
    "from sklearn.neural_network import MLPRegressor\n",
    "from sklearn.linear_model import Lasso, Ridge\n",
    "\n",
    "from sklearn.preprocessing import StandardScaler"
   ]
  },
  {
   "cell_type": "code",
   "execution_count": 84,
   "metadata": {
    "id": "1GGFk1A0Gltn"
   },
   "outputs": [],
   "source": [
    "df = pd.read_csv(\"apartment_data.csv\")"
   ]
  },
  {
   "cell_type": "code",
   "execution_count": 85,
   "metadata": {
    "colab": {
     "base_uri": "https://localhost:8080/",
     "height": 419
    },
    "id": "zUPE0Jt7Gltn",
    "outputId": "8aa8b0ec-f6c6-47c1-fedd-8ea0bd426910"
   },
   "outputs": [
    {
     "data": {
      "text/html": [
       "<div>\n",
       "<style scoped>\n",
       "    .dataframe tbody tr th:only-of-type {\n",
       "        vertical-align: middle;\n",
       "    }\n",
       "\n",
       "    .dataframe tbody tr th {\n",
       "        vertical-align: top;\n",
       "    }\n",
       "\n",
       "    .dataframe thead th {\n",
       "        text-align: right;\n",
       "    }\n",
       "</style>\n",
       "<table border=\"1\" class=\"dataframe\">\n",
       "  <thead>\n",
       "    <tr style=\"text-align: right;\">\n",
       "      <th></th>\n",
       "      <th>listing_type</th>\n",
       "      <th>bedrooms</th>\n",
       "      <th>bathrooms</th>\n",
       "      <th>area</th>\n",
       "      <th>price</th>\n",
       "      <th>location</th>\n",
       "      <th>description</th>\n",
       "    </tr>\n",
       "  </thead>\n",
       "  <tbody>\n",
       "    <tr>\n",
       "      <th>0</th>\n",
       "      <td>Townhouse</td>\n",
       "      <td>4</td>\n",
       "      <td>4</td>\n",
       "      <td>2,165 sqft</td>\n",
       "      <td>135,000 AED/year</td>\n",
       "      <td>Maple 2- Maple at Dubai Hills Estate- Dubai Hi...</td>\n",
       "      <td>Brought to you by Driven Properties- this 4 Be...</td>\n",
       "    </tr>\n",
       "    <tr>\n",
       "      <th>1</th>\n",
       "      <td>Apartment</td>\n",
       "      <td>2</td>\n",
       "      <td>3</td>\n",
       "      <td>1,602 sqft</td>\n",
       "      <td>Ask for price</td>\n",
       "      <td>Golden Sands 14- Mankhool- Bur Dubai- Dubai</td>\n",
       "      <td>Unprecedented Luxury | Unique Blend of Hospita...</td>\n",
       "    </tr>\n",
       "    <tr>\n",
       "      <th>2</th>\n",
       "      <td>Apartment</td>\n",
       "      <td>1</td>\n",
       "      <td>2</td>\n",
       "      <td>927 sqft</td>\n",
       "      <td>145,000 AED/year</td>\n",
       "      <td>The Address Downtown Hotel- Downtown Dubai- Dubai</td>\n",
       "      <td>Brought to you by Driven Properties- this 1 Be...</td>\n",
       "    </tr>\n",
       "    <tr>\n",
       "      <th>3</th>\n",
       "      <td>Apartment</td>\n",
       "      <td>2</td>\n",
       "      <td>2</td>\n",
       "      <td>1,085 sqft</td>\n",
       "      <td>110,000 AED/year</td>\n",
       "      <td>The Fairways North- The Fairways- The Views- D...</td>\n",
       "      <td>We are very proud to present to you with this ...</td>\n",
       "    </tr>\n",
       "    <tr>\n",
       "      <th>4</th>\n",
       "      <td>Apartment</td>\n",
       "      <td>1</td>\n",
       "      <td>2</td>\n",
       "      <td>857 sqft</td>\n",
       "      <td>53,999 AED/year</td>\n",
       "      <td>Vincitore Boulevard- Arjan- Dubai</td>\n",
       "      <td>AZCO REAL ESTATE BROKERS LLC is excited to bri...</td>\n",
       "    </tr>\n",
       "    <tr>\n",
       "      <th>...</th>\n",
       "      <td>...</td>\n",
       "      <td>...</td>\n",
       "      <td>...</td>\n",
       "      <td>...</td>\n",
       "      <td>...</td>\n",
       "      <td>...</td>\n",
       "      <td>...</td>\n",
       "    </tr>\n",
       "    <tr>\n",
       "      <th>16253</th>\n",
       "      <td>Apartment</td>\n",
       "      <td>1</td>\n",
       "      <td>None</td>\n",
       "      <td>837 sqft</td>\n",
       "      <td>48,000 AED/year</td>\n",
       "      <td>La Residence- Jumeirah Village Triangle- Dubai</td>\n",
       "      <td>Exclusive Links Real Estate presenting an amaz...</td>\n",
       "    </tr>\n",
       "    <tr>\n",
       "      <th>16254</th>\n",
       "      <td>Apartment</td>\n",
       "      <td>3</td>\n",
       "      <td>4</td>\n",
       "      <td>2,012 sqft</td>\n",
       "      <td>150,000 AED/year</td>\n",
       "      <td>The Flagship Two- Al Satwa- Dubai</td>\n",
       "      <td>The Flagship Two - Jumeirah Garden City Satwa\\...</td>\n",
       "    </tr>\n",
       "    <tr>\n",
       "      <th>16255</th>\n",
       "      <td>Apartment</td>\n",
       "      <td>2</td>\n",
       "      <td>3</td>\n",
       "      <td>1,390 sqft</td>\n",
       "      <td>125,000 AED/year</td>\n",
       "      <td>Burj Al Salam- Sheikh Zayed Road- Dubai</td>\n",
       "      <td>Excel Properties brings you this fully furnish...</td>\n",
       "    </tr>\n",
       "    <tr>\n",
       "      <th>16256</th>\n",
       "      <td>Townhouse</td>\n",
       "      <td>3</td>\n",
       "      <td>1</td>\n",
       "      <td>1,881 sqft</td>\n",
       "      <td>69,999 AED/year</td>\n",
       "      <td>Casablanca Boutique Villas- Coursetia- Akoya- ...</td>\n",
       "      <td>Amazing Brand New  3 Bedroom with Maids Room\\t...</td>\n",
       "    </tr>\n",
       "    <tr>\n",
       "      <th>16257</th>\n",
       "      <td>Apartment</td>\n",
       "      <td>2</td>\n",
       "      <td>4</td>\n",
       "      <td>1,412 sqft</td>\n",
       "      <td>110,000 AED/year</td>\n",
       "      <td>The Flagship Two- Al Satwa- Dubai</td>\n",
       "      <td>The Flagship Two - Jumeirah Garden City Satwa\\...</td>\n",
       "    </tr>\n",
       "  </tbody>\n",
       "</table>\n",
       "<p>16258 rows × 7 columns</p>\n",
       "</div>"
      ],
      "text/plain": [
       "      listing_type bedrooms bathrooms        area             price  \\\n",
       "0        Townhouse       4         4   2,165 sqft  135,000 AED/year   \n",
       "1        Apartment       2         3   1,602 sqft     Ask for price   \n",
       "2        Apartment       1         2     927 sqft  145,000 AED/year   \n",
       "3        Apartment       2         2   1,085 sqft  110,000 AED/year   \n",
       "4        Apartment       1         2     857 sqft   53,999 AED/year   \n",
       "...            ...      ...       ...         ...               ...   \n",
       "16253    Apartment       1       None    837 sqft   48,000 AED/year   \n",
       "16254    Apartment       3         4   2,012 sqft  150,000 AED/year   \n",
       "16255    Apartment       2         3   1,390 sqft  125,000 AED/year   \n",
       "16256    Townhouse       3         1   1,881 sqft   69,999 AED/year   \n",
       "16257    Apartment       2         4   1,412 sqft  110,000 AED/year   \n",
       "\n",
       "                                                location  \\\n",
       "0      Maple 2- Maple at Dubai Hills Estate- Dubai Hi...   \n",
       "1            Golden Sands 14- Mankhool- Bur Dubai- Dubai   \n",
       "2      The Address Downtown Hotel- Downtown Dubai- Dubai   \n",
       "3      The Fairways North- The Fairways- The Views- D...   \n",
       "4                      Vincitore Boulevard- Arjan- Dubai   \n",
       "...                                                  ...   \n",
       "16253     La Residence- Jumeirah Village Triangle- Dubai   \n",
       "16254                  The Flagship Two- Al Satwa- Dubai   \n",
       "16255            Burj Al Salam- Sheikh Zayed Road- Dubai   \n",
       "16256  Casablanca Boutique Villas- Coursetia- Akoya- ...   \n",
       "16257                  The Flagship Two- Al Satwa- Dubai   \n",
       "\n",
       "                                             description  \n",
       "0      Brought to you by Driven Properties- this 4 Be...  \n",
       "1      Unprecedented Luxury | Unique Blend of Hospita...  \n",
       "2      Brought to you by Driven Properties- this 1 Be...  \n",
       "3      We are very proud to present to you with this ...  \n",
       "4      AZCO REAL ESTATE BROKERS LLC is excited to bri...  \n",
       "...                                                  ...  \n",
       "16253  Exclusive Links Real Estate presenting an amaz...  \n",
       "16254  The Flagship Two - Jumeirah Garden City Satwa\\...  \n",
       "16255  Excel Properties brings you this fully furnish...  \n",
       "16256  Amazing Brand New  3 Bedroom with Maids Room\\t...  \n",
       "16257  The Flagship Two - Jumeirah Garden City Satwa\\...  \n",
       "\n",
       "[16258 rows x 7 columns]"
      ]
     },
     "execution_count": 85,
     "metadata": {},
     "output_type": "execute_result"
    }
   ],
   "source": [
    "df"
   ]
  },
  {
   "cell_type": "code",
   "execution_count": 86,
   "metadata": {
    "colab": {
     "base_uri": "https://localhost:8080/"
    },
    "id": "bHa5h2iJGltp",
    "outputId": "95514e5e-1b4c-4542-b93b-9af3365af488"
   },
   "outputs": [
    {
     "data": {
      "text/plain": [
       "Index(['listing_type', 'bedrooms', 'bathrooms', 'area', 'price', 'location',\n",
       "       'description'],\n",
       "      dtype='object')"
      ]
     },
     "execution_count": 86,
     "metadata": {},
     "output_type": "execute_result"
    }
   ],
   "source": [
    "df.columns"
   ]
  },
  {
   "cell_type": "markdown",
   "metadata": {
    "id": "c35gkH3PGltq"
   },
   "source": [
    "# Removing duplicate data"
   ]
  },
  {
   "cell_type": "code",
   "execution_count": 87,
   "metadata": {
    "colab": {
     "base_uri": "https://localhost:8080/"
    },
    "id": "II1IRQlNGltq",
    "outputId": "6ab302ec-fd38-4986-d251-e8093163379a"
   },
   "outputs": [
    {
     "data": {
      "text/plain": [
       "3258"
      ]
     },
     "execution_count": 87,
     "metadata": {},
     "output_type": "execute_result"
    }
   ],
   "source": [
    "df.duplicated().sum()"
   ]
  },
  {
   "cell_type": "markdown",
   "metadata": {
    "id": "PaNWnVmOGltr"
   },
   "source": [
    "We notice 3k rows of duplicate data"
   ]
  },
  {
   "cell_type": "code",
   "execution_count": 88,
   "metadata": {
    "colab": {
     "base_uri": "https://localhost:8080/",
     "height": 419
    },
    "id": "AjSsWL-GGlts",
    "outputId": "ddc0abac-f265-46d3-a476-b995a3794bc3"
   },
   "outputs": [
    {
     "data": {
      "text/html": [
       "<div>\n",
       "<style scoped>\n",
       "    .dataframe tbody tr th:only-of-type {\n",
       "        vertical-align: middle;\n",
       "    }\n",
       "\n",
       "    .dataframe tbody tr th {\n",
       "        vertical-align: top;\n",
       "    }\n",
       "\n",
       "    .dataframe thead th {\n",
       "        text-align: right;\n",
       "    }\n",
       "</style>\n",
       "<table border=\"1\" class=\"dataframe\">\n",
       "  <thead>\n",
       "    <tr style=\"text-align: right;\">\n",
       "      <th></th>\n",
       "      <th>listing_type</th>\n",
       "      <th>bedrooms</th>\n",
       "      <th>bathrooms</th>\n",
       "      <th>area</th>\n",
       "      <th>price</th>\n",
       "      <th>location</th>\n",
       "      <th>description</th>\n",
       "    </tr>\n",
       "  </thead>\n",
       "  <tbody>\n",
       "    <tr>\n",
       "      <th>0</th>\n",
       "      <td>Townhouse</td>\n",
       "      <td>4</td>\n",
       "      <td>4</td>\n",
       "      <td>2,165 sqft</td>\n",
       "      <td>135,000 AED/year</td>\n",
       "      <td>Maple 2- Maple at Dubai Hills Estate- Dubai Hi...</td>\n",
       "      <td>Brought to you by Driven Properties- this 4 Be...</td>\n",
       "    </tr>\n",
       "    <tr>\n",
       "      <th>1</th>\n",
       "      <td>Apartment</td>\n",
       "      <td>2</td>\n",
       "      <td>3</td>\n",
       "      <td>1,602 sqft</td>\n",
       "      <td>Ask for price</td>\n",
       "      <td>Golden Sands 14- Mankhool- Bur Dubai- Dubai</td>\n",
       "      <td>Unprecedented Luxury | Unique Blend of Hospita...</td>\n",
       "    </tr>\n",
       "    <tr>\n",
       "      <th>2</th>\n",
       "      <td>Apartment</td>\n",
       "      <td>1</td>\n",
       "      <td>2</td>\n",
       "      <td>927 sqft</td>\n",
       "      <td>145,000 AED/year</td>\n",
       "      <td>The Address Downtown Hotel- Downtown Dubai- Dubai</td>\n",
       "      <td>Brought to you by Driven Properties- this 1 Be...</td>\n",
       "    </tr>\n",
       "    <tr>\n",
       "      <th>3</th>\n",
       "      <td>Apartment</td>\n",
       "      <td>2</td>\n",
       "      <td>2</td>\n",
       "      <td>1,085 sqft</td>\n",
       "      <td>110,000 AED/year</td>\n",
       "      <td>The Fairways North- The Fairways- The Views- D...</td>\n",
       "      <td>We are very proud to present to you with this ...</td>\n",
       "    </tr>\n",
       "    <tr>\n",
       "      <th>4</th>\n",
       "      <td>Apartment</td>\n",
       "      <td>1</td>\n",
       "      <td>2</td>\n",
       "      <td>857 sqft</td>\n",
       "      <td>53,999 AED/year</td>\n",
       "      <td>Vincitore Boulevard- Arjan- Dubai</td>\n",
       "      <td>AZCO REAL ESTATE BROKERS LLC is excited to bri...</td>\n",
       "    </tr>\n",
       "    <tr>\n",
       "      <th>...</th>\n",
       "      <td>...</td>\n",
       "      <td>...</td>\n",
       "      <td>...</td>\n",
       "      <td>...</td>\n",
       "      <td>...</td>\n",
       "      <td>...</td>\n",
       "      <td>...</td>\n",
       "    </tr>\n",
       "    <tr>\n",
       "      <th>16253</th>\n",
       "      <td>Apartment</td>\n",
       "      <td>1</td>\n",
       "      <td>None</td>\n",
       "      <td>837 sqft</td>\n",
       "      <td>48,000 AED/year</td>\n",
       "      <td>La Residence- Jumeirah Village Triangle- Dubai</td>\n",
       "      <td>Exclusive Links Real Estate presenting an amaz...</td>\n",
       "    </tr>\n",
       "    <tr>\n",
       "      <th>16254</th>\n",
       "      <td>Apartment</td>\n",
       "      <td>3</td>\n",
       "      <td>4</td>\n",
       "      <td>2,012 sqft</td>\n",
       "      <td>150,000 AED/year</td>\n",
       "      <td>The Flagship Two- Al Satwa- Dubai</td>\n",
       "      <td>The Flagship Two - Jumeirah Garden City Satwa\\...</td>\n",
       "    </tr>\n",
       "    <tr>\n",
       "      <th>16255</th>\n",
       "      <td>Apartment</td>\n",
       "      <td>2</td>\n",
       "      <td>3</td>\n",
       "      <td>1,390 sqft</td>\n",
       "      <td>125,000 AED/year</td>\n",
       "      <td>Burj Al Salam- Sheikh Zayed Road- Dubai</td>\n",
       "      <td>Excel Properties brings you this fully furnish...</td>\n",
       "    </tr>\n",
       "    <tr>\n",
       "      <th>16256</th>\n",
       "      <td>Townhouse</td>\n",
       "      <td>3</td>\n",
       "      <td>1</td>\n",
       "      <td>1,881 sqft</td>\n",
       "      <td>69,999 AED/year</td>\n",
       "      <td>Casablanca Boutique Villas- Coursetia- Akoya- ...</td>\n",
       "      <td>Amazing Brand New  3 Bedroom with Maids Room\\t...</td>\n",
       "    </tr>\n",
       "    <tr>\n",
       "      <th>16257</th>\n",
       "      <td>Apartment</td>\n",
       "      <td>2</td>\n",
       "      <td>4</td>\n",
       "      <td>1,412 sqft</td>\n",
       "      <td>110,000 AED/year</td>\n",
       "      <td>The Flagship Two- Al Satwa- Dubai</td>\n",
       "      <td>The Flagship Two - Jumeirah Garden City Satwa\\...</td>\n",
       "    </tr>\n",
       "  </tbody>\n",
       "</table>\n",
       "<p>13000 rows × 7 columns</p>\n",
       "</div>"
      ],
      "text/plain": [
       "      listing_type bedrooms bathrooms        area             price  \\\n",
       "0        Townhouse       4         4   2,165 sqft  135,000 AED/year   \n",
       "1        Apartment       2         3   1,602 sqft     Ask for price   \n",
       "2        Apartment       1         2     927 sqft  145,000 AED/year   \n",
       "3        Apartment       2         2   1,085 sqft  110,000 AED/year   \n",
       "4        Apartment       1         2     857 sqft   53,999 AED/year   \n",
       "...            ...      ...       ...         ...               ...   \n",
       "16253    Apartment       1       None    837 sqft   48,000 AED/year   \n",
       "16254    Apartment       3         4   2,012 sqft  150,000 AED/year   \n",
       "16255    Apartment       2         3   1,390 sqft  125,000 AED/year   \n",
       "16256    Townhouse       3         1   1,881 sqft   69,999 AED/year   \n",
       "16257    Apartment       2         4   1,412 sqft  110,000 AED/year   \n",
       "\n",
       "                                                location  \\\n",
       "0      Maple 2- Maple at Dubai Hills Estate- Dubai Hi...   \n",
       "1            Golden Sands 14- Mankhool- Bur Dubai- Dubai   \n",
       "2      The Address Downtown Hotel- Downtown Dubai- Dubai   \n",
       "3      The Fairways North- The Fairways- The Views- D...   \n",
       "4                      Vincitore Boulevard- Arjan- Dubai   \n",
       "...                                                  ...   \n",
       "16253     La Residence- Jumeirah Village Triangle- Dubai   \n",
       "16254                  The Flagship Two- Al Satwa- Dubai   \n",
       "16255            Burj Al Salam- Sheikh Zayed Road- Dubai   \n",
       "16256  Casablanca Boutique Villas- Coursetia- Akoya- ...   \n",
       "16257                  The Flagship Two- Al Satwa- Dubai   \n",
       "\n",
       "                                             description  \n",
       "0      Brought to you by Driven Properties- this 4 Be...  \n",
       "1      Unprecedented Luxury | Unique Blend of Hospita...  \n",
       "2      Brought to you by Driven Properties- this 1 Be...  \n",
       "3      We are very proud to present to you with this ...  \n",
       "4      AZCO REAL ESTATE BROKERS LLC is excited to bri...  \n",
       "...                                                  ...  \n",
       "16253  Exclusive Links Real Estate presenting an amaz...  \n",
       "16254  The Flagship Two - Jumeirah Garden City Satwa\\...  \n",
       "16255  Excel Properties brings you this fully furnish...  \n",
       "16256  Amazing Brand New  3 Bedroom with Maids Room\\t...  \n",
       "16257  The Flagship Two - Jumeirah Garden City Satwa\\...  \n",
       "\n",
       "[13000 rows x 7 columns]"
      ]
     },
     "execution_count": 88,
     "metadata": {},
     "output_type": "execute_result"
    }
   ],
   "source": [
    "df = df.drop_duplicates()\n",
    "df"
   ]
  },
  {
   "cell_type": "markdown",
   "metadata": {
    "id": "rHUhneAkGlts"
   },
   "source": [
    "So now we are left with 12k rows"
   ]
  },
  {
   "cell_type": "markdown",
   "metadata": {
    "id": "hEYJ9139Gltt"
   },
   "source": [
    "### Removing trailing spaces around the text"
   ]
  },
  {
   "cell_type": "code",
   "execution_count": 89,
   "metadata": {
    "colab": {
     "base_uri": "https://localhost:8080/"
    },
    "id": "Xf5wnfhyGltt",
    "outputId": "facac504-f285-445e-fcfb-95243a9b0ce4"
   },
   "outputs": [
    {
     "name": "stderr",
     "output_type": "stream",
     "text": [
      "/Users/zeinathabet/opt/anaconda3/lib/python3.7/site-packages/pandas/core/indexing.py:1843: SettingWithCopyWarning: \n",
      "A value is trying to be set on a copy of a slice from a DataFrame.\n",
      "Try using .loc[row_indexer,col_indexer] = value instead\n",
      "\n",
      "See the caveats in the documentation: https://pandas.pydata.org/pandas-docs/stable/user_guide/indexing.html#returning-a-view-versus-a-copy\n",
      "  self.obj[item_labels[indexer[info_axis]]] = value\n"
     ]
    }
   ],
   "source": [
    "df.loc[:,'listing_type'] = df.loc[:,'listing_type'].map(lambda x: x.strip())\n",
    "df.loc[:,'bedrooms'] = df.loc[:,'bedrooms'].map(lambda x: x.strip())\n",
    "df.loc[:,'bathrooms'] = df.loc[:,'bathrooms'].map(lambda x: x.strip())\n",
    "df.loc[:,'area'] = df.loc[:,'area'].map(lambda x: x.strip())\n",
    "df.loc[:,'price'] = df.loc[:,'price'].map(lambda x: x.strip())\n",
    "df.loc[:,'location'] = df.loc[:,'location'].map(lambda x: x.strip())\n",
    "df.loc[:,'description'] = df.loc[:,'description'].map(lambda x: x.strip())"
   ]
  },
  {
   "cell_type": "markdown",
   "metadata": {
    "id": "BbZILV3bGltu"
   },
   "source": [
    "# Checking None or missing values"
   ]
  },
  {
   "cell_type": "markdown",
   "metadata": {
    "id": "GP3eOPLjGltv"
   },
   "source": [
    "Our data has 'None' for missing values, which seem to not be caught by pandas"
   ]
  },
  {
   "cell_type": "code",
   "execution_count": 90,
   "metadata": {
    "colab": {
     "base_uri": "https://localhost:8080/"
    },
    "id": "zhICfpu4Gltv",
    "outputId": "2ee57916-042f-4ce6-e470-43dc8c5a5101"
   },
   "outputs": [
    {
     "data": {
      "text/plain": [
       "listing_type    0\n",
       "bedrooms        0\n",
       "bathrooms       0\n",
       "area            0\n",
       "price           0\n",
       "location        0\n",
       "description     0\n",
       "dtype: int64"
      ]
     },
     "execution_count": 90,
     "metadata": {},
     "output_type": "execute_result"
    }
   ],
   "source": [
    "df.isnull().sum()"
   ]
  },
  {
   "cell_type": "markdown",
   "metadata": {
    "id": "z5UTIfm1Gltw"
   },
   "source": [
    "#### Manually checking for 'None' Values"
   ]
  },
  {
   "cell_type": "code",
   "execution_count": 91,
   "metadata": {
    "colab": {
     "base_uri": "https://localhost:8080/"
    },
    "id": "WS86WdfRGltx",
    "outputId": "9f085b03-68f7-4050-a9ab-c3db4395ff4c"
   },
   "outputs": [
    {
     "name": "stdout",
     "output_type": "stream",
     "text": [
      "label: listing_type has 0 None values \n",
      "label: bedrooms has 8 None values \n",
      "label: bathrooms has 212 None values \n",
      "label: area has 6 None values \n",
      "label: price has 0 None values \n",
      "label: location has 0 None values \n",
      "label: description has 0 None values \n"
     ]
    }
   ],
   "source": [
    "for label, content in df.items():\n",
    "    print(f\"label: {label} has {content.str.contains('None').sum()} None values \")"
   ]
  },
  {
   "cell_type": "markdown",
   "metadata": {
    "id": "lkTeLYMMGltx"
   },
   "source": [
    "### Switching None values to NaN "
   ]
  },
  {
   "cell_type": "code",
   "execution_count": 92,
   "metadata": {
    "colab": {
     "base_uri": "https://localhost:8080/"
    },
    "id": "hPT4OewnGlty",
    "outputId": "b0cb8964-db57-424a-c17c-b85bf317fcb8"
   },
   "outputs": [],
   "source": [
    "df.loc[:,'bedrooms'] = df['bedrooms'].replace(\"None\", np.nan , regex=True)\n",
    "df.loc[:,'bathrooms'] = df['bathrooms'].replace(\"None\", np.nan , regex=True)\n",
    "df.loc[:,'area'] = df['area'].replace(\"None\", np.nan , regex=True)\n",
    "df.loc[:,'price'] = df['price'].replace(\"None\", np.nan , regex=True)"
   ]
  },
  {
   "cell_type": "code",
   "execution_count": 93,
   "metadata": {
    "colab": {
     "base_uri": "https://localhost:8080/"
    },
    "id": "uhc4XG6eGlty",
    "outputId": "8b2fd6c7-dce8-41c5-885d-9920ac21acee"
   },
   "outputs": [
    {
     "data": {
      "text/plain": [
       "listing_type      0\n",
       "bedrooms          8\n",
       "bathrooms       212\n",
       "area              6\n",
       "price             0\n",
       "location          0\n",
       "description       0\n",
       "dtype: int64"
      ]
     },
     "execution_count": 93,
     "metadata": {},
     "output_type": "execute_result"
    }
   ],
   "source": [
    "df.isnull().sum()"
   ]
  },
  {
   "cell_type": "markdown",
   "metadata": {
    "id": "rGEMjHrpGltz"
   },
   "source": [
    "#### We can observe \"bathrooms\" having the highest number of missing values"
   ]
  },
  {
   "cell_type": "markdown",
   "metadata": {
    "id": "20f-Po4MGltz"
   },
   "source": [
    "### Drop missing values\n",
    "missing values only account to 1.5% of our original data, so we decided to drop them"
   ]
  },
  {
   "cell_type": "code",
   "execution_count": 94,
   "metadata": {
    "colab": {
     "base_uri": "https://localhost:8080/",
     "height": 0
    },
    "id": "OmoyhDg0Glt0",
    "outputId": "815c04c1-948f-4e1a-fa2e-cd09e241b7ec"
   },
   "outputs": [
    {
     "data": {
      "text/html": [
       "<div>\n",
       "<style scoped>\n",
       "    .dataframe tbody tr th:only-of-type {\n",
       "        vertical-align: middle;\n",
       "    }\n",
       "\n",
       "    .dataframe tbody tr th {\n",
       "        vertical-align: top;\n",
       "    }\n",
       "\n",
       "    .dataframe thead th {\n",
       "        text-align: right;\n",
       "    }\n",
       "</style>\n",
       "<table border=\"1\" class=\"dataframe\">\n",
       "  <thead>\n",
       "    <tr style=\"text-align: right;\">\n",
       "      <th></th>\n",
       "      <th>listing_type</th>\n",
       "      <th>bedrooms</th>\n",
       "      <th>bathrooms</th>\n",
       "      <th>area</th>\n",
       "      <th>price</th>\n",
       "      <th>location</th>\n",
       "      <th>description</th>\n",
       "    </tr>\n",
       "  </thead>\n",
       "  <tbody>\n",
       "    <tr>\n",
       "      <th>0</th>\n",
       "      <td>Townhouse</td>\n",
       "      <td>4</td>\n",
       "      <td>4</td>\n",
       "      <td>2,165 sqft</td>\n",
       "      <td>135,000 AED/year</td>\n",
       "      <td>Maple 2- Maple at Dubai Hills Estate- Dubai Hi...</td>\n",
       "      <td>Brought to you by Driven Properties- this 4 Be...</td>\n",
       "    </tr>\n",
       "    <tr>\n",
       "      <th>1</th>\n",
       "      <td>Apartment</td>\n",
       "      <td>2</td>\n",
       "      <td>3</td>\n",
       "      <td>1,602 sqft</td>\n",
       "      <td>Ask for price</td>\n",
       "      <td>Golden Sands 14- Mankhool- Bur Dubai- Dubai</td>\n",
       "      <td>Unprecedented Luxury | Unique Blend of Hospita...</td>\n",
       "    </tr>\n",
       "    <tr>\n",
       "      <th>2</th>\n",
       "      <td>Apartment</td>\n",
       "      <td>1</td>\n",
       "      <td>2</td>\n",
       "      <td>927 sqft</td>\n",
       "      <td>145,000 AED/year</td>\n",
       "      <td>The Address Downtown Hotel- Downtown Dubai- Dubai</td>\n",
       "      <td>Brought to you by Driven Properties- this 1 Be...</td>\n",
       "    </tr>\n",
       "    <tr>\n",
       "      <th>3</th>\n",
       "      <td>Apartment</td>\n",
       "      <td>2</td>\n",
       "      <td>2</td>\n",
       "      <td>1,085 sqft</td>\n",
       "      <td>110,000 AED/year</td>\n",
       "      <td>The Fairways North- The Fairways- The Views- D...</td>\n",
       "      <td>We are very proud to present to you with this ...</td>\n",
       "    </tr>\n",
       "    <tr>\n",
       "      <th>4</th>\n",
       "      <td>Apartment</td>\n",
       "      <td>1</td>\n",
       "      <td>2</td>\n",
       "      <td>857 sqft</td>\n",
       "      <td>53,999 AED/year</td>\n",
       "      <td>Vincitore Boulevard- Arjan- Dubai</td>\n",
       "      <td>AZCO REAL ESTATE BROKERS LLC is excited to bri...</td>\n",
       "    </tr>\n",
       "    <tr>\n",
       "      <th>...</th>\n",
       "      <td>...</td>\n",
       "      <td>...</td>\n",
       "      <td>...</td>\n",
       "      <td>...</td>\n",
       "      <td>...</td>\n",
       "      <td>...</td>\n",
       "      <td>...</td>\n",
       "    </tr>\n",
       "    <tr>\n",
       "      <th>16252</th>\n",
       "      <td>Villa</td>\n",
       "      <td>3</td>\n",
       "      <td>4</td>\n",
       "      <td>3,063 sqft</td>\n",
       "      <td>209,999 AED/year</td>\n",
       "      <td>Legacy- Jumeirah Park- Dubai</td>\n",
       "      <td>- Legacy Style Villa\\t- All White Goods includ...</td>\n",
       "    </tr>\n",
       "    <tr>\n",
       "      <th>16254</th>\n",
       "      <td>Apartment</td>\n",
       "      <td>3</td>\n",
       "      <td>4</td>\n",
       "      <td>2,012 sqft</td>\n",
       "      <td>150,000 AED/year</td>\n",
       "      <td>The Flagship Two- Al Satwa- Dubai</td>\n",
       "      <td>The Flagship Two - Jumeirah Garden City Satwa\\...</td>\n",
       "    </tr>\n",
       "    <tr>\n",
       "      <th>16255</th>\n",
       "      <td>Apartment</td>\n",
       "      <td>2</td>\n",
       "      <td>3</td>\n",
       "      <td>1,390 sqft</td>\n",
       "      <td>125,000 AED/year</td>\n",
       "      <td>Burj Al Salam- Sheikh Zayed Road- Dubai</td>\n",
       "      <td>Excel Properties brings you this fully furnish...</td>\n",
       "    </tr>\n",
       "    <tr>\n",
       "      <th>16256</th>\n",
       "      <td>Townhouse</td>\n",
       "      <td>3</td>\n",
       "      <td>1</td>\n",
       "      <td>1,881 sqft</td>\n",
       "      <td>69,999 AED/year</td>\n",
       "      <td>Casablanca Boutique Villas- Coursetia- Akoya- ...</td>\n",
       "      <td>Amazing Brand New  3 Bedroom with Maids Room\\t...</td>\n",
       "    </tr>\n",
       "    <tr>\n",
       "      <th>16257</th>\n",
       "      <td>Apartment</td>\n",
       "      <td>2</td>\n",
       "      <td>4</td>\n",
       "      <td>1,412 sqft</td>\n",
       "      <td>110,000 AED/year</td>\n",
       "      <td>The Flagship Two- Al Satwa- Dubai</td>\n",
       "      <td>The Flagship Two - Jumeirah Garden City Satwa\\...</td>\n",
       "    </tr>\n",
       "  </tbody>\n",
       "</table>\n",
       "<p>12781 rows × 7 columns</p>\n",
       "</div>"
      ],
      "text/plain": [
       "      listing_type bedrooms bathrooms        area             price  \\\n",
       "0        Townhouse        4         4  2,165 sqft  135,000 AED/year   \n",
       "1        Apartment        2         3  1,602 sqft     Ask for price   \n",
       "2        Apartment        1         2    927 sqft  145,000 AED/year   \n",
       "3        Apartment        2         2  1,085 sqft  110,000 AED/year   \n",
       "4        Apartment        1         2    857 sqft   53,999 AED/year   \n",
       "...            ...      ...       ...         ...               ...   \n",
       "16252        Villa        3         4  3,063 sqft  209,999 AED/year   \n",
       "16254    Apartment        3         4  2,012 sqft  150,000 AED/year   \n",
       "16255    Apartment        2         3  1,390 sqft  125,000 AED/year   \n",
       "16256    Townhouse        3         1  1,881 sqft   69,999 AED/year   \n",
       "16257    Apartment        2         4  1,412 sqft  110,000 AED/year   \n",
       "\n",
       "                                                location  \\\n",
       "0      Maple 2- Maple at Dubai Hills Estate- Dubai Hi...   \n",
       "1            Golden Sands 14- Mankhool- Bur Dubai- Dubai   \n",
       "2      The Address Downtown Hotel- Downtown Dubai- Dubai   \n",
       "3      The Fairways North- The Fairways- The Views- D...   \n",
       "4                      Vincitore Boulevard- Arjan- Dubai   \n",
       "...                                                  ...   \n",
       "16252                       Legacy- Jumeirah Park- Dubai   \n",
       "16254                  The Flagship Two- Al Satwa- Dubai   \n",
       "16255            Burj Al Salam- Sheikh Zayed Road- Dubai   \n",
       "16256  Casablanca Boutique Villas- Coursetia- Akoya- ...   \n",
       "16257                  The Flagship Two- Al Satwa- Dubai   \n",
       "\n",
       "                                             description  \n",
       "0      Brought to you by Driven Properties- this 4 Be...  \n",
       "1      Unprecedented Luxury | Unique Blend of Hospita...  \n",
       "2      Brought to you by Driven Properties- this 1 Be...  \n",
       "3      We are very proud to present to you with this ...  \n",
       "4      AZCO REAL ESTATE BROKERS LLC is excited to bri...  \n",
       "...                                                  ...  \n",
       "16252  - Legacy Style Villa\\t- All White Goods includ...  \n",
       "16254  The Flagship Two - Jumeirah Garden City Satwa\\...  \n",
       "16255  Excel Properties brings you this fully furnish...  \n",
       "16256  Amazing Brand New  3 Bedroom with Maids Room\\t...  \n",
       "16257  The Flagship Two - Jumeirah Garden City Satwa\\...  \n",
       "\n",
       "[12781 rows x 7 columns]"
      ]
     },
     "execution_count": 94,
     "metadata": {},
     "output_type": "execute_result"
    }
   ],
   "source": [
    "df = df.dropna()\n",
    "df"
   ]
  },
  {
   "cell_type": "markdown",
   "metadata": {
    "id": "Q6wWmy4nGlt0"
   },
   "source": [
    "# Cleaning and preprocessing data"
   ]
  },
  {
   "cell_type": "markdown",
   "metadata": {
    "id": "yzpglDS4Glt1"
   },
   "source": [
    "## Price Column"
   ]
  },
  {
   "cell_type": "code",
   "execution_count": 95,
   "metadata": {
    "colab": {
     "base_uri": "https://localhost:8080/",
     "height": 0
    },
    "id": "mxFbDBddGlt1",
    "outputId": "23f472f3-7391-41e6-961b-3391007e0ca3"
   },
   "outputs": [
    {
     "data": {
      "text/html": [
       "<div>\n",
       "<style scoped>\n",
       "    .dataframe tbody tr th:only-of-type {\n",
       "        vertical-align: middle;\n",
       "    }\n",
       "\n",
       "    .dataframe tbody tr th {\n",
       "        vertical-align: top;\n",
       "    }\n",
       "\n",
       "    .dataframe thead th {\n",
       "        text-align: right;\n",
       "    }\n",
       "</style>\n",
       "<table border=\"1\" class=\"dataframe\">\n",
       "  <thead>\n",
       "    <tr style=\"text-align: right;\">\n",
       "      <th></th>\n",
       "      <th>listing_type</th>\n",
       "      <th>bedrooms</th>\n",
       "      <th>bathrooms</th>\n",
       "      <th>area</th>\n",
       "      <th>price</th>\n",
       "      <th>location</th>\n",
       "      <th>description</th>\n",
       "    </tr>\n",
       "  </thead>\n",
       "  <tbody>\n",
       "    <tr>\n",
       "      <th>0</th>\n",
       "      <td>Townhouse</td>\n",
       "      <td>4</td>\n",
       "      <td>4</td>\n",
       "      <td>2,165 sqft</td>\n",
       "      <td>135,000 AED/year</td>\n",
       "      <td>Maple 2- Maple at Dubai Hills Estate- Dubai Hi...</td>\n",
       "      <td>Brought to you by Driven Properties- this 4 Be...</td>\n",
       "    </tr>\n",
       "    <tr>\n",
       "      <th>1</th>\n",
       "      <td>Apartment</td>\n",
       "      <td>2</td>\n",
       "      <td>3</td>\n",
       "      <td>1,602 sqft</td>\n",
       "      <td>Ask for price</td>\n",
       "      <td>Golden Sands 14- Mankhool- Bur Dubai- Dubai</td>\n",
       "      <td>Unprecedented Luxury | Unique Blend of Hospita...</td>\n",
       "    </tr>\n",
       "    <tr>\n",
       "      <th>2</th>\n",
       "      <td>Apartment</td>\n",
       "      <td>1</td>\n",
       "      <td>2</td>\n",
       "      <td>927 sqft</td>\n",
       "      <td>145,000 AED/year</td>\n",
       "      <td>The Address Downtown Hotel- Downtown Dubai- Dubai</td>\n",
       "      <td>Brought to you by Driven Properties- this 1 Be...</td>\n",
       "    </tr>\n",
       "    <tr>\n",
       "      <th>3</th>\n",
       "      <td>Apartment</td>\n",
       "      <td>2</td>\n",
       "      <td>2</td>\n",
       "      <td>1,085 sqft</td>\n",
       "      <td>110,000 AED/year</td>\n",
       "      <td>The Fairways North- The Fairways- The Views- D...</td>\n",
       "      <td>We are very proud to present to you with this ...</td>\n",
       "    </tr>\n",
       "    <tr>\n",
       "      <th>4</th>\n",
       "      <td>Apartment</td>\n",
       "      <td>1</td>\n",
       "      <td>2</td>\n",
       "      <td>857 sqft</td>\n",
       "      <td>53,999 AED/year</td>\n",
       "      <td>Vincitore Boulevard- Arjan- Dubai</td>\n",
       "      <td>AZCO REAL ESTATE BROKERS LLC is excited to bri...</td>\n",
       "    </tr>\n",
       "    <tr>\n",
       "      <th>...</th>\n",
       "      <td>...</td>\n",
       "      <td>...</td>\n",
       "      <td>...</td>\n",
       "      <td>...</td>\n",
       "      <td>...</td>\n",
       "      <td>...</td>\n",
       "      <td>...</td>\n",
       "    </tr>\n",
       "    <tr>\n",
       "      <th>16252</th>\n",
       "      <td>Villa</td>\n",
       "      <td>3</td>\n",
       "      <td>4</td>\n",
       "      <td>3,063 sqft</td>\n",
       "      <td>209,999 AED/year</td>\n",
       "      <td>Legacy- Jumeirah Park- Dubai</td>\n",
       "      <td>- Legacy Style Villa\\t- All White Goods includ...</td>\n",
       "    </tr>\n",
       "    <tr>\n",
       "      <th>16254</th>\n",
       "      <td>Apartment</td>\n",
       "      <td>3</td>\n",
       "      <td>4</td>\n",
       "      <td>2,012 sqft</td>\n",
       "      <td>150,000 AED/year</td>\n",
       "      <td>The Flagship Two- Al Satwa- Dubai</td>\n",
       "      <td>The Flagship Two - Jumeirah Garden City Satwa\\...</td>\n",
       "    </tr>\n",
       "    <tr>\n",
       "      <th>16255</th>\n",
       "      <td>Apartment</td>\n",
       "      <td>2</td>\n",
       "      <td>3</td>\n",
       "      <td>1,390 sqft</td>\n",
       "      <td>125,000 AED/year</td>\n",
       "      <td>Burj Al Salam- Sheikh Zayed Road- Dubai</td>\n",
       "      <td>Excel Properties brings you this fully furnish...</td>\n",
       "    </tr>\n",
       "    <tr>\n",
       "      <th>16256</th>\n",
       "      <td>Townhouse</td>\n",
       "      <td>3</td>\n",
       "      <td>1</td>\n",
       "      <td>1,881 sqft</td>\n",
       "      <td>69,999 AED/year</td>\n",
       "      <td>Casablanca Boutique Villas- Coursetia- Akoya- ...</td>\n",
       "      <td>Amazing Brand New  3 Bedroom with Maids Room\\t...</td>\n",
       "    </tr>\n",
       "    <tr>\n",
       "      <th>16257</th>\n",
       "      <td>Apartment</td>\n",
       "      <td>2</td>\n",
       "      <td>4</td>\n",
       "      <td>1,412 sqft</td>\n",
       "      <td>110,000 AED/year</td>\n",
       "      <td>The Flagship Two- Al Satwa- Dubai</td>\n",
       "      <td>The Flagship Two - Jumeirah Garden City Satwa\\...</td>\n",
       "    </tr>\n",
       "  </tbody>\n",
       "</table>\n",
       "<p>12781 rows × 7 columns</p>\n",
       "</div>"
      ],
      "text/plain": [
       "      listing_type bedrooms bathrooms        area             price  \\\n",
       "0        Townhouse        4         4  2,165 sqft  135,000 AED/year   \n",
       "1        Apartment        2         3  1,602 sqft     Ask for price   \n",
       "2        Apartment        1         2    927 sqft  145,000 AED/year   \n",
       "3        Apartment        2         2  1,085 sqft  110,000 AED/year   \n",
       "4        Apartment        1         2    857 sqft   53,999 AED/year   \n",
       "...            ...      ...       ...         ...               ...   \n",
       "16252        Villa        3         4  3,063 sqft  209,999 AED/year   \n",
       "16254    Apartment        3         4  2,012 sqft  150,000 AED/year   \n",
       "16255    Apartment        2         3  1,390 sqft  125,000 AED/year   \n",
       "16256    Townhouse        3         1  1,881 sqft   69,999 AED/year   \n",
       "16257    Apartment        2         4  1,412 sqft  110,000 AED/year   \n",
       "\n",
       "                                                location  \\\n",
       "0      Maple 2- Maple at Dubai Hills Estate- Dubai Hi...   \n",
       "1            Golden Sands 14- Mankhool- Bur Dubai- Dubai   \n",
       "2      The Address Downtown Hotel- Downtown Dubai- Dubai   \n",
       "3      The Fairways North- The Fairways- The Views- D...   \n",
       "4                      Vincitore Boulevard- Arjan- Dubai   \n",
       "...                                                  ...   \n",
       "16252                       Legacy- Jumeirah Park- Dubai   \n",
       "16254                  The Flagship Two- Al Satwa- Dubai   \n",
       "16255            Burj Al Salam- Sheikh Zayed Road- Dubai   \n",
       "16256  Casablanca Boutique Villas- Coursetia- Akoya- ...   \n",
       "16257                  The Flagship Two- Al Satwa- Dubai   \n",
       "\n",
       "                                             description  \n",
       "0      Brought to you by Driven Properties- this 4 Be...  \n",
       "1      Unprecedented Luxury | Unique Blend of Hospita...  \n",
       "2      Brought to you by Driven Properties- this 1 Be...  \n",
       "3      We are very proud to present to you with this ...  \n",
       "4      AZCO REAL ESTATE BROKERS LLC is excited to bri...  \n",
       "...                                                  ...  \n",
       "16252  - Legacy Style Villa\\t- All White Goods includ...  \n",
       "16254  The Flagship Two - Jumeirah Garden City Satwa\\...  \n",
       "16255  Excel Properties brings you this fully furnish...  \n",
       "16256  Amazing Brand New  3 Bedroom with Maids Room\\t...  \n",
       "16257  The Flagship Two - Jumeirah Garden City Satwa\\...  \n",
       "\n",
       "[12781 rows x 7 columns]"
      ]
     },
     "execution_count": 95,
     "metadata": {},
     "output_type": "execute_result"
    }
   ],
   "source": [
    "df"
   ]
  },
  {
   "cell_type": "markdown",
   "metadata": {
    "id": "gYdU7xUwGlt2"
   },
   "source": [
    "We need to remove AED/year and rows that have 'ask for price' "
   ]
  },
  {
   "cell_type": "markdown",
   "metadata": {
    "id": "a4GM1FWHGlt2"
   },
   "source": [
    "### Remove AED/year from price AND 'ask for price' entries"
   ]
  },
  {
   "cell_type": "markdown",
   "metadata": {
    "id": "5o9qKiA8Glt2"
   },
   "source": [
    "Ask for price entries were removed because the price is our target attribute and so \n",
    "\n",
    "using techniques to fill 'ask for price' with an estimated number would take away from the accuracy of the model"
   ]
  },
  {
   "cell_type": "code",
   "execution_count": 96,
   "metadata": {
    "colab": {
     "base_uri": "https://localhost:8080/",
     "height": 0
    },
    "id": "XmJqznHQGlt3",
    "outputId": "623273c6-2f77-49af-dce6-a2bc6b1e05f1"
   },
   "outputs": [
    {
     "name": "stderr",
     "output_type": "stream",
     "text": [
      "/Users/zeinathabet/opt/anaconda3/lib/python3.7/site-packages/pandas/core/series.py:4515: SettingWithCopyWarning: \n",
      "A value is trying to be set on a copy of a slice from a DataFrame\n",
      "\n",
      "See the caveats in the documentation: https://pandas.pydata.org/pandas-docs/stable/user_guide/indexing.html#returning-a-view-versus-a-copy\n",
      "  method=method,\n"
     ]
    },
    {
     "data": {
      "text/html": [
       "<div>\n",
       "<style scoped>\n",
       "    .dataframe tbody tr th:only-of-type {\n",
       "        vertical-align: middle;\n",
       "    }\n",
       "\n",
       "    .dataframe tbody tr th {\n",
       "        vertical-align: top;\n",
       "    }\n",
       "\n",
       "    .dataframe thead th {\n",
       "        text-align: right;\n",
       "    }\n",
       "</style>\n",
       "<table border=\"1\" class=\"dataframe\">\n",
       "  <thead>\n",
       "    <tr style=\"text-align: right;\">\n",
       "      <th></th>\n",
       "      <th>listing_type</th>\n",
       "      <th>bedrooms</th>\n",
       "      <th>bathrooms</th>\n",
       "      <th>area</th>\n",
       "      <th>price</th>\n",
       "      <th>location</th>\n",
       "      <th>description</th>\n",
       "    </tr>\n",
       "  </thead>\n",
       "  <tbody>\n",
       "    <tr>\n",
       "      <th>0</th>\n",
       "      <td>Townhouse</td>\n",
       "      <td>4</td>\n",
       "      <td>4</td>\n",
       "      <td>2,165 sqft</td>\n",
       "      <td>135000</td>\n",
       "      <td>Maple 2- Maple at Dubai Hills Estate- Dubai Hi...</td>\n",
       "      <td>Brought to you by Driven Properties- this 4 Be...</td>\n",
       "    </tr>\n",
       "    <tr>\n",
       "      <th>2</th>\n",
       "      <td>Apartment</td>\n",
       "      <td>1</td>\n",
       "      <td>2</td>\n",
       "      <td>927 sqft</td>\n",
       "      <td>145000</td>\n",
       "      <td>The Address Downtown Hotel- Downtown Dubai- Dubai</td>\n",
       "      <td>Brought to you by Driven Properties- this 1 Be...</td>\n",
       "    </tr>\n",
       "    <tr>\n",
       "      <th>3</th>\n",
       "      <td>Apartment</td>\n",
       "      <td>2</td>\n",
       "      <td>2</td>\n",
       "      <td>1,085 sqft</td>\n",
       "      <td>110000</td>\n",
       "      <td>The Fairways North- The Fairways- The Views- D...</td>\n",
       "      <td>We are very proud to present to you with this ...</td>\n",
       "    </tr>\n",
       "    <tr>\n",
       "      <th>4</th>\n",
       "      <td>Apartment</td>\n",
       "      <td>1</td>\n",
       "      <td>2</td>\n",
       "      <td>857 sqft</td>\n",
       "      <td>53999</td>\n",
       "      <td>Vincitore Boulevard- Arjan- Dubai</td>\n",
       "      <td>AZCO REAL ESTATE BROKERS LLC is excited to bri...</td>\n",
       "    </tr>\n",
       "    <tr>\n",
       "      <th>5</th>\n",
       "      <td>Apartment</td>\n",
       "      <td>studio</td>\n",
       "      <td>1</td>\n",
       "      <td>511 sqft</td>\n",
       "      <td>36999</td>\n",
       "      <td>Vincitore Boulevard- Arjan- Dubai</td>\n",
       "      <td>AZCO REAL ESTATE BROKERS LLC is excited to bri...</td>\n",
       "    </tr>\n",
       "    <tr>\n",
       "      <th>...</th>\n",
       "      <td>...</td>\n",
       "      <td>...</td>\n",
       "      <td>...</td>\n",
       "      <td>...</td>\n",
       "      <td>...</td>\n",
       "      <td>...</td>\n",
       "      <td>...</td>\n",
       "    </tr>\n",
       "    <tr>\n",
       "      <th>16252</th>\n",
       "      <td>Villa</td>\n",
       "      <td>3</td>\n",
       "      <td>4</td>\n",
       "      <td>3,063 sqft</td>\n",
       "      <td>209999</td>\n",
       "      <td>Legacy- Jumeirah Park- Dubai</td>\n",
       "      <td>- Legacy Style Villa\\t- All White Goods includ...</td>\n",
       "    </tr>\n",
       "    <tr>\n",
       "      <th>16254</th>\n",
       "      <td>Apartment</td>\n",
       "      <td>3</td>\n",
       "      <td>4</td>\n",
       "      <td>2,012 sqft</td>\n",
       "      <td>150000</td>\n",
       "      <td>The Flagship Two- Al Satwa- Dubai</td>\n",
       "      <td>The Flagship Two - Jumeirah Garden City Satwa\\...</td>\n",
       "    </tr>\n",
       "    <tr>\n",
       "      <th>16255</th>\n",
       "      <td>Apartment</td>\n",
       "      <td>2</td>\n",
       "      <td>3</td>\n",
       "      <td>1,390 sqft</td>\n",
       "      <td>125000</td>\n",
       "      <td>Burj Al Salam- Sheikh Zayed Road- Dubai</td>\n",
       "      <td>Excel Properties brings you this fully furnish...</td>\n",
       "    </tr>\n",
       "    <tr>\n",
       "      <th>16256</th>\n",
       "      <td>Townhouse</td>\n",
       "      <td>3</td>\n",
       "      <td>1</td>\n",
       "      <td>1,881 sqft</td>\n",
       "      <td>69999</td>\n",
       "      <td>Casablanca Boutique Villas- Coursetia- Akoya- ...</td>\n",
       "      <td>Amazing Brand New  3 Bedroom with Maids Room\\t...</td>\n",
       "    </tr>\n",
       "    <tr>\n",
       "      <th>16257</th>\n",
       "      <td>Apartment</td>\n",
       "      <td>2</td>\n",
       "      <td>4</td>\n",
       "      <td>1,412 sqft</td>\n",
       "      <td>110000</td>\n",
       "      <td>The Flagship Two- Al Satwa- Dubai</td>\n",
       "      <td>The Flagship Two - Jumeirah Garden City Satwa\\...</td>\n",
       "    </tr>\n",
       "  </tbody>\n",
       "</table>\n",
       "<p>12619 rows × 7 columns</p>\n",
       "</div>"
      ],
      "text/plain": [
       "      listing_type bedrooms bathrooms        area    price  \\\n",
       "0        Townhouse        4         4  2,165 sqft  135000    \n",
       "2        Apartment        1         2    927 sqft  145000    \n",
       "3        Apartment        2         2  1,085 sqft  110000    \n",
       "4        Apartment        1         2    857 sqft   53999    \n",
       "5        Apartment   studio         1    511 sqft   36999    \n",
       "...            ...      ...       ...         ...      ...   \n",
       "16252        Villa        3         4  3,063 sqft  209999    \n",
       "16254    Apartment        3         4  2,012 sqft  150000    \n",
       "16255    Apartment        2         3  1,390 sqft  125000    \n",
       "16256    Townhouse        3         1  1,881 sqft   69999    \n",
       "16257    Apartment        2         4  1,412 sqft  110000    \n",
       "\n",
       "                                                location  \\\n",
       "0      Maple 2- Maple at Dubai Hills Estate- Dubai Hi...   \n",
       "2      The Address Downtown Hotel- Downtown Dubai- Dubai   \n",
       "3      The Fairways North- The Fairways- The Views- D...   \n",
       "4                      Vincitore Boulevard- Arjan- Dubai   \n",
       "5                      Vincitore Boulevard- Arjan- Dubai   \n",
       "...                                                  ...   \n",
       "16252                       Legacy- Jumeirah Park- Dubai   \n",
       "16254                  The Flagship Two- Al Satwa- Dubai   \n",
       "16255            Burj Al Salam- Sheikh Zayed Road- Dubai   \n",
       "16256  Casablanca Boutique Villas- Coursetia- Akoya- ...   \n",
       "16257                  The Flagship Two- Al Satwa- Dubai   \n",
       "\n",
       "                                             description  \n",
       "0      Brought to you by Driven Properties- this 4 Be...  \n",
       "2      Brought to you by Driven Properties- this 1 Be...  \n",
       "3      We are very proud to present to you with this ...  \n",
       "4      AZCO REAL ESTATE BROKERS LLC is excited to bri...  \n",
       "5      AZCO REAL ESTATE BROKERS LLC is excited to bri...  \n",
       "...                                                  ...  \n",
       "16252  - Legacy Style Villa\\t- All White Goods includ...  \n",
       "16254  The Flagship Two - Jumeirah Garden City Satwa\\...  \n",
       "16255  Excel Properties brings you this fully furnish...  \n",
       "16256  Amazing Brand New  3 Bedroom with Maids Room\\t...  \n",
       "16257  The Flagship Two - Jumeirah Garden City Satwa\\...  \n",
       "\n",
       "[12619 rows x 7 columns]"
      ]
     },
     "execution_count": 96,
     "metadata": {},
     "output_type": "execute_result"
    }
   ],
   "source": [
    "# df['price'].replace(regex=True,inplace=True,to_replace=r'\\D',value=r'')\n",
    "\n",
    "# removing AED/year\n",
    "df.loc[:,'price'].replace(regex = True, inplace=True, to_replace=r'(AED\\/year)+', value=r'')\n",
    "\n",
    "# removing commas\n",
    "df.loc[:,'price'].replace(regex = True,inplace=True, to_replace=r'(,)+', value=r'')\n",
    "\n",
    "# dropping rows that contain 'ask for price'\n",
    "df = df[~(df['price'].str.contains(\"price\"))]\n",
    "df"
   ]
  },
  {
   "cell_type": "markdown",
   "metadata": {
    "id": "X9bIVL8sGlt3"
   },
   "source": [
    "### Changing data type from object to float"
   ]
  },
  {
   "cell_type": "code",
   "execution_count": 97,
   "metadata": {
    "colab": {
     "base_uri": "https://localhost:8080/"
    },
    "id": "cYCgKxVvGlt4",
    "outputId": "8875bfb6-680f-4a45-c585-f6e473262aa1"
   },
   "outputs": [
    {
     "name": "stderr",
     "output_type": "stream",
     "text": [
      "/Users/zeinathabet/opt/anaconda3/lib/python3.7/site-packages/ipykernel_launcher.py:1: SettingWithCopyWarning: \n",
      "A value is trying to be set on a copy of a slice from a DataFrame.\n",
      "Try using .loc[row_indexer,col_indexer] = value instead\n",
      "\n",
      "See the caveats in the documentation: https://pandas.pydata.org/pandas-docs/stable/user_guide/indexing.html#returning-a-view-versus-a-copy\n",
      "  \"\"\"Entry point for launching an IPython kernel.\n"
     ]
    }
   ],
   "source": [
    "df['price'] = df['price'].astype(float)"
   ]
  },
  {
   "cell_type": "code",
   "execution_count": null,
   "metadata": {
    "id": "80VH_qyXGlt4"
   },
   "outputs": [],
   "source": []
  },
  {
   "cell_type": "markdown",
   "metadata": {
    "id": "BUFS3UCFGlt4"
   },
   "source": [
    "## Area Column"
   ]
  },
  {
   "cell_type": "markdown",
   "metadata": {
    "id": "5sMWpHOnGlt5"
   },
   "source": [
    "### Remove sqft"
   ]
  },
  {
   "cell_type": "code",
   "execution_count": 98,
   "metadata": {
    "colab": {
     "base_uri": "https://localhost:8080/",
     "height": 0
    },
    "id": "RlAZN3YmGlt5",
    "outputId": "a4c58b0b-97cf-4059-a845-6ec710af01bc"
   },
   "outputs": [
    {
     "name": "stderr",
     "output_type": "stream",
     "text": [
      "/Users/zeinathabet/opt/anaconda3/lib/python3.7/site-packages/pandas/core/series.py:4515: SettingWithCopyWarning: \n",
      "A value is trying to be set on a copy of a slice from a DataFrame\n",
      "\n",
      "See the caveats in the documentation: https://pandas.pydata.org/pandas-docs/stable/user_guide/indexing.html#returning-a-view-versus-a-copy\n",
      "  method=method,\n"
     ]
    },
    {
     "data": {
      "text/html": [
       "<div>\n",
       "<style scoped>\n",
       "    .dataframe tbody tr th:only-of-type {\n",
       "        vertical-align: middle;\n",
       "    }\n",
       "\n",
       "    .dataframe tbody tr th {\n",
       "        vertical-align: top;\n",
       "    }\n",
       "\n",
       "    .dataframe thead th {\n",
       "        text-align: right;\n",
       "    }\n",
       "</style>\n",
       "<table border=\"1\" class=\"dataframe\">\n",
       "  <thead>\n",
       "    <tr style=\"text-align: right;\">\n",
       "      <th></th>\n",
       "      <th>listing_type</th>\n",
       "      <th>bedrooms</th>\n",
       "      <th>bathrooms</th>\n",
       "      <th>area</th>\n",
       "      <th>price</th>\n",
       "      <th>location</th>\n",
       "      <th>description</th>\n",
       "    </tr>\n",
       "  </thead>\n",
       "  <tbody>\n",
       "    <tr>\n",
       "      <th>0</th>\n",
       "      <td>Townhouse</td>\n",
       "      <td>4</td>\n",
       "      <td>4</td>\n",
       "      <td>2165</td>\n",
       "      <td>135000.0</td>\n",
       "      <td>Maple 2- Maple at Dubai Hills Estate- Dubai Hi...</td>\n",
       "      <td>Brought to you by Driven Properties- this 4 Be...</td>\n",
       "    </tr>\n",
       "    <tr>\n",
       "      <th>2</th>\n",
       "      <td>Apartment</td>\n",
       "      <td>1</td>\n",
       "      <td>2</td>\n",
       "      <td>927</td>\n",
       "      <td>145000.0</td>\n",
       "      <td>The Address Downtown Hotel- Downtown Dubai- Dubai</td>\n",
       "      <td>Brought to you by Driven Properties- this 1 Be...</td>\n",
       "    </tr>\n",
       "    <tr>\n",
       "      <th>3</th>\n",
       "      <td>Apartment</td>\n",
       "      <td>2</td>\n",
       "      <td>2</td>\n",
       "      <td>1085</td>\n",
       "      <td>110000.0</td>\n",
       "      <td>The Fairways North- The Fairways- The Views- D...</td>\n",
       "      <td>We are very proud to present to you with this ...</td>\n",
       "    </tr>\n",
       "    <tr>\n",
       "      <th>4</th>\n",
       "      <td>Apartment</td>\n",
       "      <td>1</td>\n",
       "      <td>2</td>\n",
       "      <td>857</td>\n",
       "      <td>53999.0</td>\n",
       "      <td>Vincitore Boulevard- Arjan- Dubai</td>\n",
       "      <td>AZCO REAL ESTATE BROKERS LLC is excited to bri...</td>\n",
       "    </tr>\n",
       "    <tr>\n",
       "      <th>5</th>\n",
       "      <td>Apartment</td>\n",
       "      <td>studio</td>\n",
       "      <td>1</td>\n",
       "      <td>511</td>\n",
       "      <td>36999.0</td>\n",
       "      <td>Vincitore Boulevard- Arjan- Dubai</td>\n",
       "      <td>AZCO REAL ESTATE BROKERS LLC is excited to bri...</td>\n",
       "    </tr>\n",
       "    <tr>\n",
       "      <th>...</th>\n",
       "      <td>...</td>\n",
       "      <td>...</td>\n",
       "      <td>...</td>\n",
       "      <td>...</td>\n",
       "      <td>...</td>\n",
       "      <td>...</td>\n",
       "      <td>...</td>\n",
       "    </tr>\n",
       "    <tr>\n",
       "      <th>16252</th>\n",
       "      <td>Villa</td>\n",
       "      <td>3</td>\n",
       "      <td>4</td>\n",
       "      <td>3063</td>\n",
       "      <td>209999.0</td>\n",
       "      <td>Legacy- Jumeirah Park- Dubai</td>\n",
       "      <td>- Legacy Style Villa\\t- All White Goods includ...</td>\n",
       "    </tr>\n",
       "    <tr>\n",
       "      <th>16254</th>\n",
       "      <td>Apartment</td>\n",
       "      <td>3</td>\n",
       "      <td>4</td>\n",
       "      <td>2012</td>\n",
       "      <td>150000.0</td>\n",
       "      <td>The Flagship Two- Al Satwa- Dubai</td>\n",
       "      <td>The Flagship Two - Jumeirah Garden City Satwa\\...</td>\n",
       "    </tr>\n",
       "    <tr>\n",
       "      <th>16255</th>\n",
       "      <td>Apartment</td>\n",
       "      <td>2</td>\n",
       "      <td>3</td>\n",
       "      <td>1390</td>\n",
       "      <td>125000.0</td>\n",
       "      <td>Burj Al Salam- Sheikh Zayed Road- Dubai</td>\n",
       "      <td>Excel Properties brings you this fully furnish...</td>\n",
       "    </tr>\n",
       "    <tr>\n",
       "      <th>16256</th>\n",
       "      <td>Townhouse</td>\n",
       "      <td>3</td>\n",
       "      <td>1</td>\n",
       "      <td>1881</td>\n",
       "      <td>69999.0</td>\n",
       "      <td>Casablanca Boutique Villas- Coursetia- Akoya- ...</td>\n",
       "      <td>Amazing Brand New  3 Bedroom with Maids Room\\t...</td>\n",
       "    </tr>\n",
       "    <tr>\n",
       "      <th>16257</th>\n",
       "      <td>Apartment</td>\n",
       "      <td>2</td>\n",
       "      <td>4</td>\n",
       "      <td>1412</td>\n",
       "      <td>110000.0</td>\n",
       "      <td>The Flagship Two- Al Satwa- Dubai</td>\n",
       "      <td>The Flagship Two - Jumeirah Garden City Satwa\\...</td>\n",
       "    </tr>\n",
       "  </tbody>\n",
       "</table>\n",
       "<p>12619 rows × 7 columns</p>\n",
       "</div>"
      ],
      "text/plain": [
       "      listing_type bedrooms bathrooms  area     price  \\\n",
       "0        Townhouse        4         4  2165  135000.0   \n",
       "2        Apartment        1         2   927  145000.0   \n",
       "3        Apartment        2         2  1085  110000.0   \n",
       "4        Apartment        1         2   857   53999.0   \n",
       "5        Apartment   studio         1   511   36999.0   \n",
       "...            ...      ...       ...   ...       ...   \n",
       "16252        Villa        3         4  3063  209999.0   \n",
       "16254    Apartment        3         4  2012  150000.0   \n",
       "16255    Apartment        2         3  1390  125000.0   \n",
       "16256    Townhouse        3         1  1881   69999.0   \n",
       "16257    Apartment        2         4  1412  110000.0   \n",
       "\n",
       "                                                location  \\\n",
       "0      Maple 2- Maple at Dubai Hills Estate- Dubai Hi...   \n",
       "2      The Address Downtown Hotel- Downtown Dubai- Dubai   \n",
       "3      The Fairways North- The Fairways- The Views- D...   \n",
       "4                      Vincitore Boulevard- Arjan- Dubai   \n",
       "5                      Vincitore Boulevard- Arjan- Dubai   \n",
       "...                                                  ...   \n",
       "16252                       Legacy- Jumeirah Park- Dubai   \n",
       "16254                  The Flagship Two- Al Satwa- Dubai   \n",
       "16255            Burj Al Salam- Sheikh Zayed Road- Dubai   \n",
       "16256  Casablanca Boutique Villas- Coursetia- Akoya- ...   \n",
       "16257                  The Flagship Two- Al Satwa- Dubai   \n",
       "\n",
       "                                             description  \n",
       "0      Brought to you by Driven Properties- this 4 Be...  \n",
       "2      Brought to you by Driven Properties- this 1 Be...  \n",
       "3      We are very proud to present to you with this ...  \n",
       "4      AZCO REAL ESTATE BROKERS LLC is excited to bri...  \n",
       "5      AZCO REAL ESTATE BROKERS LLC is excited to bri...  \n",
       "...                                                  ...  \n",
       "16252  - Legacy Style Villa\\t- All White Goods includ...  \n",
       "16254  The Flagship Two - Jumeirah Garden City Satwa\\...  \n",
       "16255  Excel Properties brings you this fully furnish...  \n",
       "16256  Amazing Brand New  3 Bedroom with Maids Room\\t...  \n",
       "16257  The Flagship Two - Jumeirah Garden City Satwa\\...  \n",
       "\n",
       "[12619 rows x 7 columns]"
      ]
     },
     "execution_count": 98,
     "metadata": {},
     "output_type": "execute_result"
    }
   ],
   "source": [
    "df.loc[:,'area'].replace(regex=True,inplace=True,to_replace=r'\\D',value=r'')\n",
    "df"
   ]
  },
  {
   "cell_type": "markdown",
   "metadata": {
    "id": "cREeb8JwGlt6"
   },
   "source": [
    "### Changing data type from object to float"
   ]
  },
  {
   "cell_type": "code",
   "execution_count": 99,
   "metadata": {
    "colab": {
     "base_uri": "https://localhost:8080/"
    },
    "id": "2P3O3bK7Glt6",
    "outputId": "b83d8e36-8703-445a-dd02-23cf6e2cdaad"
   },
   "outputs": [
    {
     "name": "stderr",
     "output_type": "stream",
     "text": [
      "/Users/zeinathabet/opt/anaconda3/lib/python3.7/site-packages/ipykernel_launcher.py:1: SettingWithCopyWarning: \n",
      "A value is trying to be set on a copy of a slice from a DataFrame.\n",
      "Try using .loc[row_indexer,col_indexer] = value instead\n",
      "\n",
      "See the caveats in the documentation: https://pandas.pydata.org/pandas-docs/stable/user_guide/indexing.html#returning-a-view-versus-a-copy\n",
      "  \"\"\"Entry point for launching an IPython kernel.\n"
     ]
    }
   ],
   "source": [
    "df['area'] = df['area'].astype(float)"
   ]
  },
  {
   "cell_type": "markdown",
   "metadata": {
    "id": "3FIeFFu0Glt6"
   },
   "source": [
    "## Checking Outliers for area and price"
   ]
  },
  {
   "cell_type": "code",
   "execution_count": 100,
   "metadata": {
    "colab": {
     "base_uri": "https://localhost:8080/"
    },
    "id": "_84lFEYjGlt7",
    "outputId": "0d254420-138c-4091-8ff1-4fee6e7a590b"
   },
   "outputs": [
    {
     "data": {
      "text/plain": [
       "count      12619.000000\n",
       "mean       99857.164514\n",
       "std       114190.513138\n",
       "min        14989.000000\n",
       "25%        45000.000000\n",
       "50%        75000.000000\n",
       "75%       120000.000000\n",
       "max      3200000.000000\n",
       "Name: price, dtype: object"
      ]
     },
     "execution_count": 100,
     "metadata": {},
     "output_type": "execute_result"
    }
   ],
   "source": [
    "df['price'].astype(float).describe().apply(lambda x: format(x, 'f'))"
   ]
  },
  {
   "cell_type": "code",
   "execution_count": 101,
   "metadata": {
    "colab": {
     "base_uri": "https://localhost:8080/"
    },
    "id": "wV5HQ0YdGlt7",
    "outputId": "5e00b5da-51dc-4ff1-82c8-dd336da93e29"
   },
   "outputs": [
    {
     "data": {
      "text/plain": [
       "count    12619.000000\n",
       "mean      1540.168476\n",
       "std       1477.824495\n",
       "min          1.000000\n",
       "25%        789.000000\n",
       "50%       1162.000000\n",
       "75%       1800.000000\n",
       "max      40916.000000\n",
       "Name: area, dtype: object"
      ]
     },
     "execution_count": 101,
     "metadata": {},
     "output_type": "execute_result"
    }
   ],
   "source": [
    "df['area'].astype(float).describe().apply(lambda x: format(x, 'f'))"
   ]
  },
  {
   "cell_type": "markdown",
   "metadata": {
    "id": "iFU0KicvGlt8"
   },
   "source": [
    "### Price and area zscore "
   ]
  },
  {
   "cell_type": "code",
   "execution_count": 102,
   "metadata": {
    "colab": {
     "base_uri": "https://localhost:8080/"
    },
    "id": "_f1MNs8dGlt8",
    "outputId": "8582272f-9396-4063-8bad-8ac1688e515e"
   },
   "outputs": [
    {
     "name": "stderr",
     "output_type": "stream",
     "text": [
      "/Users/zeinathabet/opt/anaconda3/lib/python3.7/site-packages/ipykernel_launcher.py:1: SettingWithCopyWarning: \n",
      "A value is trying to be set on a copy of a slice from a DataFrame.\n",
      "Try using .loc[row_indexer,col_indexer] = value instead\n",
      "\n",
      "See the caveats in the documentation: https://pandas.pydata.org/pandas-docs/stable/user_guide/indexing.html#returning-a-view-versus-a-copy\n",
      "  \"\"\"Entry point for launching an IPython kernel.\n",
      "/Users/zeinathabet/opt/anaconda3/lib/python3.7/site-packages/ipykernel_launcher.py:2: SettingWithCopyWarning: \n",
      "A value is trying to be set on a copy of a slice from a DataFrame.\n",
      "Try using .loc[row_indexer,col_indexer] = value instead\n",
      "\n",
      "See the caveats in the documentation: https://pandas.pydata.org/pandas-docs/stable/user_guide/indexing.html#returning-a-view-versus-a-copy\n",
      "  \n"
     ]
    }
   ],
   "source": [
    "df['price_zscore'] = ( df.price - df.price.mean() ) / df.price.std()\n",
    "df['area_zscore'] = ( df.area - df.area.mean() ) / df.area.std()"
   ]
  },
  {
   "cell_type": "code",
   "execution_count": 103,
   "metadata": {
    "colab": {
     "base_uri": "https://localhost:8080/"
    },
    "id": "DNUI2uLrGlt8",
    "outputId": "0f971c05-7428-4fed-863e-55fa8c089348"
   },
   "outputs": [
    {
     "data": {
      "text/plain": [
       "0        0.307756\n",
       "2        0.395329\n",
       "3        0.088824\n",
       "4       -0.401593\n",
       "5       -0.550467\n",
       "           ...   \n",
       "16252    0.964545\n",
       "16254    0.439116\n",
       "16255    0.220183\n",
       "16256   -0.261477\n",
       "16257    0.088824\n",
       "Name: price_zscore, Length: 12619, dtype: float64"
      ]
     },
     "execution_count": 103,
     "metadata": {},
     "output_type": "execute_result"
    }
   ],
   "source": [
    "df['price_zscore']"
   ]
  },
  {
   "cell_type": "markdown",
   "metadata": {
    "id": "-Dvt7ZwFGlt9"
   },
   "source": [
    "#### filtering price outliers according to zscore"
   ]
  },
  {
   "cell_type": "code",
   "execution_count": 104,
   "metadata": {
    "colab": {
     "base_uri": "https://localhost:8080/",
     "height": 0
    },
    "id": "Jdh5nrufGlt9",
    "outputId": "b500fd73-a1a3-4a70-a089-0ca2ac2ed14b"
   },
   "outputs": [
    {
     "data": {
      "text/html": [
       "<div>\n",
       "<style scoped>\n",
       "    .dataframe tbody tr th:only-of-type {\n",
       "        vertical-align: middle;\n",
       "    }\n",
       "\n",
       "    .dataframe tbody tr th {\n",
       "        vertical-align: top;\n",
       "    }\n",
       "\n",
       "    .dataframe thead th {\n",
       "        text-align: right;\n",
       "    }\n",
       "</style>\n",
       "<table border=\"1\" class=\"dataframe\">\n",
       "  <thead>\n",
       "    <tr style=\"text-align: right;\">\n",
       "      <th></th>\n",
       "      <th>listing_type</th>\n",
       "      <th>bedrooms</th>\n",
       "      <th>bathrooms</th>\n",
       "      <th>area</th>\n",
       "      <th>price</th>\n",
       "      <th>location</th>\n",
       "      <th>description</th>\n",
       "      <th>price_zscore</th>\n",
       "      <th>area_zscore</th>\n",
       "    </tr>\n",
       "  </thead>\n",
       "  <tbody>\n",
       "    <tr>\n",
       "      <th>0</th>\n",
       "      <td>Townhouse</td>\n",
       "      <td>4</td>\n",
       "      <td>4</td>\n",
       "      <td>2165.0</td>\n",
       "      <td>135000.0</td>\n",
       "      <td>Maple 2- Maple at Dubai Hills Estate- Dubai Hi...</td>\n",
       "      <td>Brought to you by Driven Properties- this 4 Be...</td>\n",
       "      <td>0.307756</td>\n",
       "      <td>0.422805</td>\n",
       "    </tr>\n",
       "    <tr>\n",
       "      <th>2</th>\n",
       "      <td>Apartment</td>\n",
       "      <td>1</td>\n",
       "      <td>2</td>\n",
       "      <td>927.0</td>\n",
       "      <td>145000.0</td>\n",
       "      <td>The Address Downtown Hotel- Downtown Dubai- Dubai</td>\n",
       "      <td>Brought to you by Driven Properties- this 1 Be...</td>\n",
       "      <td>0.395329</td>\n",
       "      <td>-0.414913</td>\n",
       "    </tr>\n",
       "    <tr>\n",
       "      <th>3</th>\n",
       "      <td>Apartment</td>\n",
       "      <td>2</td>\n",
       "      <td>2</td>\n",
       "      <td>1085.0</td>\n",
       "      <td>110000.0</td>\n",
       "      <td>The Fairways North- The Fairways- The Views- D...</td>\n",
       "      <td>We are very proud to present to you with this ...</td>\n",
       "      <td>0.088824</td>\n",
       "      <td>-0.307999</td>\n",
       "    </tr>\n",
       "    <tr>\n",
       "      <th>4</th>\n",
       "      <td>Apartment</td>\n",
       "      <td>1</td>\n",
       "      <td>2</td>\n",
       "      <td>857.0</td>\n",
       "      <td>53999.0</td>\n",
       "      <td>Vincitore Boulevard- Arjan- Dubai</td>\n",
       "      <td>AZCO REAL ESTATE BROKERS LLC is excited to bri...</td>\n",
       "      <td>-0.401593</td>\n",
       "      <td>-0.462280</td>\n",
       "    </tr>\n",
       "    <tr>\n",
       "      <th>5</th>\n",
       "      <td>Apartment</td>\n",
       "      <td>studio</td>\n",
       "      <td>1</td>\n",
       "      <td>511.0</td>\n",
       "      <td>36999.0</td>\n",
       "      <td>Vincitore Boulevard- Arjan- Dubai</td>\n",
       "      <td>AZCO REAL ESTATE BROKERS LLC is excited to bri...</td>\n",
       "      <td>-0.550467</td>\n",
       "      <td>-0.696408</td>\n",
       "    </tr>\n",
       "    <tr>\n",
       "      <th>...</th>\n",
       "      <td>...</td>\n",
       "      <td>...</td>\n",
       "      <td>...</td>\n",
       "      <td>...</td>\n",
       "      <td>...</td>\n",
       "      <td>...</td>\n",
       "      <td>...</td>\n",
       "      <td>...</td>\n",
       "      <td>...</td>\n",
       "    </tr>\n",
       "    <tr>\n",
       "      <th>16252</th>\n",
       "      <td>Villa</td>\n",
       "      <td>3</td>\n",
       "      <td>4</td>\n",
       "      <td>3063.0</td>\n",
       "      <td>209999.0</td>\n",
       "      <td>Legacy- Jumeirah Park- Dubai</td>\n",
       "      <td>- Legacy Style Villa\\t- All White Goods includ...</td>\n",
       "      <td>0.964545</td>\n",
       "      <td>1.030455</td>\n",
       "    </tr>\n",
       "    <tr>\n",
       "      <th>16254</th>\n",
       "      <td>Apartment</td>\n",
       "      <td>3</td>\n",
       "      <td>4</td>\n",
       "      <td>2012.0</td>\n",
       "      <td>150000.0</td>\n",
       "      <td>The Flagship Two- Al Satwa- Dubai</td>\n",
       "      <td>The Flagship Two - Jumeirah Garden City Satwa\\...</td>\n",
       "      <td>0.439116</td>\n",
       "      <td>0.319274</td>\n",
       "    </tr>\n",
       "    <tr>\n",
       "      <th>16255</th>\n",
       "      <td>Apartment</td>\n",
       "      <td>2</td>\n",
       "      <td>3</td>\n",
       "      <td>1390.0</td>\n",
       "      <td>125000.0</td>\n",
       "      <td>Burj Al Salam- Sheikh Zayed Road- Dubai</td>\n",
       "      <td>Excel Properties brings you this fully furnish...</td>\n",
       "      <td>0.220183</td>\n",
       "      <td>-0.101615</td>\n",
       "    </tr>\n",
       "    <tr>\n",
       "      <th>16256</th>\n",
       "      <td>Townhouse</td>\n",
       "      <td>3</td>\n",
       "      <td>1</td>\n",
       "      <td>1881.0</td>\n",
       "      <td>69999.0</td>\n",
       "      <td>Casablanca Boutique Villas- Coursetia- Akoya- ...</td>\n",
       "      <td>Amazing Brand New  3 Bedroom with Maids Room\\t...</td>\n",
       "      <td>-0.261477</td>\n",
       "      <td>0.230631</td>\n",
       "    </tr>\n",
       "    <tr>\n",
       "      <th>16257</th>\n",
       "      <td>Apartment</td>\n",
       "      <td>2</td>\n",
       "      <td>4</td>\n",
       "      <td>1412.0</td>\n",
       "      <td>110000.0</td>\n",
       "      <td>The Flagship Two- Al Satwa- Dubai</td>\n",
       "      <td>The Flagship Two - Jumeirah Garden City Satwa\\...</td>\n",
       "      <td>0.088824</td>\n",
       "      <td>-0.086728</td>\n",
       "    </tr>\n",
       "  </tbody>\n",
       "</table>\n",
       "<p>12471 rows × 9 columns</p>\n",
       "</div>"
      ],
      "text/plain": [
       "      listing_type bedrooms bathrooms    area     price  \\\n",
       "0        Townhouse        4         4  2165.0  135000.0   \n",
       "2        Apartment        1         2   927.0  145000.0   \n",
       "3        Apartment        2         2  1085.0  110000.0   \n",
       "4        Apartment        1         2   857.0   53999.0   \n",
       "5        Apartment   studio         1   511.0   36999.0   \n",
       "...            ...      ...       ...     ...       ...   \n",
       "16252        Villa        3         4  3063.0  209999.0   \n",
       "16254    Apartment        3         4  2012.0  150000.0   \n",
       "16255    Apartment        2         3  1390.0  125000.0   \n",
       "16256    Townhouse        3         1  1881.0   69999.0   \n",
       "16257    Apartment        2         4  1412.0  110000.0   \n",
       "\n",
       "                                                location  \\\n",
       "0      Maple 2- Maple at Dubai Hills Estate- Dubai Hi...   \n",
       "2      The Address Downtown Hotel- Downtown Dubai- Dubai   \n",
       "3      The Fairways North- The Fairways- The Views- D...   \n",
       "4                      Vincitore Boulevard- Arjan- Dubai   \n",
       "5                      Vincitore Boulevard- Arjan- Dubai   \n",
       "...                                                  ...   \n",
       "16252                       Legacy- Jumeirah Park- Dubai   \n",
       "16254                  The Flagship Two- Al Satwa- Dubai   \n",
       "16255            Burj Al Salam- Sheikh Zayed Road- Dubai   \n",
       "16256  Casablanca Boutique Villas- Coursetia- Akoya- ...   \n",
       "16257                  The Flagship Two- Al Satwa- Dubai   \n",
       "\n",
       "                                             description  price_zscore  \\\n",
       "0      Brought to you by Driven Properties- this 4 Be...      0.307756   \n",
       "2      Brought to you by Driven Properties- this 1 Be...      0.395329   \n",
       "3      We are very proud to present to you with this ...      0.088824   \n",
       "4      AZCO REAL ESTATE BROKERS LLC is excited to bri...     -0.401593   \n",
       "5      AZCO REAL ESTATE BROKERS LLC is excited to bri...     -0.550467   \n",
       "...                                                  ...           ...   \n",
       "16252  - Legacy Style Villa\\t- All White Goods includ...      0.964545   \n",
       "16254  The Flagship Two - Jumeirah Garden City Satwa\\...      0.439116   \n",
       "16255  Excel Properties brings you this fully furnish...      0.220183   \n",
       "16256  Amazing Brand New  3 Bedroom with Maids Room\\t...     -0.261477   \n",
       "16257  The Flagship Two - Jumeirah Garden City Satwa\\...      0.088824   \n",
       "\n",
       "       area_zscore  \n",
       "0         0.422805  \n",
       "2        -0.414913  \n",
       "3        -0.307999  \n",
       "4        -0.462280  \n",
       "5        -0.696408  \n",
       "...            ...  \n",
       "16252     1.030455  \n",
       "16254     0.319274  \n",
       "16255    -0.101615  \n",
       "16256     0.230631  \n",
       "16257    -0.086728  \n",
       "\n",
       "[12471 rows x 9 columns]"
      ]
     },
     "execution_count": 104,
     "metadata": {},
     "output_type": "execute_result"
    }
   ],
   "source": [
    "df = df[~((df.price_zscore<-3) | (df.price_zscore>3))]\n",
    "df"
   ]
  },
  {
   "cell_type": "markdown",
   "metadata": {
    "id": "m4OlEoxYGlt-"
   },
   "source": [
    "### Area zscore"
   ]
  },
  {
   "cell_type": "code",
   "execution_count": 105,
   "metadata": {
    "colab": {
     "base_uri": "https://localhost:8080/"
    },
    "id": "w--SEfKCGlt-",
    "outputId": "9e777906-1131-4bab-9bbf-61c30ac2eeba"
   },
   "outputs": [
    {
     "data": {
      "text/plain": [
       "0        0.422805\n",
       "2       -0.414913\n",
       "3       -0.307999\n",
       "4       -0.462280\n",
       "5       -0.696408\n",
       "           ...   \n",
       "16252    1.030455\n",
       "16254    0.319274\n",
       "16255   -0.101615\n",
       "16256    0.230631\n",
       "16257   -0.086728\n",
       "Name: area_zscore, Length: 12471, dtype: float64"
      ]
     },
     "execution_count": 105,
     "metadata": {},
     "output_type": "execute_result"
    }
   ],
   "source": [
    "df['area_zscore']"
   ]
  },
  {
   "cell_type": "code",
   "execution_count": 106,
   "metadata": {
    "colab": {
     "base_uri": "https://localhost:8080/",
     "height": 0
    },
    "id": "5z2R_kcFGlt-",
    "outputId": "18912d4e-92da-4eb7-9130-260d44c8af8f"
   },
   "outputs": [
    {
     "data": {
      "text/html": [
       "<div>\n",
       "<style scoped>\n",
       "    .dataframe tbody tr th:only-of-type {\n",
       "        vertical-align: middle;\n",
       "    }\n",
       "\n",
       "    .dataframe tbody tr th {\n",
       "        vertical-align: top;\n",
       "    }\n",
       "\n",
       "    .dataframe thead th {\n",
       "        text-align: right;\n",
       "    }\n",
       "</style>\n",
       "<table border=\"1\" class=\"dataframe\">\n",
       "  <thead>\n",
       "    <tr style=\"text-align: right;\">\n",
       "      <th></th>\n",
       "      <th>listing_type</th>\n",
       "      <th>bedrooms</th>\n",
       "      <th>bathrooms</th>\n",
       "      <th>area</th>\n",
       "      <th>price</th>\n",
       "      <th>location</th>\n",
       "      <th>description</th>\n",
       "      <th>price_zscore</th>\n",
       "      <th>area_zscore</th>\n",
       "    </tr>\n",
       "  </thead>\n",
       "  <tbody>\n",
       "    <tr>\n",
       "      <th>0</th>\n",
       "      <td>Townhouse</td>\n",
       "      <td>4</td>\n",
       "      <td>4</td>\n",
       "      <td>2165.0</td>\n",
       "      <td>135000.0</td>\n",
       "      <td>Maple 2- Maple at Dubai Hills Estate- Dubai Hi...</td>\n",
       "      <td>Brought to you by Driven Properties- this 4 Be...</td>\n",
       "      <td>0.307756</td>\n",
       "      <td>0.422805</td>\n",
       "    </tr>\n",
       "    <tr>\n",
       "      <th>2</th>\n",
       "      <td>Apartment</td>\n",
       "      <td>1</td>\n",
       "      <td>2</td>\n",
       "      <td>927.0</td>\n",
       "      <td>145000.0</td>\n",
       "      <td>The Address Downtown Hotel- Downtown Dubai- Dubai</td>\n",
       "      <td>Brought to you by Driven Properties- this 1 Be...</td>\n",
       "      <td>0.395329</td>\n",
       "      <td>-0.414913</td>\n",
       "    </tr>\n",
       "    <tr>\n",
       "      <th>3</th>\n",
       "      <td>Apartment</td>\n",
       "      <td>2</td>\n",
       "      <td>2</td>\n",
       "      <td>1085.0</td>\n",
       "      <td>110000.0</td>\n",
       "      <td>The Fairways North- The Fairways- The Views- D...</td>\n",
       "      <td>We are very proud to present to you with this ...</td>\n",
       "      <td>0.088824</td>\n",
       "      <td>-0.307999</td>\n",
       "    </tr>\n",
       "    <tr>\n",
       "      <th>4</th>\n",
       "      <td>Apartment</td>\n",
       "      <td>1</td>\n",
       "      <td>2</td>\n",
       "      <td>857.0</td>\n",
       "      <td>53999.0</td>\n",
       "      <td>Vincitore Boulevard- Arjan- Dubai</td>\n",
       "      <td>AZCO REAL ESTATE BROKERS LLC is excited to bri...</td>\n",
       "      <td>-0.401593</td>\n",
       "      <td>-0.462280</td>\n",
       "    </tr>\n",
       "    <tr>\n",
       "      <th>5</th>\n",
       "      <td>Apartment</td>\n",
       "      <td>studio</td>\n",
       "      <td>1</td>\n",
       "      <td>511.0</td>\n",
       "      <td>36999.0</td>\n",
       "      <td>Vincitore Boulevard- Arjan- Dubai</td>\n",
       "      <td>AZCO REAL ESTATE BROKERS LLC is excited to bri...</td>\n",
       "      <td>-0.550467</td>\n",
       "      <td>-0.696408</td>\n",
       "    </tr>\n",
       "    <tr>\n",
       "      <th>...</th>\n",
       "      <td>...</td>\n",
       "      <td>...</td>\n",
       "      <td>...</td>\n",
       "      <td>...</td>\n",
       "      <td>...</td>\n",
       "      <td>...</td>\n",
       "      <td>...</td>\n",
       "      <td>...</td>\n",
       "      <td>...</td>\n",
       "    </tr>\n",
       "    <tr>\n",
       "      <th>16252</th>\n",
       "      <td>Villa</td>\n",
       "      <td>3</td>\n",
       "      <td>4</td>\n",
       "      <td>3063.0</td>\n",
       "      <td>209999.0</td>\n",
       "      <td>Legacy- Jumeirah Park- Dubai</td>\n",
       "      <td>- Legacy Style Villa\\t- All White Goods includ...</td>\n",
       "      <td>0.964545</td>\n",
       "      <td>1.030455</td>\n",
       "    </tr>\n",
       "    <tr>\n",
       "      <th>16254</th>\n",
       "      <td>Apartment</td>\n",
       "      <td>3</td>\n",
       "      <td>4</td>\n",
       "      <td>2012.0</td>\n",
       "      <td>150000.0</td>\n",
       "      <td>The Flagship Two- Al Satwa- Dubai</td>\n",
       "      <td>The Flagship Two - Jumeirah Garden City Satwa\\...</td>\n",
       "      <td>0.439116</td>\n",
       "      <td>0.319274</td>\n",
       "    </tr>\n",
       "    <tr>\n",
       "      <th>16255</th>\n",
       "      <td>Apartment</td>\n",
       "      <td>2</td>\n",
       "      <td>3</td>\n",
       "      <td>1390.0</td>\n",
       "      <td>125000.0</td>\n",
       "      <td>Burj Al Salam- Sheikh Zayed Road- Dubai</td>\n",
       "      <td>Excel Properties brings you this fully furnish...</td>\n",
       "      <td>0.220183</td>\n",
       "      <td>-0.101615</td>\n",
       "    </tr>\n",
       "    <tr>\n",
       "      <th>16256</th>\n",
       "      <td>Townhouse</td>\n",
       "      <td>3</td>\n",
       "      <td>1</td>\n",
       "      <td>1881.0</td>\n",
       "      <td>69999.0</td>\n",
       "      <td>Casablanca Boutique Villas- Coursetia- Akoya- ...</td>\n",
       "      <td>Amazing Brand New  3 Bedroom with Maids Room\\t...</td>\n",
       "      <td>-0.261477</td>\n",
       "      <td>0.230631</td>\n",
       "    </tr>\n",
       "    <tr>\n",
       "      <th>16257</th>\n",
       "      <td>Apartment</td>\n",
       "      <td>2</td>\n",
       "      <td>4</td>\n",
       "      <td>1412.0</td>\n",
       "      <td>110000.0</td>\n",
       "      <td>The Flagship Two- Al Satwa- Dubai</td>\n",
       "      <td>The Flagship Two - Jumeirah Garden City Satwa\\...</td>\n",
       "      <td>0.088824</td>\n",
       "      <td>-0.086728</td>\n",
       "    </tr>\n",
       "  </tbody>\n",
       "</table>\n",
       "<p>12375 rows × 9 columns</p>\n",
       "</div>"
      ],
      "text/plain": [
       "      listing_type bedrooms bathrooms    area     price  \\\n",
       "0        Townhouse        4         4  2165.0  135000.0   \n",
       "2        Apartment        1         2   927.0  145000.0   \n",
       "3        Apartment        2         2  1085.0  110000.0   \n",
       "4        Apartment        1         2   857.0   53999.0   \n",
       "5        Apartment   studio         1   511.0   36999.0   \n",
       "...            ...      ...       ...     ...       ...   \n",
       "16252        Villa        3         4  3063.0  209999.0   \n",
       "16254    Apartment        3         4  2012.0  150000.0   \n",
       "16255    Apartment        2         3  1390.0  125000.0   \n",
       "16256    Townhouse        3         1  1881.0   69999.0   \n",
       "16257    Apartment        2         4  1412.0  110000.0   \n",
       "\n",
       "                                                location  \\\n",
       "0      Maple 2- Maple at Dubai Hills Estate- Dubai Hi...   \n",
       "2      The Address Downtown Hotel- Downtown Dubai- Dubai   \n",
       "3      The Fairways North- The Fairways- The Views- D...   \n",
       "4                      Vincitore Boulevard- Arjan- Dubai   \n",
       "5                      Vincitore Boulevard- Arjan- Dubai   \n",
       "...                                                  ...   \n",
       "16252                       Legacy- Jumeirah Park- Dubai   \n",
       "16254                  The Flagship Two- Al Satwa- Dubai   \n",
       "16255            Burj Al Salam- Sheikh Zayed Road- Dubai   \n",
       "16256  Casablanca Boutique Villas- Coursetia- Akoya- ...   \n",
       "16257                  The Flagship Two- Al Satwa- Dubai   \n",
       "\n",
       "                                             description  price_zscore  \\\n",
       "0      Brought to you by Driven Properties- this 4 Be...      0.307756   \n",
       "2      Brought to you by Driven Properties- this 1 Be...      0.395329   \n",
       "3      We are very proud to present to you with this ...      0.088824   \n",
       "4      AZCO REAL ESTATE BROKERS LLC is excited to bri...     -0.401593   \n",
       "5      AZCO REAL ESTATE BROKERS LLC is excited to bri...     -0.550467   \n",
       "...                                                  ...           ...   \n",
       "16252  - Legacy Style Villa\\t- All White Goods includ...      0.964545   \n",
       "16254  The Flagship Two - Jumeirah Garden City Satwa\\...      0.439116   \n",
       "16255  Excel Properties brings you this fully furnish...      0.220183   \n",
       "16256  Amazing Brand New  3 Bedroom with Maids Room\\t...     -0.261477   \n",
       "16257  The Flagship Two - Jumeirah Garden City Satwa\\...      0.088824   \n",
       "\n",
       "       area_zscore  \n",
       "0         0.422805  \n",
       "2        -0.414913  \n",
       "3        -0.307999  \n",
       "4        -0.462280  \n",
       "5        -0.696408  \n",
       "...            ...  \n",
       "16252     1.030455  \n",
       "16254     0.319274  \n",
       "16255    -0.101615  \n",
       "16256     0.230631  \n",
       "16257    -0.086728  \n",
       "\n",
       "[12375 rows x 9 columns]"
      ]
     },
     "execution_count": 106,
     "metadata": {},
     "output_type": "execute_result"
    }
   ],
   "source": [
    "df = df[~((df.area_zscore<-3) | (df.area_zscore>3))]\n",
    "df"
   ]
  },
  {
   "cell_type": "markdown",
   "metadata": {
    "id": "91njgHkaGlt_"
   },
   "source": [
    "### Removing zscore columns"
   ]
  },
  {
   "cell_type": "code",
   "execution_count": 107,
   "metadata": {
    "colab": {
     "base_uri": "https://localhost:8080/",
     "height": 0
    },
    "id": "l8Vl-lLcGlt_",
    "outputId": "c37960e4-f9c2-4073-9dfd-bf223b4cee93"
   },
   "outputs": [
    {
     "data": {
      "text/html": [
       "<div>\n",
       "<style scoped>\n",
       "    .dataframe tbody tr th:only-of-type {\n",
       "        vertical-align: middle;\n",
       "    }\n",
       "\n",
       "    .dataframe tbody tr th {\n",
       "        vertical-align: top;\n",
       "    }\n",
       "\n",
       "    .dataframe thead th {\n",
       "        text-align: right;\n",
       "    }\n",
       "</style>\n",
       "<table border=\"1\" class=\"dataframe\">\n",
       "  <thead>\n",
       "    <tr style=\"text-align: right;\">\n",
       "      <th></th>\n",
       "      <th>listing_type</th>\n",
       "      <th>bedrooms</th>\n",
       "      <th>bathrooms</th>\n",
       "      <th>area</th>\n",
       "      <th>price</th>\n",
       "      <th>location</th>\n",
       "      <th>description</th>\n",
       "    </tr>\n",
       "  </thead>\n",
       "  <tbody>\n",
       "    <tr>\n",
       "      <th>0</th>\n",
       "      <td>Townhouse</td>\n",
       "      <td>4</td>\n",
       "      <td>4</td>\n",
       "      <td>2165.0</td>\n",
       "      <td>135000.0</td>\n",
       "      <td>Maple 2- Maple at Dubai Hills Estate- Dubai Hi...</td>\n",
       "      <td>Brought to you by Driven Properties- this 4 Be...</td>\n",
       "    </tr>\n",
       "    <tr>\n",
       "      <th>2</th>\n",
       "      <td>Apartment</td>\n",
       "      <td>1</td>\n",
       "      <td>2</td>\n",
       "      <td>927.0</td>\n",
       "      <td>145000.0</td>\n",
       "      <td>The Address Downtown Hotel- Downtown Dubai- Dubai</td>\n",
       "      <td>Brought to you by Driven Properties- this 1 Be...</td>\n",
       "    </tr>\n",
       "    <tr>\n",
       "      <th>3</th>\n",
       "      <td>Apartment</td>\n",
       "      <td>2</td>\n",
       "      <td>2</td>\n",
       "      <td>1085.0</td>\n",
       "      <td>110000.0</td>\n",
       "      <td>The Fairways North- The Fairways- The Views- D...</td>\n",
       "      <td>We are very proud to present to you with this ...</td>\n",
       "    </tr>\n",
       "    <tr>\n",
       "      <th>4</th>\n",
       "      <td>Apartment</td>\n",
       "      <td>1</td>\n",
       "      <td>2</td>\n",
       "      <td>857.0</td>\n",
       "      <td>53999.0</td>\n",
       "      <td>Vincitore Boulevard- Arjan- Dubai</td>\n",
       "      <td>AZCO REAL ESTATE BROKERS LLC is excited to bri...</td>\n",
       "    </tr>\n",
       "    <tr>\n",
       "      <th>5</th>\n",
       "      <td>Apartment</td>\n",
       "      <td>studio</td>\n",
       "      <td>1</td>\n",
       "      <td>511.0</td>\n",
       "      <td>36999.0</td>\n",
       "      <td>Vincitore Boulevard- Arjan- Dubai</td>\n",
       "      <td>AZCO REAL ESTATE BROKERS LLC is excited to bri...</td>\n",
       "    </tr>\n",
       "    <tr>\n",
       "      <th>...</th>\n",
       "      <td>...</td>\n",
       "      <td>...</td>\n",
       "      <td>...</td>\n",
       "      <td>...</td>\n",
       "      <td>...</td>\n",
       "      <td>...</td>\n",
       "      <td>...</td>\n",
       "    </tr>\n",
       "    <tr>\n",
       "      <th>16252</th>\n",
       "      <td>Villa</td>\n",
       "      <td>3</td>\n",
       "      <td>4</td>\n",
       "      <td>3063.0</td>\n",
       "      <td>209999.0</td>\n",
       "      <td>Legacy- Jumeirah Park- Dubai</td>\n",
       "      <td>- Legacy Style Villa\\t- All White Goods includ...</td>\n",
       "    </tr>\n",
       "    <tr>\n",
       "      <th>16254</th>\n",
       "      <td>Apartment</td>\n",
       "      <td>3</td>\n",
       "      <td>4</td>\n",
       "      <td>2012.0</td>\n",
       "      <td>150000.0</td>\n",
       "      <td>The Flagship Two- Al Satwa- Dubai</td>\n",
       "      <td>The Flagship Two - Jumeirah Garden City Satwa\\...</td>\n",
       "    </tr>\n",
       "    <tr>\n",
       "      <th>16255</th>\n",
       "      <td>Apartment</td>\n",
       "      <td>2</td>\n",
       "      <td>3</td>\n",
       "      <td>1390.0</td>\n",
       "      <td>125000.0</td>\n",
       "      <td>Burj Al Salam- Sheikh Zayed Road- Dubai</td>\n",
       "      <td>Excel Properties brings you this fully furnish...</td>\n",
       "    </tr>\n",
       "    <tr>\n",
       "      <th>16256</th>\n",
       "      <td>Townhouse</td>\n",
       "      <td>3</td>\n",
       "      <td>1</td>\n",
       "      <td>1881.0</td>\n",
       "      <td>69999.0</td>\n",
       "      <td>Casablanca Boutique Villas- Coursetia- Akoya- ...</td>\n",
       "      <td>Amazing Brand New  3 Bedroom with Maids Room\\t...</td>\n",
       "    </tr>\n",
       "    <tr>\n",
       "      <th>16257</th>\n",
       "      <td>Apartment</td>\n",
       "      <td>2</td>\n",
       "      <td>4</td>\n",
       "      <td>1412.0</td>\n",
       "      <td>110000.0</td>\n",
       "      <td>The Flagship Two- Al Satwa- Dubai</td>\n",
       "      <td>The Flagship Two - Jumeirah Garden City Satwa\\...</td>\n",
       "    </tr>\n",
       "  </tbody>\n",
       "</table>\n",
       "<p>12375 rows × 7 columns</p>\n",
       "</div>"
      ],
      "text/plain": [
       "      listing_type bedrooms bathrooms    area     price  \\\n",
       "0        Townhouse        4         4  2165.0  135000.0   \n",
       "2        Apartment        1         2   927.0  145000.0   \n",
       "3        Apartment        2         2  1085.0  110000.0   \n",
       "4        Apartment        1         2   857.0   53999.0   \n",
       "5        Apartment   studio         1   511.0   36999.0   \n",
       "...            ...      ...       ...     ...       ...   \n",
       "16252        Villa        3         4  3063.0  209999.0   \n",
       "16254    Apartment        3         4  2012.0  150000.0   \n",
       "16255    Apartment        2         3  1390.0  125000.0   \n",
       "16256    Townhouse        3         1  1881.0   69999.0   \n",
       "16257    Apartment        2         4  1412.0  110000.0   \n",
       "\n",
       "                                                location  \\\n",
       "0      Maple 2- Maple at Dubai Hills Estate- Dubai Hi...   \n",
       "2      The Address Downtown Hotel- Downtown Dubai- Dubai   \n",
       "3      The Fairways North- The Fairways- The Views- D...   \n",
       "4                      Vincitore Boulevard- Arjan- Dubai   \n",
       "5                      Vincitore Boulevard- Arjan- Dubai   \n",
       "...                                                  ...   \n",
       "16252                       Legacy- Jumeirah Park- Dubai   \n",
       "16254                  The Flagship Two- Al Satwa- Dubai   \n",
       "16255            Burj Al Salam- Sheikh Zayed Road- Dubai   \n",
       "16256  Casablanca Boutique Villas- Coursetia- Akoya- ...   \n",
       "16257                  The Flagship Two- Al Satwa- Dubai   \n",
       "\n",
       "                                             description  \n",
       "0      Brought to you by Driven Properties- this 4 Be...  \n",
       "2      Brought to you by Driven Properties- this 1 Be...  \n",
       "3      We are very proud to present to you with this ...  \n",
       "4      AZCO REAL ESTATE BROKERS LLC is excited to bri...  \n",
       "5      AZCO REAL ESTATE BROKERS LLC is excited to bri...  \n",
       "...                                                  ...  \n",
       "16252  - Legacy Style Villa\\t- All White Goods includ...  \n",
       "16254  The Flagship Two - Jumeirah Garden City Satwa\\...  \n",
       "16255  Excel Properties brings you this fully furnish...  \n",
       "16256  Amazing Brand New  3 Bedroom with Maids Room\\t...  \n",
       "16257  The Flagship Two - Jumeirah Garden City Satwa\\...  \n",
       "\n",
       "[12375 rows x 7 columns]"
      ]
     },
     "execution_count": 107,
     "metadata": {},
     "output_type": "execute_result"
    }
   ],
   "source": [
    "df = df.drop(['price_zscore', 'area_zscore'],axis = 1)\n",
    "df"
   ]
  },
  {
   "cell_type": "markdown",
   "metadata": {
    "id": "whEjaKlSGluA"
   },
   "source": [
    "## listing_type column "
   ]
  },
  {
   "cell_type": "code",
   "execution_count": 108,
   "metadata": {
    "colab": {
     "base_uri": "https://localhost:8080/"
    },
    "id": "8OGM__OXGluB",
    "outputId": "7c21347a-9a94-4cf6-de8b-8dea1c50c089"
   },
   "outputs": [
    {
     "data": {
      "text/plain": [
       "Apartment                  10318\n",
       "Villa                       1217\n",
       "Townhouse                    582\n",
       "Hotel & Hotel Apartment      162\n",
       "Duplex                        48\n",
       "Penthouse                     42\n",
       "Bulk Rent Unit                 2\n",
       "Full Floor                     1\n",
       "Bungalow                       1\n",
       "Compound                       1\n",
       "Whole Building                 1\n",
       "Name: listing_type, dtype: int64"
      ]
     },
     "execution_count": 108,
     "metadata": {},
     "output_type": "execute_result"
    }
   ],
   "source": [
    "df['listing_type'].value_counts()"
   ]
  },
  {
   "cell_type": "markdown",
   "metadata": {
    "id": "SURA_lkWGluB"
   },
   "source": [
    "#### **Since the last 5 entries barely have any data entries, we'll drop them**"
   ]
  },
  {
   "cell_type": "code",
   "execution_count": 109,
   "metadata": {
    "colab": {
     "base_uri": "https://localhost:8080/",
     "height": 0
    },
    "id": "QJ_aRdzTGluB",
    "outputId": "e39a7c5e-d56a-4b47-b204-74a39f5a800b"
   },
   "outputs": [
    {
     "data": {
      "text/html": [
       "<div>\n",
       "<style scoped>\n",
       "    .dataframe tbody tr th:only-of-type {\n",
       "        vertical-align: middle;\n",
       "    }\n",
       "\n",
       "    .dataframe tbody tr th {\n",
       "        vertical-align: top;\n",
       "    }\n",
       "\n",
       "    .dataframe thead th {\n",
       "        text-align: right;\n",
       "    }\n",
       "</style>\n",
       "<table border=\"1\" class=\"dataframe\">\n",
       "  <thead>\n",
       "    <tr style=\"text-align: right;\">\n",
       "      <th></th>\n",
       "      <th>listing_type</th>\n",
       "      <th>bedrooms</th>\n",
       "      <th>bathrooms</th>\n",
       "      <th>area</th>\n",
       "      <th>price</th>\n",
       "      <th>location</th>\n",
       "      <th>description</th>\n",
       "    </tr>\n",
       "  </thead>\n",
       "  <tbody>\n",
       "    <tr>\n",
       "      <th>0</th>\n",
       "      <td>Townhouse</td>\n",
       "      <td>4</td>\n",
       "      <td>4</td>\n",
       "      <td>2165.0</td>\n",
       "      <td>135000.0</td>\n",
       "      <td>Maple 2- Maple at Dubai Hills Estate- Dubai Hi...</td>\n",
       "      <td>Brought to you by Driven Properties- this 4 Be...</td>\n",
       "    </tr>\n",
       "    <tr>\n",
       "      <th>2</th>\n",
       "      <td>Apartment</td>\n",
       "      <td>1</td>\n",
       "      <td>2</td>\n",
       "      <td>927.0</td>\n",
       "      <td>145000.0</td>\n",
       "      <td>The Address Downtown Hotel- Downtown Dubai- Dubai</td>\n",
       "      <td>Brought to you by Driven Properties- this 1 Be...</td>\n",
       "    </tr>\n",
       "    <tr>\n",
       "      <th>3</th>\n",
       "      <td>Apartment</td>\n",
       "      <td>2</td>\n",
       "      <td>2</td>\n",
       "      <td>1085.0</td>\n",
       "      <td>110000.0</td>\n",
       "      <td>The Fairways North- The Fairways- The Views- D...</td>\n",
       "      <td>We are very proud to present to you with this ...</td>\n",
       "    </tr>\n",
       "    <tr>\n",
       "      <th>4</th>\n",
       "      <td>Apartment</td>\n",
       "      <td>1</td>\n",
       "      <td>2</td>\n",
       "      <td>857.0</td>\n",
       "      <td>53999.0</td>\n",
       "      <td>Vincitore Boulevard- Arjan- Dubai</td>\n",
       "      <td>AZCO REAL ESTATE BROKERS LLC is excited to bri...</td>\n",
       "    </tr>\n",
       "    <tr>\n",
       "      <th>5</th>\n",
       "      <td>Apartment</td>\n",
       "      <td>studio</td>\n",
       "      <td>1</td>\n",
       "      <td>511.0</td>\n",
       "      <td>36999.0</td>\n",
       "      <td>Vincitore Boulevard- Arjan- Dubai</td>\n",
       "      <td>AZCO REAL ESTATE BROKERS LLC is excited to bri...</td>\n",
       "    </tr>\n",
       "    <tr>\n",
       "      <th>...</th>\n",
       "      <td>...</td>\n",
       "      <td>...</td>\n",
       "      <td>...</td>\n",
       "      <td>...</td>\n",
       "      <td>...</td>\n",
       "      <td>...</td>\n",
       "      <td>...</td>\n",
       "    </tr>\n",
       "    <tr>\n",
       "      <th>16252</th>\n",
       "      <td>Villa</td>\n",
       "      <td>3</td>\n",
       "      <td>4</td>\n",
       "      <td>3063.0</td>\n",
       "      <td>209999.0</td>\n",
       "      <td>Legacy- Jumeirah Park- Dubai</td>\n",
       "      <td>- Legacy Style Villa\\t- All White Goods includ...</td>\n",
       "    </tr>\n",
       "    <tr>\n",
       "      <th>16254</th>\n",
       "      <td>Apartment</td>\n",
       "      <td>3</td>\n",
       "      <td>4</td>\n",
       "      <td>2012.0</td>\n",
       "      <td>150000.0</td>\n",
       "      <td>The Flagship Two- Al Satwa- Dubai</td>\n",
       "      <td>The Flagship Two - Jumeirah Garden City Satwa\\...</td>\n",
       "    </tr>\n",
       "    <tr>\n",
       "      <th>16255</th>\n",
       "      <td>Apartment</td>\n",
       "      <td>2</td>\n",
       "      <td>3</td>\n",
       "      <td>1390.0</td>\n",
       "      <td>125000.0</td>\n",
       "      <td>Burj Al Salam- Sheikh Zayed Road- Dubai</td>\n",
       "      <td>Excel Properties brings you this fully furnish...</td>\n",
       "    </tr>\n",
       "    <tr>\n",
       "      <th>16256</th>\n",
       "      <td>Townhouse</td>\n",
       "      <td>3</td>\n",
       "      <td>1</td>\n",
       "      <td>1881.0</td>\n",
       "      <td>69999.0</td>\n",
       "      <td>Casablanca Boutique Villas- Coursetia- Akoya- ...</td>\n",
       "      <td>Amazing Brand New  3 Bedroom with Maids Room\\t...</td>\n",
       "    </tr>\n",
       "    <tr>\n",
       "      <th>16257</th>\n",
       "      <td>Apartment</td>\n",
       "      <td>2</td>\n",
       "      <td>4</td>\n",
       "      <td>1412.0</td>\n",
       "      <td>110000.0</td>\n",
       "      <td>The Flagship Two- Al Satwa- Dubai</td>\n",
       "      <td>The Flagship Two - Jumeirah Garden City Satwa\\...</td>\n",
       "    </tr>\n",
       "  </tbody>\n",
       "</table>\n",
       "<p>12369 rows × 7 columns</p>\n",
       "</div>"
      ],
      "text/plain": [
       "      listing_type bedrooms bathrooms    area     price  \\\n",
       "0        Townhouse        4         4  2165.0  135000.0   \n",
       "2        Apartment        1         2   927.0  145000.0   \n",
       "3        Apartment        2         2  1085.0  110000.0   \n",
       "4        Apartment        1         2   857.0   53999.0   \n",
       "5        Apartment   studio         1   511.0   36999.0   \n",
       "...            ...      ...       ...     ...       ...   \n",
       "16252        Villa        3         4  3063.0  209999.0   \n",
       "16254    Apartment        3         4  2012.0  150000.0   \n",
       "16255    Apartment        2         3  1390.0  125000.0   \n",
       "16256    Townhouse        3         1  1881.0   69999.0   \n",
       "16257    Apartment        2         4  1412.0  110000.0   \n",
       "\n",
       "                                                location  \\\n",
       "0      Maple 2- Maple at Dubai Hills Estate- Dubai Hi...   \n",
       "2      The Address Downtown Hotel- Downtown Dubai- Dubai   \n",
       "3      The Fairways North- The Fairways- The Views- D...   \n",
       "4                      Vincitore Boulevard- Arjan- Dubai   \n",
       "5                      Vincitore Boulevard- Arjan- Dubai   \n",
       "...                                                  ...   \n",
       "16252                       Legacy- Jumeirah Park- Dubai   \n",
       "16254                  The Flagship Two- Al Satwa- Dubai   \n",
       "16255            Burj Al Salam- Sheikh Zayed Road- Dubai   \n",
       "16256  Casablanca Boutique Villas- Coursetia- Akoya- ...   \n",
       "16257                  The Flagship Two- Al Satwa- Dubai   \n",
       "\n",
       "                                             description  \n",
       "0      Brought to you by Driven Properties- this 4 Be...  \n",
       "2      Brought to you by Driven Properties- this 1 Be...  \n",
       "3      We are very proud to present to you with this ...  \n",
       "4      AZCO REAL ESTATE BROKERS LLC is excited to bri...  \n",
       "5      AZCO REAL ESTATE BROKERS LLC is excited to bri...  \n",
       "...                                                  ...  \n",
       "16252  - Legacy Style Villa\\t- All White Goods includ...  \n",
       "16254  The Flagship Two - Jumeirah Garden City Satwa\\...  \n",
       "16255  Excel Properties brings you this fully furnish...  \n",
       "16256  Amazing Brand New  3 Bedroom with Maids Room\\t...  \n",
       "16257  The Flagship Two - Jumeirah Garden City Satwa\\...  \n",
       "\n",
       "[12369 rows x 7 columns]"
      ]
     },
     "execution_count": 109,
     "metadata": {},
     "output_type": "execute_result"
    }
   ],
   "source": [
    "df = df[~(df['listing_type' ].isin(['Bulk Rent Unit', 'Whole Building', \"Full Floor\", 'Bungalow', 'Compound']))]\n",
    "df"
   ]
  },
  {
   "cell_type": "markdown",
   "metadata": {
    "id": "GQj80nDcGluC"
   },
   "source": [
    "##### Checking that they were dropped"
   ]
  },
  {
   "cell_type": "code",
   "execution_count": 110,
   "metadata": {
    "colab": {
     "base_uri": "https://localhost:8080/"
    },
    "id": "lX_oJGZDGluC",
    "outputId": "7918d9b4-243c-4ee4-84b8-9b49c4e70ae4",
    "tags": []
   },
   "outputs": [
    {
     "data": {
      "text/plain": [
       "Apartment                  10318\n",
       "Villa                       1217\n",
       "Townhouse                    582\n",
       "Hotel & Hotel Apartment      162\n",
       "Duplex                        48\n",
       "Penthouse                     42\n",
       "Name: listing_type, dtype: int64"
      ]
     },
     "execution_count": 110,
     "metadata": {},
     "output_type": "execute_result"
    }
   ],
   "source": [
    "df['listing_type'].value_counts()"
   ]
  },
  {
   "cell_type": "markdown",
   "metadata": {},
   "source": [
    "### Export listing type to txt file"
   ]
  },
  {
   "cell_type": "code",
   "execution_count": 111,
   "metadata": {},
   "outputs": [],
   "source": [
    "def export_unique_column_values_to_txt(column_name):\n",
    "    with open(f'{column_name}.txt', 'w') as file:\n",
    "        \n",
    "        unique_values = df[column_name].unique()\n",
    "        for idx, item in enumerate(unique_values):\n",
    "            if (idx + 1 == len(unique_values)):\n",
    "                file.write(item)\n",
    "            else:\n",
    "                file.write(item+\"\\n\")\n"
   ]
  },
  {
   "cell_type": "code",
   "execution_count": null,
   "metadata": {},
   "outputs": [],
   "source": []
  },
  {
   "cell_type": "code",
   "execution_count": 112,
   "metadata": {},
   "outputs": [],
   "source": [
    "export_unique_column_values_to_txt('listing_type')"
   ]
  },
  {
   "cell_type": "code",
   "execution_count": null,
   "metadata": {},
   "outputs": [],
   "source": []
  },
  {
   "cell_type": "markdown",
   "metadata": {
    "id": "B5Jc1BuDGluD"
   },
   "source": [
    "### One hot encoding "
   ]
  },
  {
   "cell_type": "code",
   "execution_count": 113,
   "metadata": {},
   "outputs": [],
   "source": [
    "from sklearn.preprocessing import OneHotEncoder\n",
    "\n",
    "def encode_to_numerical_and_bind(df, feature_to_encode):\n",
    "    \n",
    "    encoder = OneHotEncoder(sparse=False)\n",
    "    \n",
    "    feature_list = df[feature_to_encode].values.reshape(-1,1)\n",
    "\n",
    "    encoded_feature = encoder.fit_transform(feature_list)\n",
    "    \n",
    "    categories = encoder.categories_\n",
    "    prefixed_categories = add_prefix_to_category(categories[0], feature_to_encode)\n",
    "    \n",
    "#   adding encoded feature to df\n",
    "    df[prefixed_categories] = encoded_feature\n",
    "    \n",
    "    df = df.drop([feature_to_encode], axis=1)\n",
    "#     res = pd.concat([df, pd.Series(encoded_feature)], axis=1)\n",
    "#     res.drop([feature_to_encode], axis=1)\n",
    "    \n",
    "    return df\n",
    "\n",
    "def add_prefix_to_category(categories, prefix):\n",
    "    res = []\n",
    "    for category in categories:\n",
    "        res.append(f\"{prefix}_{category}\")\n",
    "    \n",
    "    return res\n",
    "    "
   ]
  },
  {
   "cell_type": "code",
   "execution_count": 114,
   "metadata": {},
   "outputs": [],
   "source": [
    "# df = encode_to_numerical_and_bind(df, 'listing_type')"
   ]
  },
  {
   "cell_type": "code",
   "execution_count": 115,
   "metadata": {},
   "outputs": [
    {
     "data": {
      "text/html": [
       "<div>\n",
       "<style scoped>\n",
       "    .dataframe tbody tr th:only-of-type {\n",
       "        vertical-align: middle;\n",
       "    }\n",
       "\n",
       "    .dataframe tbody tr th {\n",
       "        vertical-align: top;\n",
       "    }\n",
       "\n",
       "    .dataframe thead th {\n",
       "        text-align: right;\n",
       "    }\n",
       "</style>\n",
       "<table border=\"1\" class=\"dataframe\">\n",
       "  <thead>\n",
       "    <tr style=\"text-align: right;\">\n",
       "      <th></th>\n",
       "      <th>listing_type</th>\n",
       "      <th>bedrooms</th>\n",
       "      <th>bathrooms</th>\n",
       "      <th>area</th>\n",
       "      <th>price</th>\n",
       "      <th>location</th>\n",
       "      <th>description</th>\n",
       "    </tr>\n",
       "  </thead>\n",
       "  <tbody>\n",
       "    <tr>\n",
       "      <th>0</th>\n",
       "      <td>Townhouse</td>\n",
       "      <td>4</td>\n",
       "      <td>4</td>\n",
       "      <td>2165.0</td>\n",
       "      <td>135000.0</td>\n",
       "      <td>Maple 2- Maple at Dubai Hills Estate- Dubai Hi...</td>\n",
       "      <td>Brought to you by Driven Properties- this 4 Be...</td>\n",
       "    </tr>\n",
       "    <tr>\n",
       "      <th>2</th>\n",
       "      <td>Apartment</td>\n",
       "      <td>1</td>\n",
       "      <td>2</td>\n",
       "      <td>927.0</td>\n",
       "      <td>145000.0</td>\n",
       "      <td>The Address Downtown Hotel- Downtown Dubai- Dubai</td>\n",
       "      <td>Brought to you by Driven Properties- this 1 Be...</td>\n",
       "    </tr>\n",
       "    <tr>\n",
       "      <th>3</th>\n",
       "      <td>Apartment</td>\n",
       "      <td>2</td>\n",
       "      <td>2</td>\n",
       "      <td>1085.0</td>\n",
       "      <td>110000.0</td>\n",
       "      <td>The Fairways North- The Fairways- The Views- D...</td>\n",
       "      <td>We are very proud to present to you with this ...</td>\n",
       "    </tr>\n",
       "    <tr>\n",
       "      <th>4</th>\n",
       "      <td>Apartment</td>\n",
       "      <td>1</td>\n",
       "      <td>2</td>\n",
       "      <td>857.0</td>\n",
       "      <td>53999.0</td>\n",
       "      <td>Vincitore Boulevard- Arjan- Dubai</td>\n",
       "      <td>AZCO REAL ESTATE BROKERS LLC is excited to bri...</td>\n",
       "    </tr>\n",
       "    <tr>\n",
       "      <th>5</th>\n",
       "      <td>Apartment</td>\n",
       "      <td>studio</td>\n",
       "      <td>1</td>\n",
       "      <td>511.0</td>\n",
       "      <td>36999.0</td>\n",
       "      <td>Vincitore Boulevard- Arjan- Dubai</td>\n",
       "      <td>AZCO REAL ESTATE BROKERS LLC is excited to bri...</td>\n",
       "    </tr>\n",
       "    <tr>\n",
       "      <th>...</th>\n",
       "      <td>...</td>\n",
       "      <td>...</td>\n",
       "      <td>...</td>\n",
       "      <td>...</td>\n",
       "      <td>...</td>\n",
       "      <td>...</td>\n",
       "      <td>...</td>\n",
       "    </tr>\n",
       "    <tr>\n",
       "      <th>16252</th>\n",
       "      <td>Villa</td>\n",
       "      <td>3</td>\n",
       "      <td>4</td>\n",
       "      <td>3063.0</td>\n",
       "      <td>209999.0</td>\n",
       "      <td>Legacy- Jumeirah Park- Dubai</td>\n",
       "      <td>- Legacy Style Villa\\t- All White Goods includ...</td>\n",
       "    </tr>\n",
       "    <tr>\n",
       "      <th>16254</th>\n",
       "      <td>Apartment</td>\n",
       "      <td>3</td>\n",
       "      <td>4</td>\n",
       "      <td>2012.0</td>\n",
       "      <td>150000.0</td>\n",
       "      <td>The Flagship Two- Al Satwa- Dubai</td>\n",
       "      <td>The Flagship Two - Jumeirah Garden City Satwa\\...</td>\n",
       "    </tr>\n",
       "    <tr>\n",
       "      <th>16255</th>\n",
       "      <td>Apartment</td>\n",
       "      <td>2</td>\n",
       "      <td>3</td>\n",
       "      <td>1390.0</td>\n",
       "      <td>125000.0</td>\n",
       "      <td>Burj Al Salam- Sheikh Zayed Road- Dubai</td>\n",
       "      <td>Excel Properties brings you this fully furnish...</td>\n",
       "    </tr>\n",
       "    <tr>\n",
       "      <th>16256</th>\n",
       "      <td>Townhouse</td>\n",
       "      <td>3</td>\n",
       "      <td>1</td>\n",
       "      <td>1881.0</td>\n",
       "      <td>69999.0</td>\n",
       "      <td>Casablanca Boutique Villas- Coursetia- Akoya- ...</td>\n",
       "      <td>Amazing Brand New  3 Bedroom with Maids Room\\t...</td>\n",
       "    </tr>\n",
       "    <tr>\n",
       "      <th>16257</th>\n",
       "      <td>Apartment</td>\n",
       "      <td>2</td>\n",
       "      <td>4</td>\n",
       "      <td>1412.0</td>\n",
       "      <td>110000.0</td>\n",
       "      <td>The Flagship Two- Al Satwa- Dubai</td>\n",
       "      <td>The Flagship Two - Jumeirah Garden City Satwa\\...</td>\n",
       "    </tr>\n",
       "  </tbody>\n",
       "</table>\n",
       "<p>12369 rows × 7 columns</p>\n",
       "</div>"
      ],
      "text/plain": [
       "      listing_type bedrooms bathrooms    area     price  \\\n",
       "0        Townhouse        4         4  2165.0  135000.0   \n",
       "2        Apartment        1         2   927.0  145000.0   \n",
       "3        Apartment        2         2  1085.0  110000.0   \n",
       "4        Apartment        1         2   857.0   53999.0   \n",
       "5        Apartment   studio         1   511.0   36999.0   \n",
       "...            ...      ...       ...     ...       ...   \n",
       "16252        Villa        3         4  3063.0  209999.0   \n",
       "16254    Apartment        3         4  2012.0  150000.0   \n",
       "16255    Apartment        2         3  1390.0  125000.0   \n",
       "16256    Townhouse        3         1  1881.0   69999.0   \n",
       "16257    Apartment        2         4  1412.0  110000.0   \n",
       "\n",
       "                                                location  \\\n",
       "0      Maple 2- Maple at Dubai Hills Estate- Dubai Hi...   \n",
       "2      The Address Downtown Hotel- Downtown Dubai- Dubai   \n",
       "3      The Fairways North- The Fairways- The Views- D...   \n",
       "4                      Vincitore Boulevard- Arjan- Dubai   \n",
       "5                      Vincitore Boulevard- Arjan- Dubai   \n",
       "...                                                  ...   \n",
       "16252                       Legacy- Jumeirah Park- Dubai   \n",
       "16254                  The Flagship Two- Al Satwa- Dubai   \n",
       "16255            Burj Al Salam- Sheikh Zayed Road- Dubai   \n",
       "16256  Casablanca Boutique Villas- Coursetia- Akoya- ...   \n",
       "16257                  The Flagship Two- Al Satwa- Dubai   \n",
       "\n",
       "                                             description  \n",
       "0      Brought to you by Driven Properties- this 4 Be...  \n",
       "2      Brought to you by Driven Properties- this 1 Be...  \n",
       "3      We are very proud to present to you with this ...  \n",
       "4      AZCO REAL ESTATE BROKERS LLC is excited to bri...  \n",
       "5      AZCO REAL ESTATE BROKERS LLC is excited to bri...  \n",
       "...                                                  ...  \n",
       "16252  - Legacy Style Villa\\t- All White Goods includ...  \n",
       "16254  The Flagship Two - Jumeirah Garden City Satwa\\...  \n",
       "16255  Excel Properties brings you this fully furnish...  \n",
       "16256  Amazing Brand New  3 Bedroom with Maids Room\\t...  \n",
       "16257  The Flagship Two - Jumeirah Garden City Satwa\\...  \n",
       "\n",
       "[12369 rows x 7 columns]"
      ]
     },
     "execution_count": 115,
     "metadata": {},
     "output_type": "execute_result"
    }
   ],
   "source": [
    "df"
   ]
  },
  {
   "cell_type": "code",
   "execution_count": 116,
   "metadata": {},
   "outputs": [],
   "source": [
    "# testing ...\n",
    "# listing_type_encoder = OneHotEncoder()\n",
    "# listing_type_list = df['listing_type'].values.reshape(-1,1)\n",
    "# encoded_listing_type = listing_type_encoder.fit_transform(listing_type_list)\n",
    "# encoded_listing_type"
   ]
  },
  {
   "cell_type": "code",
   "execution_count": 117,
   "metadata": {
    "id": "2uYnAwE5GluD"
   },
   "outputs": [],
   "source": [
    "def encode_and_bind(df, feature_to_encode):\n",
    "    dummies = pd.get_dummies(df[[feature_to_encode]])\n",
    "    res = pd.concat([df, dummies], axis=1)\n",
    "    res = res.drop([feature_to_encode], axis=1)\n",
    "    return res"
   ]
  },
  {
   "cell_type": "code",
   "execution_count": 118,
   "metadata": {
    "colab": {
     "base_uri": "https://localhost:8080/",
     "height": 0
    },
    "id": "zfx93iNFGluE",
    "outputId": "7bb3fc8f-0d18-4aa2-c4f9-531641e716cc"
   },
   "outputs": [
    {
     "data": {
      "text/html": [
       "<div>\n",
       "<style scoped>\n",
       "    .dataframe tbody tr th:only-of-type {\n",
       "        vertical-align: middle;\n",
       "    }\n",
       "\n",
       "    .dataframe tbody tr th {\n",
       "        vertical-align: top;\n",
       "    }\n",
       "\n",
       "    .dataframe thead th {\n",
       "        text-align: right;\n",
       "    }\n",
       "</style>\n",
       "<table border=\"1\" class=\"dataframe\">\n",
       "  <thead>\n",
       "    <tr style=\"text-align: right;\">\n",
       "      <th></th>\n",
       "      <th>listing_type</th>\n",
       "      <th>bedrooms</th>\n",
       "      <th>bathrooms</th>\n",
       "      <th>area</th>\n",
       "      <th>price</th>\n",
       "      <th>location</th>\n",
       "      <th>description</th>\n",
       "    </tr>\n",
       "  </thead>\n",
       "  <tbody>\n",
       "    <tr>\n",
       "      <th>0</th>\n",
       "      <td>Townhouse</td>\n",
       "      <td>4</td>\n",
       "      <td>4</td>\n",
       "      <td>2165.0</td>\n",
       "      <td>135000.0</td>\n",
       "      <td>Maple 2- Maple at Dubai Hills Estate- Dubai Hi...</td>\n",
       "      <td>Brought to you by Driven Properties- this 4 Be...</td>\n",
       "    </tr>\n",
       "    <tr>\n",
       "      <th>2</th>\n",
       "      <td>Apartment</td>\n",
       "      <td>1</td>\n",
       "      <td>2</td>\n",
       "      <td>927.0</td>\n",
       "      <td>145000.0</td>\n",
       "      <td>The Address Downtown Hotel- Downtown Dubai- Dubai</td>\n",
       "      <td>Brought to you by Driven Properties- this 1 Be...</td>\n",
       "    </tr>\n",
       "    <tr>\n",
       "      <th>3</th>\n",
       "      <td>Apartment</td>\n",
       "      <td>2</td>\n",
       "      <td>2</td>\n",
       "      <td>1085.0</td>\n",
       "      <td>110000.0</td>\n",
       "      <td>The Fairways North- The Fairways- The Views- D...</td>\n",
       "      <td>We are very proud to present to you with this ...</td>\n",
       "    </tr>\n",
       "    <tr>\n",
       "      <th>4</th>\n",
       "      <td>Apartment</td>\n",
       "      <td>1</td>\n",
       "      <td>2</td>\n",
       "      <td>857.0</td>\n",
       "      <td>53999.0</td>\n",
       "      <td>Vincitore Boulevard- Arjan- Dubai</td>\n",
       "      <td>AZCO REAL ESTATE BROKERS LLC is excited to bri...</td>\n",
       "    </tr>\n",
       "    <tr>\n",
       "      <th>5</th>\n",
       "      <td>Apartment</td>\n",
       "      <td>studio</td>\n",
       "      <td>1</td>\n",
       "      <td>511.0</td>\n",
       "      <td>36999.0</td>\n",
       "      <td>Vincitore Boulevard- Arjan- Dubai</td>\n",
       "      <td>AZCO REAL ESTATE BROKERS LLC is excited to bri...</td>\n",
       "    </tr>\n",
       "    <tr>\n",
       "      <th>...</th>\n",
       "      <td>...</td>\n",
       "      <td>...</td>\n",
       "      <td>...</td>\n",
       "      <td>...</td>\n",
       "      <td>...</td>\n",
       "      <td>...</td>\n",
       "      <td>...</td>\n",
       "    </tr>\n",
       "    <tr>\n",
       "      <th>16252</th>\n",
       "      <td>Villa</td>\n",
       "      <td>3</td>\n",
       "      <td>4</td>\n",
       "      <td>3063.0</td>\n",
       "      <td>209999.0</td>\n",
       "      <td>Legacy- Jumeirah Park- Dubai</td>\n",
       "      <td>- Legacy Style Villa\\t- All White Goods includ...</td>\n",
       "    </tr>\n",
       "    <tr>\n",
       "      <th>16254</th>\n",
       "      <td>Apartment</td>\n",
       "      <td>3</td>\n",
       "      <td>4</td>\n",
       "      <td>2012.0</td>\n",
       "      <td>150000.0</td>\n",
       "      <td>The Flagship Two- Al Satwa- Dubai</td>\n",
       "      <td>The Flagship Two - Jumeirah Garden City Satwa\\...</td>\n",
       "    </tr>\n",
       "    <tr>\n",
       "      <th>16255</th>\n",
       "      <td>Apartment</td>\n",
       "      <td>2</td>\n",
       "      <td>3</td>\n",
       "      <td>1390.0</td>\n",
       "      <td>125000.0</td>\n",
       "      <td>Burj Al Salam- Sheikh Zayed Road- Dubai</td>\n",
       "      <td>Excel Properties brings you this fully furnish...</td>\n",
       "    </tr>\n",
       "    <tr>\n",
       "      <th>16256</th>\n",
       "      <td>Townhouse</td>\n",
       "      <td>3</td>\n",
       "      <td>1</td>\n",
       "      <td>1881.0</td>\n",
       "      <td>69999.0</td>\n",
       "      <td>Casablanca Boutique Villas- Coursetia- Akoya- ...</td>\n",
       "      <td>Amazing Brand New  3 Bedroom with Maids Room\\t...</td>\n",
       "    </tr>\n",
       "    <tr>\n",
       "      <th>16257</th>\n",
       "      <td>Apartment</td>\n",
       "      <td>2</td>\n",
       "      <td>4</td>\n",
       "      <td>1412.0</td>\n",
       "      <td>110000.0</td>\n",
       "      <td>The Flagship Two- Al Satwa- Dubai</td>\n",
       "      <td>The Flagship Two - Jumeirah Garden City Satwa\\...</td>\n",
       "    </tr>\n",
       "  </tbody>\n",
       "</table>\n",
       "<p>12369 rows × 7 columns</p>\n",
       "</div>"
      ],
      "text/plain": [
       "      listing_type bedrooms bathrooms    area     price  \\\n",
       "0        Townhouse        4         4  2165.0  135000.0   \n",
       "2        Apartment        1         2   927.0  145000.0   \n",
       "3        Apartment        2         2  1085.0  110000.0   \n",
       "4        Apartment        1         2   857.0   53999.0   \n",
       "5        Apartment   studio         1   511.0   36999.0   \n",
       "...            ...      ...       ...     ...       ...   \n",
       "16252        Villa        3         4  3063.0  209999.0   \n",
       "16254    Apartment        3         4  2012.0  150000.0   \n",
       "16255    Apartment        2         3  1390.0  125000.0   \n",
       "16256    Townhouse        3         1  1881.0   69999.0   \n",
       "16257    Apartment        2         4  1412.0  110000.0   \n",
       "\n",
       "                                                location  \\\n",
       "0      Maple 2- Maple at Dubai Hills Estate- Dubai Hi...   \n",
       "2      The Address Downtown Hotel- Downtown Dubai- Dubai   \n",
       "3      The Fairways North- The Fairways- The Views- D...   \n",
       "4                      Vincitore Boulevard- Arjan- Dubai   \n",
       "5                      Vincitore Boulevard- Arjan- Dubai   \n",
       "...                                                  ...   \n",
       "16252                       Legacy- Jumeirah Park- Dubai   \n",
       "16254                  The Flagship Two- Al Satwa- Dubai   \n",
       "16255            Burj Al Salam- Sheikh Zayed Road- Dubai   \n",
       "16256  Casablanca Boutique Villas- Coursetia- Akoya- ...   \n",
       "16257                  The Flagship Two- Al Satwa- Dubai   \n",
       "\n",
       "                                             description  \n",
       "0      Brought to you by Driven Properties- this 4 Be...  \n",
       "2      Brought to you by Driven Properties- this 1 Be...  \n",
       "3      We are very proud to present to you with this ...  \n",
       "4      AZCO REAL ESTATE BROKERS LLC is excited to bri...  \n",
       "5      AZCO REAL ESTATE BROKERS LLC is excited to bri...  \n",
       "...                                                  ...  \n",
       "16252  - Legacy Style Villa\\t- All White Goods includ...  \n",
       "16254  The Flagship Two - Jumeirah Garden City Satwa\\...  \n",
       "16255  Excel Properties brings you this fully furnish...  \n",
       "16256  Amazing Brand New  3 Bedroom with Maids Room\\t...  \n",
       "16257  The Flagship Two - Jumeirah Garden City Satwa\\...  \n",
       "\n",
       "[12369 rows x 7 columns]"
      ]
     },
     "execution_count": 118,
     "metadata": {},
     "output_type": "execute_result"
    }
   ],
   "source": [
    "#df = encode_and_bind(df, 'listing_type')\n",
    "df"
   ]
  },
  {
   "cell_type": "code",
   "execution_count": null,
   "metadata": {
    "id": "vJmQakFAGluE"
   },
   "outputs": [],
   "source": []
  },
  {
   "cell_type": "code",
   "execution_count": null,
   "metadata": {
    "id": "muHg6ifVGluE"
   },
   "outputs": [],
   "source": []
  },
  {
   "cell_type": "markdown",
   "metadata": {
    "id": "H-BfhY8mGluE"
   },
   "source": [
    "## Location column"
   ]
  },
  {
   "cell_type": "markdown",
   "metadata": {
    "id": "iOrFFS9AGluF"
   },
   "source": [
    "### Checking unique values of location"
   ]
  },
  {
   "cell_type": "code",
   "execution_count": 119,
   "metadata": {
    "colab": {
     "base_uri": "https://localhost:8080/"
    },
    "id": "ApJL9-62GluF",
    "outputId": "edcb97a1-02b3-4e86-83d0-aadc2e63fabd"
   },
   "outputs": [
    {
     "data": {
      "text/plain": [
       "1867"
      ]
     },
     "execution_count": 119,
     "metadata": {},
     "output_type": "execute_result"
    }
   ],
   "source": [
    "len(df['location'].unique())"
   ]
  },
  {
   "cell_type": "markdown",
   "metadata": {
    "id": "qQxkqCfTGluG"
   },
   "source": [
    "**1824 unique values in location**"
   ]
  },
  {
   "cell_type": "code",
   "execution_count": 120,
   "metadata": {
    "colab": {
     "base_uri": "https://localhost:8080/"
    },
    "id": "4vFTa--hGluG",
    "outputId": "bcec65d6-cd76-4f17-c652-62affcd037d7"
   },
   "outputs": [
    {
     "data": {
      "text/plain": [
       "0        Maple 2- Maple at Dubai Hills Estate- Dubai Hills Estate- Dubai\n",
       "2                      The Address Downtown Hotel- Downtown Dubai- Dubai\n",
       "3                     The Fairways North- The Fairways- The Views- Dubai\n",
       "4                                      Vincitore Boulevard- Arjan- Dubai\n",
       "5                                      Vincitore Boulevard- Arjan- Dubai\n",
       "                                      ...                               \n",
       "16252                                       Legacy- Jumeirah Park- Dubai\n",
       "16254                                  The Flagship Two- Al Satwa- Dubai\n",
       "16255                            Burj Al Salam- Sheikh Zayed Road- Dubai\n",
       "16256                Casablanca Boutique Villas- Coursetia- Akoya- Dubai\n",
       "16257                                  The Flagship Two- Al Satwa- Dubai\n",
       "Name: location, Length: 12369, dtype: object"
      ]
     },
     "execution_count": 120,
     "metadata": {},
     "output_type": "execute_result"
    }
   ],
   "source": [
    "pd.set_option('display.max_colwidth', None)\n",
    "df['location']"
   ]
  },
  {
   "cell_type": "code",
   "execution_count": 121,
   "metadata": {
    "id": "X-3SJ5OsGluG"
   },
   "outputs": [],
   "source": [
    "pd.reset_option(\"^display\")"
   ]
  },
  {
   "cell_type": "markdown",
   "metadata": {
    "id": "PdIRrCYjGluH"
   },
   "source": [
    "### **Observations:**\n",
    "\n",
    "1872 unique locations in dubai only, we can also see that location here is very detailed to the point of including building names!\n",
    "- if one hot encoding were to be applied to those 1824 values, we would end up with too many columns. \n",
    "- Building names are not too important and neighborhood names are enough\n",
    "\n",
    "### **Ways to solve the problem:**\n",
    "\n",
    "1. manually gather major neighborhood names in dubai and convert all values that contain the name of a certain neighborhood to just that neighborhood name \n",
    "for ex: convert all values that contain \"al satwa\" to just \"al satwa\" instead of including extra detail about where in al satwa\n",
    "\n",
    "However, we noticed location follows a certain format where it starts with the precise location then the broader ones. Where the neighborhood name is always before the last dash.\n",
    "\n",
    "2. So we can keep the right most words around the last dash."
   ]
  },
  {
   "cell_type": "markdown",
   "metadata": {
    "id": "BW8BNmuUGluH"
   },
   "source": [
    "### Clean location column: extracting the neighborhood name only"
   ]
  },
  {
   "cell_type": "code",
   "execution_count": 122,
   "metadata": {
    "colab": {
     "base_uri": "https://localhost:8080/"
    },
    "id": "0FLs4dXfGluI",
    "outputId": "1e13436a-561e-4acf-a71c-2905c07ae2a7"
   },
   "outputs": [
    {
     "name": "stderr",
     "output_type": "stream",
     "text": [
      "/Users/zeinathabet/opt/anaconda3/lib/python3.7/site-packages/ipykernel_launcher.py:1: SettingWithCopyWarning: \n",
      "A value is trying to be set on a copy of a slice from a DataFrame.\n",
      "Try using .loc[row_indexer,col_indexer] = value instead\n",
      "\n",
      "See the caveats in the documentation: https://pandas.pydata.org/pandas-docs/stable/user_guide/indexing.html#returning-a-view-versus-a-copy\n",
      "  \"\"\"Entry point for launching an IPython kernel.\n"
     ]
    },
    {
     "data": {
      "text/plain": [
       "0         Dubai Hills Estate\n",
       "2             Downtown Dubai\n",
       "3                  The Views\n",
       "4                      Arjan\n",
       "5                      Arjan\n",
       "                ...         \n",
       "16252          Jumeirah Park\n",
       "16254               Al Satwa\n",
       "16255      Sheikh Zayed Road\n",
       "16256                  Akoya\n",
       "16257               Al Satwa\n",
       "Name: location, Length: 12369, dtype: object"
      ]
     },
     "execution_count": 122,
     "metadata": {},
     "output_type": "execute_result"
    }
   ],
   "source": [
    "df['location'] = df['location'].apply(lambda row: row.split('-')[-2])\n",
    "df['location']"
   ]
  },
  {
   "cell_type": "code",
   "execution_count": null,
   "metadata": {
    "id": "nvtQjvCwGluI"
   },
   "outputs": [],
   "source": []
  },
  {
   "cell_type": "markdown",
   "metadata": {
    "id": "7gTnXcewGluJ"
   },
   "source": [
    "#### Removing trailing spaces"
   ]
  },
  {
   "cell_type": "code",
   "execution_count": 123,
   "metadata": {
    "id": "Owm1KNwNGluJ"
   },
   "outputs": [
    {
     "name": "stderr",
     "output_type": "stream",
     "text": [
      "/Users/zeinathabet/opt/anaconda3/lib/python3.7/site-packages/pandas/core/indexing.py:1676: SettingWithCopyWarning: \n",
      "A value is trying to be set on a copy of a slice from a DataFrame.\n",
      "Try using .loc[row_indexer,col_indexer] = value instead\n",
      "\n",
      "See the caveats in the documentation: https://pandas.pydata.org/pandas-docs/stable/user_guide/indexing.html#returning-a-view-versus-a-copy\n",
      "  self._setitem_single_column(ilocs[0], value, pi)\n"
     ]
    }
   ],
   "source": [
    "df.loc[:,'location'] = df.loc[:,'location'].map(lambda x: x.strip())"
   ]
  },
  {
   "cell_type": "markdown",
   "metadata": {
    "id": "JEu1y2INGluJ"
   },
   "source": [
    "### Count of unique location values"
   ]
  },
  {
   "cell_type": "code",
   "execution_count": 124,
   "metadata": {
    "colab": {
     "base_uri": "https://localhost:8080/"
    },
    "id": "MXvLYgSxGluJ",
    "outputId": "3285facc-d5aa-4088-9d1c-e4a5063ad3b1"
   },
   "outputs": [
    {
     "data": {
      "text/plain": [
       "107"
      ]
     },
     "execution_count": 124,
     "metadata": {},
     "output_type": "execute_result"
    }
   ],
   "source": [
    "len(df['location'].unique())"
   ]
  },
  {
   "cell_type": "markdown",
   "metadata": {
    "id": "da111OlDGluM"
   },
   "source": [
    "Unique values reduced to 107 just by extracting the neighborhood name"
   ]
  },
  {
   "cell_type": "markdown",
   "metadata": {
    "id": "cvHIQI2VGluM"
   },
   "source": [
    "### Checking number of entries for each neighborhood "
   ]
  },
  {
   "cell_type": "code",
   "execution_count": 125,
   "metadata": {
    "colab": {
     "base_uri": "https://localhost:8080/"
    },
    "id": "fPH95-1vGluN",
    "outputId": "cdd3fc09-de86-4de7-f751-601d5db9fe40"
   },
   "outputs": [
    {
     "data": {
      "text/plain": [
       "Dubai Marina               1389\n",
       "Downtown Dubai             1061\n",
       "Jumeirah Village Circle     863\n",
       "Business Bay                714\n",
       "Palm Jumeirah               485\n",
       "                           ... \n",
       "Al Khawaneej                  1\n",
       "Al Jafiliya                   1\n",
       "Al Mizhar                     1\n",
       "Falcon City of Wonders        1\n",
       "Dubai Science Park            1\n",
       "Name: location, Length: 107, dtype: int64"
      ]
     },
     "execution_count": 125,
     "metadata": {},
     "output_type": "execute_result"
    }
   ],
   "source": [
    "df['location'].value_counts()"
   ]
  },
  {
   "cell_type": "markdown",
   "metadata": {
    "id": "wGGfIA34GluN"
   },
   "source": [
    "**If certain entries have less than 10 occurrences, remove them to reduce number of distinct values we have for when one hot encoding is done**"
   ]
  },
  {
   "cell_type": "markdown",
   "metadata": {
    "id": "FFh-yZIHGluN"
   },
   "source": [
    "### Filtering the data frame by value counts of each location value"
   ]
  },
  {
   "cell_type": "code",
   "execution_count": 126,
   "metadata": {
    "id": "9ju7tXgiGluN"
   },
   "outputs": [],
   "source": [
    "df = df.groupby(\"location\").filter(lambda x: len(x) > 10)"
   ]
  },
  {
   "cell_type": "markdown",
   "metadata": {
    "id": "zAZMoDNDGluO"
   },
   "source": [
    "#### Count of unique location values after filtering"
   ]
  },
  {
   "cell_type": "code",
   "execution_count": 127,
   "metadata": {
    "colab": {
     "base_uri": "https://localhost:8080/"
    },
    "id": "v-TZlgDHGluO",
    "outputId": "c1086099-4e1d-4851-81ea-7ca3bf08af30"
   },
   "outputs": [
    {
     "data": {
      "text/plain": [
       "83"
      ]
     },
     "execution_count": 127,
     "metadata": {},
     "output_type": "execute_result"
    }
   ],
   "source": [
    "len(df['location'].unique())"
   ]
  },
  {
   "cell_type": "markdown",
   "metadata": {
    "id": "kQsIpZ3tGluP"
   },
   "source": [
    "Unique value counts reduced to 83"
   ]
  },
  {
   "cell_type": "markdown",
   "metadata": {
    "id": "Q3Nqyv_WGluP"
   },
   "source": [
    "#### Checking that counts less than 10 have been removed"
   ]
  },
  {
   "cell_type": "code",
   "execution_count": 128,
   "metadata": {
    "colab": {
     "base_uri": "https://localhost:8080/"
    },
    "id": "Xsl4_SchGluP",
    "outputId": "f05216b2-a10e-4131-eb41-0855a0befc58"
   },
   "outputs": [
    {
     "data": {
      "text/plain": [
       "Dubai Marina               1389\n",
       "Downtown Dubai             1061\n",
       "Jumeirah Village Circle     863\n",
       "Business Bay                714\n",
       "Palm Jumeirah               485\n",
       "                           ... \n",
       "Majan                        14\n",
       "Meadows                      14\n",
       "Al Khail Heights             12\n",
       "Umm Hurair                   12\n",
       "Al Safa                      11\n",
       "Name: location, Length: 83, dtype: int64"
      ]
     },
     "execution_count": 128,
     "metadata": {},
     "output_type": "execute_result"
    }
   ],
   "source": [
    "df['location'].value_counts()"
   ]
  },
  {
   "cell_type": "code",
   "execution_count": 129,
   "metadata": {},
   "outputs": [],
   "source": [
    "# export to txt file\n",
    "export_unique_column_values_to_txt('location')"
   ]
  },
  {
   "cell_type": "code",
   "execution_count": 130,
   "metadata": {},
   "outputs": [
    {
     "data": {
      "text/html": [
       "<div>\n",
       "<style scoped>\n",
       "    .dataframe tbody tr th:only-of-type {\n",
       "        vertical-align: middle;\n",
       "    }\n",
       "\n",
       "    .dataframe tbody tr th {\n",
       "        vertical-align: top;\n",
       "    }\n",
       "\n",
       "    .dataframe thead th {\n",
       "        text-align: right;\n",
       "    }\n",
       "</style>\n",
       "<table border=\"1\" class=\"dataframe\">\n",
       "  <thead>\n",
       "    <tr style=\"text-align: right;\">\n",
       "      <th></th>\n",
       "      <th>listing_type</th>\n",
       "      <th>bedrooms</th>\n",
       "      <th>bathrooms</th>\n",
       "      <th>area</th>\n",
       "      <th>price</th>\n",
       "      <th>location</th>\n",
       "      <th>description</th>\n",
       "    </tr>\n",
       "  </thead>\n",
       "  <tbody>\n",
       "    <tr>\n",
       "      <th>0</th>\n",
       "      <td>Townhouse</td>\n",
       "      <td>4</td>\n",
       "      <td>4</td>\n",
       "      <td>2165.0</td>\n",
       "      <td>135000.0</td>\n",
       "      <td>Dubai Hills Estate</td>\n",
       "      <td>Brought to you by Driven Properties- this 4 Be...</td>\n",
       "    </tr>\n",
       "    <tr>\n",
       "      <th>2</th>\n",
       "      <td>Apartment</td>\n",
       "      <td>1</td>\n",
       "      <td>2</td>\n",
       "      <td>927.0</td>\n",
       "      <td>145000.0</td>\n",
       "      <td>Downtown Dubai</td>\n",
       "      <td>Brought to you by Driven Properties- this 1 Be...</td>\n",
       "    </tr>\n",
       "    <tr>\n",
       "      <th>3</th>\n",
       "      <td>Apartment</td>\n",
       "      <td>2</td>\n",
       "      <td>2</td>\n",
       "      <td>1085.0</td>\n",
       "      <td>110000.0</td>\n",
       "      <td>The Views</td>\n",
       "      <td>We are very proud to present to you with this ...</td>\n",
       "    </tr>\n",
       "    <tr>\n",
       "      <th>4</th>\n",
       "      <td>Apartment</td>\n",
       "      <td>1</td>\n",
       "      <td>2</td>\n",
       "      <td>857.0</td>\n",
       "      <td>53999.0</td>\n",
       "      <td>Arjan</td>\n",
       "      <td>AZCO REAL ESTATE BROKERS LLC is excited to bri...</td>\n",
       "    </tr>\n",
       "    <tr>\n",
       "      <th>5</th>\n",
       "      <td>Apartment</td>\n",
       "      <td>studio</td>\n",
       "      <td>1</td>\n",
       "      <td>511.0</td>\n",
       "      <td>36999.0</td>\n",
       "      <td>Arjan</td>\n",
       "      <td>AZCO REAL ESTATE BROKERS LLC is excited to bri...</td>\n",
       "    </tr>\n",
       "    <tr>\n",
       "      <th>...</th>\n",
       "      <td>...</td>\n",
       "      <td>...</td>\n",
       "      <td>...</td>\n",
       "      <td>...</td>\n",
       "      <td>...</td>\n",
       "      <td>...</td>\n",
       "      <td>...</td>\n",
       "    </tr>\n",
       "    <tr>\n",
       "      <th>16252</th>\n",
       "      <td>Villa</td>\n",
       "      <td>3</td>\n",
       "      <td>4</td>\n",
       "      <td>3063.0</td>\n",
       "      <td>209999.0</td>\n",
       "      <td>Jumeirah Park</td>\n",
       "      <td>- Legacy Style Villa\\t- All White Goods includ...</td>\n",
       "    </tr>\n",
       "    <tr>\n",
       "      <th>16254</th>\n",
       "      <td>Apartment</td>\n",
       "      <td>3</td>\n",
       "      <td>4</td>\n",
       "      <td>2012.0</td>\n",
       "      <td>150000.0</td>\n",
       "      <td>Al Satwa</td>\n",
       "      <td>The Flagship Two - Jumeirah Garden City Satwa\\...</td>\n",
       "    </tr>\n",
       "    <tr>\n",
       "      <th>16255</th>\n",
       "      <td>Apartment</td>\n",
       "      <td>2</td>\n",
       "      <td>3</td>\n",
       "      <td>1390.0</td>\n",
       "      <td>125000.0</td>\n",
       "      <td>Sheikh Zayed Road</td>\n",
       "      <td>Excel Properties brings you this fully furnish...</td>\n",
       "    </tr>\n",
       "    <tr>\n",
       "      <th>16256</th>\n",
       "      <td>Townhouse</td>\n",
       "      <td>3</td>\n",
       "      <td>1</td>\n",
       "      <td>1881.0</td>\n",
       "      <td>69999.0</td>\n",
       "      <td>Akoya</td>\n",
       "      <td>Amazing Brand New  3 Bedroom with Maids Room\\t...</td>\n",
       "    </tr>\n",
       "    <tr>\n",
       "      <th>16257</th>\n",
       "      <td>Apartment</td>\n",
       "      <td>2</td>\n",
       "      <td>4</td>\n",
       "      <td>1412.0</td>\n",
       "      <td>110000.0</td>\n",
       "      <td>Al Satwa</td>\n",
       "      <td>The Flagship Two - Jumeirah Garden City Satwa\\...</td>\n",
       "    </tr>\n",
       "  </tbody>\n",
       "</table>\n",
       "<p>12266 rows × 7 columns</p>\n",
       "</div>"
      ],
      "text/plain": [
       "      listing_type bedrooms bathrooms    area     price            location  \\\n",
       "0        Townhouse        4         4  2165.0  135000.0  Dubai Hills Estate   \n",
       "2        Apartment        1         2   927.0  145000.0      Downtown Dubai   \n",
       "3        Apartment        2         2  1085.0  110000.0           The Views   \n",
       "4        Apartment        1         2   857.0   53999.0               Arjan   \n",
       "5        Apartment   studio         1   511.0   36999.0               Arjan   \n",
       "...            ...      ...       ...     ...       ...                 ...   \n",
       "16252        Villa        3         4  3063.0  209999.0       Jumeirah Park   \n",
       "16254    Apartment        3         4  2012.0  150000.0            Al Satwa   \n",
       "16255    Apartment        2         3  1390.0  125000.0   Sheikh Zayed Road   \n",
       "16256    Townhouse        3         1  1881.0   69999.0               Akoya   \n",
       "16257    Apartment        2         4  1412.0  110000.0            Al Satwa   \n",
       "\n",
       "                                             description  \n",
       "0      Brought to you by Driven Properties- this 4 Be...  \n",
       "2      Brought to you by Driven Properties- this 1 Be...  \n",
       "3      We are very proud to present to you with this ...  \n",
       "4      AZCO REAL ESTATE BROKERS LLC is excited to bri...  \n",
       "5      AZCO REAL ESTATE BROKERS LLC is excited to bri...  \n",
       "...                                                  ...  \n",
       "16252  - Legacy Style Villa\\t- All White Goods includ...  \n",
       "16254  The Flagship Two - Jumeirah Garden City Satwa\\...  \n",
       "16255  Excel Properties brings you this fully furnish...  \n",
       "16256  Amazing Brand New  3 Bedroom with Maids Room\\t...  \n",
       "16257  The Flagship Two - Jumeirah Garden City Satwa\\...  \n",
       "\n",
       "[12266 rows x 7 columns]"
      ]
     },
     "execution_count": 130,
     "metadata": {},
     "output_type": "execute_result"
    }
   ],
   "source": [
    "df"
   ]
  },
  {
   "cell_type": "markdown",
   "metadata": {
    "id": "T8L4IpANGluQ"
   },
   "source": [
    "### Applying one hot encoding"
   ]
  },
  {
   "cell_type": "code",
   "execution_count": 131,
   "metadata": {},
   "outputs": [
    {
     "data": {
      "text/html": [
       "<div>\n",
       "<style scoped>\n",
       "    .dataframe tbody tr th:only-of-type {\n",
       "        vertical-align: middle;\n",
       "    }\n",
       "\n",
       "    .dataframe tbody tr th {\n",
       "        vertical-align: top;\n",
       "    }\n",
       "\n",
       "    .dataframe thead th {\n",
       "        text-align: right;\n",
       "    }\n",
       "</style>\n",
       "<table border=\"1\" class=\"dataframe\">\n",
       "  <thead>\n",
       "    <tr style=\"text-align: right;\">\n",
       "      <th></th>\n",
       "      <th>listing_type</th>\n",
       "      <th>bedrooms</th>\n",
       "      <th>bathrooms</th>\n",
       "      <th>area</th>\n",
       "      <th>price</th>\n",
       "      <th>location</th>\n",
       "      <th>description</th>\n",
       "    </tr>\n",
       "  </thead>\n",
       "  <tbody>\n",
       "    <tr>\n",
       "      <th>0</th>\n",
       "      <td>Townhouse</td>\n",
       "      <td>4</td>\n",
       "      <td>4</td>\n",
       "      <td>2165.0</td>\n",
       "      <td>135000.0</td>\n",
       "      <td>Dubai Hills Estate</td>\n",
       "      <td>Brought to you by Driven Properties- this 4 Be...</td>\n",
       "    </tr>\n",
       "    <tr>\n",
       "      <th>2</th>\n",
       "      <td>Apartment</td>\n",
       "      <td>1</td>\n",
       "      <td>2</td>\n",
       "      <td>927.0</td>\n",
       "      <td>145000.0</td>\n",
       "      <td>Downtown Dubai</td>\n",
       "      <td>Brought to you by Driven Properties- this 1 Be...</td>\n",
       "    </tr>\n",
       "    <tr>\n",
       "      <th>3</th>\n",
       "      <td>Apartment</td>\n",
       "      <td>2</td>\n",
       "      <td>2</td>\n",
       "      <td>1085.0</td>\n",
       "      <td>110000.0</td>\n",
       "      <td>The Views</td>\n",
       "      <td>We are very proud to present to you with this ...</td>\n",
       "    </tr>\n",
       "    <tr>\n",
       "      <th>4</th>\n",
       "      <td>Apartment</td>\n",
       "      <td>1</td>\n",
       "      <td>2</td>\n",
       "      <td>857.0</td>\n",
       "      <td>53999.0</td>\n",
       "      <td>Arjan</td>\n",
       "      <td>AZCO REAL ESTATE BROKERS LLC is excited to bri...</td>\n",
       "    </tr>\n",
       "    <tr>\n",
       "      <th>5</th>\n",
       "      <td>Apartment</td>\n",
       "      <td>studio</td>\n",
       "      <td>1</td>\n",
       "      <td>511.0</td>\n",
       "      <td>36999.0</td>\n",
       "      <td>Arjan</td>\n",
       "      <td>AZCO REAL ESTATE BROKERS LLC is excited to bri...</td>\n",
       "    </tr>\n",
       "    <tr>\n",
       "      <th>...</th>\n",
       "      <td>...</td>\n",
       "      <td>...</td>\n",
       "      <td>...</td>\n",
       "      <td>...</td>\n",
       "      <td>...</td>\n",
       "      <td>...</td>\n",
       "      <td>...</td>\n",
       "    </tr>\n",
       "    <tr>\n",
       "      <th>16252</th>\n",
       "      <td>Villa</td>\n",
       "      <td>3</td>\n",
       "      <td>4</td>\n",
       "      <td>3063.0</td>\n",
       "      <td>209999.0</td>\n",
       "      <td>Jumeirah Park</td>\n",
       "      <td>- Legacy Style Villa\\t- All White Goods includ...</td>\n",
       "    </tr>\n",
       "    <tr>\n",
       "      <th>16254</th>\n",
       "      <td>Apartment</td>\n",
       "      <td>3</td>\n",
       "      <td>4</td>\n",
       "      <td>2012.0</td>\n",
       "      <td>150000.0</td>\n",
       "      <td>Al Satwa</td>\n",
       "      <td>The Flagship Two - Jumeirah Garden City Satwa\\...</td>\n",
       "    </tr>\n",
       "    <tr>\n",
       "      <th>16255</th>\n",
       "      <td>Apartment</td>\n",
       "      <td>2</td>\n",
       "      <td>3</td>\n",
       "      <td>1390.0</td>\n",
       "      <td>125000.0</td>\n",
       "      <td>Sheikh Zayed Road</td>\n",
       "      <td>Excel Properties brings you this fully furnish...</td>\n",
       "    </tr>\n",
       "    <tr>\n",
       "      <th>16256</th>\n",
       "      <td>Townhouse</td>\n",
       "      <td>3</td>\n",
       "      <td>1</td>\n",
       "      <td>1881.0</td>\n",
       "      <td>69999.0</td>\n",
       "      <td>Akoya</td>\n",
       "      <td>Amazing Brand New  3 Bedroom with Maids Room\\t...</td>\n",
       "    </tr>\n",
       "    <tr>\n",
       "      <th>16257</th>\n",
       "      <td>Apartment</td>\n",
       "      <td>2</td>\n",
       "      <td>4</td>\n",
       "      <td>1412.0</td>\n",
       "      <td>110000.0</td>\n",
       "      <td>Al Satwa</td>\n",
       "      <td>The Flagship Two - Jumeirah Garden City Satwa\\...</td>\n",
       "    </tr>\n",
       "  </tbody>\n",
       "</table>\n",
       "<p>12266 rows × 7 columns</p>\n",
       "</div>"
      ],
      "text/plain": [
       "      listing_type bedrooms bathrooms    area     price            location  \\\n",
       "0        Townhouse        4         4  2165.0  135000.0  Dubai Hills Estate   \n",
       "2        Apartment        1         2   927.0  145000.0      Downtown Dubai   \n",
       "3        Apartment        2         2  1085.0  110000.0           The Views   \n",
       "4        Apartment        1         2   857.0   53999.0               Arjan   \n",
       "5        Apartment   studio         1   511.0   36999.0               Arjan   \n",
       "...            ...      ...       ...     ...       ...                 ...   \n",
       "16252        Villa        3         4  3063.0  209999.0       Jumeirah Park   \n",
       "16254    Apartment        3         4  2012.0  150000.0            Al Satwa   \n",
       "16255    Apartment        2         3  1390.0  125000.0   Sheikh Zayed Road   \n",
       "16256    Townhouse        3         1  1881.0   69999.0               Akoya   \n",
       "16257    Apartment        2         4  1412.0  110000.0            Al Satwa   \n",
       "\n",
       "                                             description  \n",
       "0      Brought to you by Driven Properties- this 4 Be...  \n",
       "2      Brought to you by Driven Properties- this 1 Be...  \n",
       "3      We are very proud to present to you with this ...  \n",
       "4      AZCO REAL ESTATE BROKERS LLC is excited to bri...  \n",
       "5      AZCO REAL ESTATE BROKERS LLC is excited to bri...  \n",
       "...                                                  ...  \n",
       "16252  - Legacy Style Villa\\t- All White Goods includ...  \n",
       "16254  The Flagship Two - Jumeirah Garden City Satwa\\...  \n",
       "16255  Excel Properties brings you this fully furnish...  \n",
       "16256  Amazing Brand New  3 Bedroom with Maids Room\\t...  \n",
       "16257  The Flagship Two - Jumeirah Garden City Satwa\\...  \n",
       "\n",
       "[12266 rows x 7 columns]"
      ]
     },
     "execution_count": 131,
     "metadata": {},
     "output_type": "execute_result"
    }
   ],
   "source": [
    "# df = encode_to_numerical_and_bind(df, 'location')\n",
    "df"
   ]
  },
  {
   "cell_type": "code",
   "execution_count": 132,
   "metadata": {},
   "outputs": [],
   "source": [
    "# from sklearn.preprocessing import OneHotEncoder\n",
    "# location_encoder = OneHotEncoder()"
   ]
  },
  {
   "cell_type": "code",
   "execution_count": 133,
   "metadata": {},
   "outputs": [],
   "source": [
    "# location_list = df['location'].values.reshape(-1,1)\n",
    "# location_list"
   ]
  },
  {
   "cell_type": "code",
   "execution_count": 134,
   "metadata": {
    "tags": []
   },
   "outputs": [],
   "source": [
    "# encoded_location = location_encoder.fit_transform(location_list)\n",
    "# encoded_location"
   ]
  },
  {
   "cell_type": "code",
   "execution_count": 135,
   "metadata": {},
   "outputs": [],
   "source": [
    "# encoded_location"
   ]
  },
  {
   "cell_type": "code",
   "execution_count": 136,
   "metadata": {
    "colab": {
     "base_uri": "https://localhost:8080/",
     "height": 0
    },
    "id": "V-zaLDDRGluQ",
    "outputId": "e4e9b896-67c8-4fce-cdbe-5b26ed3971c4"
   },
   "outputs": [
    {
     "data": {
      "text/html": [
       "<div>\n",
       "<style scoped>\n",
       "    .dataframe tbody tr th:only-of-type {\n",
       "        vertical-align: middle;\n",
       "    }\n",
       "\n",
       "    .dataframe tbody tr th {\n",
       "        vertical-align: top;\n",
       "    }\n",
       "\n",
       "    .dataframe thead th {\n",
       "        text-align: right;\n",
       "    }\n",
       "</style>\n",
       "<table border=\"1\" class=\"dataframe\">\n",
       "  <thead>\n",
       "    <tr style=\"text-align: right;\">\n",
       "      <th></th>\n",
       "      <th>listing_type</th>\n",
       "      <th>bedrooms</th>\n",
       "      <th>bathrooms</th>\n",
       "      <th>area</th>\n",
       "      <th>price</th>\n",
       "      <th>location</th>\n",
       "      <th>description</th>\n",
       "    </tr>\n",
       "  </thead>\n",
       "  <tbody>\n",
       "    <tr>\n",
       "      <th>0</th>\n",
       "      <td>Townhouse</td>\n",
       "      <td>4</td>\n",
       "      <td>4</td>\n",
       "      <td>2165.0</td>\n",
       "      <td>135000.0</td>\n",
       "      <td>Dubai Hills Estate</td>\n",
       "      <td>Brought to you by Driven Properties- this 4 Be...</td>\n",
       "    </tr>\n",
       "    <tr>\n",
       "      <th>2</th>\n",
       "      <td>Apartment</td>\n",
       "      <td>1</td>\n",
       "      <td>2</td>\n",
       "      <td>927.0</td>\n",
       "      <td>145000.0</td>\n",
       "      <td>Downtown Dubai</td>\n",
       "      <td>Brought to you by Driven Properties- this 1 Be...</td>\n",
       "    </tr>\n",
       "    <tr>\n",
       "      <th>3</th>\n",
       "      <td>Apartment</td>\n",
       "      <td>2</td>\n",
       "      <td>2</td>\n",
       "      <td>1085.0</td>\n",
       "      <td>110000.0</td>\n",
       "      <td>The Views</td>\n",
       "      <td>We are very proud to present to you with this ...</td>\n",
       "    </tr>\n",
       "    <tr>\n",
       "      <th>4</th>\n",
       "      <td>Apartment</td>\n",
       "      <td>1</td>\n",
       "      <td>2</td>\n",
       "      <td>857.0</td>\n",
       "      <td>53999.0</td>\n",
       "      <td>Arjan</td>\n",
       "      <td>AZCO REAL ESTATE BROKERS LLC is excited to bri...</td>\n",
       "    </tr>\n",
       "    <tr>\n",
       "      <th>5</th>\n",
       "      <td>Apartment</td>\n",
       "      <td>studio</td>\n",
       "      <td>1</td>\n",
       "      <td>511.0</td>\n",
       "      <td>36999.0</td>\n",
       "      <td>Arjan</td>\n",
       "      <td>AZCO REAL ESTATE BROKERS LLC is excited to bri...</td>\n",
       "    </tr>\n",
       "    <tr>\n",
       "      <th>...</th>\n",
       "      <td>...</td>\n",
       "      <td>...</td>\n",
       "      <td>...</td>\n",
       "      <td>...</td>\n",
       "      <td>...</td>\n",
       "      <td>...</td>\n",
       "      <td>...</td>\n",
       "    </tr>\n",
       "    <tr>\n",
       "      <th>16252</th>\n",
       "      <td>Villa</td>\n",
       "      <td>3</td>\n",
       "      <td>4</td>\n",
       "      <td>3063.0</td>\n",
       "      <td>209999.0</td>\n",
       "      <td>Jumeirah Park</td>\n",
       "      <td>- Legacy Style Villa\\t- All White Goods includ...</td>\n",
       "    </tr>\n",
       "    <tr>\n",
       "      <th>16254</th>\n",
       "      <td>Apartment</td>\n",
       "      <td>3</td>\n",
       "      <td>4</td>\n",
       "      <td>2012.0</td>\n",
       "      <td>150000.0</td>\n",
       "      <td>Al Satwa</td>\n",
       "      <td>The Flagship Two - Jumeirah Garden City Satwa\\...</td>\n",
       "    </tr>\n",
       "    <tr>\n",
       "      <th>16255</th>\n",
       "      <td>Apartment</td>\n",
       "      <td>2</td>\n",
       "      <td>3</td>\n",
       "      <td>1390.0</td>\n",
       "      <td>125000.0</td>\n",
       "      <td>Sheikh Zayed Road</td>\n",
       "      <td>Excel Properties brings you this fully furnish...</td>\n",
       "    </tr>\n",
       "    <tr>\n",
       "      <th>16256</th>\n",
       "      <td>Townhouse</td>\n",
       "      <td>3</td>\n",
       "      <td>1</td>\n",
       "      <td>1881.0</td>\n",
       "      <td>69999.0</td>\n",
       "      <td>Akoya</td>\n",
       "      <td>Amazing Brand New  3 Bedroom with Maids Room\\t...</td>\n",
       "    </tr>\n",
       "    <tr>\n",
       "      <th>16257</th>\n",
       "      <td>Apartment</td>\n",
       "      <td>2</td>\n",
       "      <td>4</td>\n",
       "      <td>1412.0</td>\n",
       "      <td>110000.0</td>\n",
       "      <td>Al Satwa</td>\n",
       "      <td>The Flagship Two - Jumeirah Garden City Satwa\\...</td>\n",
       "    </tr>\n",
       "  </tbody>\n",
       "</table>\n",
       "<p>12266 rows × 7 columns</p>\n",
       "</div>"
      ],
      "text/plain": [
       "      listing_type bedrooms bathrooms    area     price            location  \\\n",
       "0        Townhouse        4         4  2165.0  135000.0  Dubai Hills Estate   \n",
       "2        Apartment        1         2   927.0  145000.0      Downtown Dubai   \n",
       "3        Apartment        2         2  1085.0  110000.0           The Views   \n",
       "4        Apartment        1         2   857.0   53999.0               Arjan   \n",
       "5        Apartment   studio         1   511.0   36999.0               Arjan   \n",
       "...            ...      ...       ...     ...       ...                 ...   \n",
       "16252        Villa        3         4  3063.0  209999.0       Jumeirah Park   \n",
       "16254    Apartment        3         4  2012.0  150000.0            Al Satwa   \n",
       "16255    Apartment        2         3  1390.0  125000.0   Sheikh Zayed Road   \n",
       "16256    Townhouse        3         1  1881.0   69999.0               Akoya   \n",
       "16257    Apartment        2         4  1412.0  110000.0            Al Satwa   \n",
       "\n",
       "                                             description  \n",
       "0      Brought to you by Driven Properties- this 4 Be...  \n",
       "2      Brought to you by Driven Properties- this 1 Be...  \n",
       "3      We are very proud to present to you with this ...  \n",
       "4      AZCO REAL ESTATE BROKERS LLC is excited to bri...  \n",
       "5      AZCO REAL ESTATE BROKERS LLC is excited to bri...  \n",
       "...                                                  ...  \n",
       "16252  - Legacy Style Villa\\t- All White Goods includ...  \n",
       "16254  The Flagship Two - Jumeirah Garden City Satwa\\...  \n",
       "16255  Excel Properties brings you this fully furnish...  \n",
       "16256  Amazing Brand New  3 Bedroom with Maids Room\\t...  \n",
       "16257  The Flagship Two - Jumeirah Garden City Satwa\\...  \n",
       "\n",
       "[12266 rows x 7 columns]"
      ]
     },
     "execution_count": 136,
     "metadata": {},
     "output_type": "execute_result"
    }
   ],
   "source": [
    "#df = encode_and_bind(df, 'location')\n",
    "df"
   ]
  },
  {
   "cell_type": "markdown",
   "metadata": {
    "id": "2mU_MmCKGluQ"
   },
   "source": [
    "#### Recap of what has changed in location column:\n",
    "\n",
    "1. extracted and kept the neighborhood name only in location text\n",
    "2. removed entries that have less than 10 occurrences to reduce number of columns for one hot encoding\n",
    "3. applied one hot encoding on location"
   ]
  },
  {
   "cell_type": "code",
   "execution_count": 137,
   "metadata": {
    "colab": {
     "base_uri": "https://localhost:8080/",
     "height": 0
    },
    "id": "foxUoBqpGluR",
    "outputId": "aafee289-5cdc-4b74-80ef-0cd4f9f1aead"
   },
   "outputs": [
    {
     "data": {
      "text/html": [
       "<div>\n",
       "<style scoped>\n",
       "    .dataframe tbody tr th:only-of-type {\n",
       "        vertical-align: middle;\n",
       "    }\n",
       "\n",
       "    .dataframe tbody tr th {\n",
       "        vertical-align: top;\n",
       "    }\n",
       "\n",
       "    .dataframe thead th {\n",
       "        text-align: right;\n",
       "    }\n",
       "</style>\n",
       "<table border=\"1\" class=\"dataframe\">\n",
       "  <thead>\n",
       "    <tr style=\"text-align: right;\">\n",
       "      <th></th>\n",
       "      <th>listing_type</th>\n",
       "      <th>bedrooms</th>\n",
       "      <th>bathrooms</th>\n",
       "      <th>area</th>\n",
       "      <th>price</th>\n",
       "      <th>location</th>\n",
       "      <th>description</th>\n",
       "    </tr>\n",
       "  </thead>\n",
       "  <tbody>\n",
       "    <tr>\n",
       "      <th>0</th>\n",
       "      <td>Townhouse</td>\n",
       "      <td>4</td>\n",
       "      <td>4</td>\n",
       "      <td>2165.0</td>\n",
       "      <td>135000.0</td>\n",
       "      <td>Dubai Hills Estate</td>\n",
       "      <td>Brought to you by Driven Properties- this 4 Be...</td>\n",
       "    </tr>\n",
       "    <tr>\n",
       "      <th>2</th>\n",
       "      <td>Apartment</td>\n",
       "      <td>1</td>\n",
       "      <td>2</td>\n",
       "      <td>927.0</td>\n",
       "      <td>145000.0</td>\n",
       "      <td>Downtown Dubai</td>\n",
       "      <td>Brought to you by Driven Properties- this 1 Be...</td>\n",
       "    </tr>\n",
       "    <tr>\n",
       "      <th>3</th>\n",
       "      <td>Apartment</td>\n",
       "      <td>2</td>\n",
       "      <td>2</td>\n",
       "      <td>1085.0</td>\n",
       "      <td>110000.0</td>\n",
       "      <td>The Views</td>\n",
       "      <td>We are very proud to present to you with this ...</td>\n",
       "    </tr>\n",
       "    <tr>\n",
       "      <th>4</th>\n",
       "      <td>Apartment</td>\n",
       "      <td>1</td>\n",
       "      <td>2</td>\n",
       "      <td>857.0</td>\n",
       "      <td>53999.0</td>\n",
       "      <td>Arjan</td>\n",
       "      <td>AZCO REAL ESTATE BROKERS LLC is excited to bri...</td>\n",
       "    </tr>\n",
       "    <tr>\n",
       "      <th>5</th>\n",
       "      <td>Apartment</td>\n",
       "      <td>studio</td>\n",
       "      <td>1</td>\n",
       "      <td>511.0</td>\n",
       "      <td>36999.0</td>\n",
       "      <td>Arjan</td>\n",
       "      <td>AZCO REAL ESTATE BROKERS LLC is excited to bri...</td>\n",
       "    </tr>\n",
       "    <tr>\n",
       "      <th>...</th>\n",
       "      <td>...</td>\n",
       "      <td>...</td>\n",
       "      <td>...</td>\n",
       "      <td>...</td>\n",
       "      <td>...</td>\n",
       "      <td>...</td>\n",
       "      <td>...</td>\n",
       "    </tr>\n",
       "    <tr>\n",
       "      <th>16252</th>\n",
       "      <td>Villa</td>\n",
       "      <td>3</td>\n",
       "      <td>4</td>\n",
       "      <td>3063.0</td>\n",
       "      <td>209999.0</td>\n",
       "      <td>Jumeirah Park</td>\n",
       "      <td>- Legacy Style Villa\\t- All White Goods includ...</td>\n",
       "    </tr>\n",
       "    <tr>\n",
       "      <th>16254</th>\n",
       "      <td>Apartment</td>\n",
       "      <td>3</td>\n",
       "      <td>4</td>\n",
       "      <td>2012.0</td>\n",
       "      <td>150000.0</td>\n",
       "      <td>Al Satwa</td>\n",
       "      <td>The Flagship Two - Jumeirah Garden City Satwa\\...</td>\n",
       "    </tr>\n",
       "    <tr>\n",
       "      <th>16255</th>\n",
       "      <td>Apartment</td>\n",
       "      <td>2</td>\n",
       "      <td>3</td>\n",
       "      <td>1390.0</td>\n",
       "      <td>125000.0</td>\n",
       "      <td>Sheikh Zayed Road</td>\n",
       "      <td>Excel Properties brings you this fully furnish...</td>\n",
       "    </tr>\n",
       "    <tr>\n",
       "      <th>16256</th>\n",
       "      <td>Townhouse</td>\n",
       "      <td>3</td>\n",
       "      <td>1</td>\n",
       "      <td>1881.0</td>\n",
       "      <td>69999.0</td>\n",
       "      <td>Akoya</td>\n",
       "      <td>Amazing Brand New  3 Bedroom with Maids Room\\t...</td>\n",
       "    </tr>\n",
       "    <tr>\n",
       "      <th>16257</th>\n",
       "      <td>Apartment</td>\n",
       "      <td>2</td>\n",
       "      <td>4</td>\n",
       "      <td>1412.0</td>\n",
       "      <td>110000.0</td>\n",
       "      <td>Al Satwa</td>\n",
       "      <td>The Flagship Two - Jumeirah Garden City Satwa\\...</td>\n",
       "    </tr>\n",
       "  </tbody>\n",
       "</table>\n",
       "<p>12266 rows × 7 columns</p>\n",
       "</div>"
      ],
      "text/plain": [
       "      listing_type bedrooms bathrooms    area     price            location  \\\n",
       "0        Townhouse        4         4  2165.0  135000.0  Dubai Hills Estate   \n",
       "2        Apartment        1         2   927.0  145000.0      Downtown Dubai   \n",
       "3        Apartment        2         2  1085.0  110000.0           The Views   \n",
       "4        Apartment        1         2   857.0   53999.0               Arjan   \n",
       "5        Apartment   studio         1   511.0   36999.0               Arjan   \n",
       "...            ...      ...       ...     ...       ...                 ...   \n",
       "16252        Villa        3         4  3063.0  209999.0       Jumeirah Park   \n",
       "16254    Apartment        3         4  2012.0  150000.0            Al Satwa   \n",
       "16255    Apartment        2         3  1390.0  125000.0   Sheikh Zayed Road   \n",
       "16256    Townhouse        3         1  1881.0   69999.0               Akoya   \n",
       "16257    Apartment        2         4  1412.0  110000.0            Al Satwa   \n",
       "\n",
       "                                             description  \n",
       "0      Brought to you by Driven Properties- this 4 Be...  \n",
       "2      Brought to you by Driven Properties- this 1 Be...  \n",
       "3      We are very proud to present to you with this ...  \n",
       "4      AZCO REAL ESTATE BROKERS LLC is excited to bri...  \n",
       "5      AZCO REAL ESTATE BROKERS LLC is excited to bri...  \n",
       "...                                                  ...  \n",
       "16252  - Legacy Style Villa\\t- All White Goods includ...  \n",
       "16254  The Flagship Two - Jumeirah Garden City Satwa\\...  \n",
       "16255  Excel Properties brings you this fully furnish...  \n",
       "16256  Amazing Brand New  3 Bedroom with Maids Room\\t...  \n",
       "16257  The Flagship Two - Jumeirah Garden City Satwa\\...  \n",
       "\n",
       "[12266 rows x 7 columns]"
      ]
     },
     "execution_count": 137,
     "metadata": {},
     "output_type": "execute_result"
    }
   ],
   "source": [
    "df"
   ]
  },
  {
   "cell_type": "markdown",
   "metadata": {
    "id": "Q9FyALE0GluR"
   },
   "source": [
    "## Bedrooms Column"
   ]
  },
  {
   "cell_type": "code",
   "execution_count": 138,
   "metadata": {
    "colab": {
     "base_uri": "https://localhost:8080/"
    },
    "id": "CgpklG1rGluR",
    "outputId": "9ad8998a-6e5b-4ca7-8961-64a57d83d65c"
   },
   "outputs": [
    {
     "data": {
      "text/plain": [
       "1         4389\n",
       "2         3431\n",
       "3         1985\n",
       "studio    1575\n",
       "4          731\n",
       "5          127\n",
       "6           23\n",
       "Studio       3\n",
       "7+           1\n",
       "7            1\n",
       "Name: bedrooms, dtype: int64"
      ]
     },
     "execution_count": 138,
     "metadata": {},
     "output_type": "execute_result"
    }
   ],
   "source": [
    "df.loc[:, 'bedrooms'].value_counts()"
   ]
  },
  {
   "cell_type": "markdown",
   "metadata": {
    "id": "LRc_h-zGGluS"
   },
   "source": [
    "**We notice that:**\n",
    "\n",
    "We have to have either all values as textual or numerical data but cannot due to \"7+\" and \"studio\"\n",
    "\n",
    "And we have two choices: \n",
    "\n",
    "1. convert them all to textual data since they can fit into categories like: \"one bedroom\", \"two bedrooms\", \"studio\", etc...\n",
    "\n",
    "2. convert them all to numerical by making studio to 0 and getting rid of \"7+\" values since they are only 2 entries. \n",
    "\n",
    "We decided to go with the second option to preserve the ordering of the data and since we are predicting a continuous number (price) numerical data would have a better effect than one hot encoded data of 1s and 0s"
   ]
  },
  {
   "cell_type": "code",
   "execution_count": 139,
   "metadata": {},
   "outputs": [],
   "source": [
    "df['bedrooms'] = df['bedrooms'].str.lower()"
   ]
  },
  {
   "cell_type": "markdown",
   "metadata": {
    "id": "0BigySSxGluS"
   },
   "source": [
    "#### Removing \"7+\" rows"
   ]
  },
  {
   "cell_type": "code",
   "execution_count": 140,
   "metadata": {
    "colab": {
     "base_uri": "https://localhost:8080/"
    },
    "id": "utYm25noGluT",
    "outputId": "4dff7151-d112-4bd0-b87e-e57029aef535"
   },
   "outputs": [
    {
     "data": {
      "text/plain": [
       "1         4389\n",
       "2         3431\n",
       "3         1985\n",
       "studio    1578\n",
       "4          731\n",
       "5          127\n",
       "6           23\n",
       "7            1\n",
       "Name: bedrooms, dtype: int64"
      ]
     },
     "execution_count": 140,
     "metadata": {},
     "output_type": "execute_result"
    }
   ],
   "source": [
    "df = df[df['bedrooms']!= '7+']\n",
    "df.loc[:, 'bedrooms'].value_counts()"
   ]
  },
  {
   "cell_type": "markdown",
   "metadata": {
    "id": "1qnib9oGGluT"
   },
   "source": [
    "#### Removing row with value of 7"
   ]
  },
  {
   "cell_type": "code",
   "execution_count": 141,
   "metadata": {
    "colab": {
     "base_uri": "https://localhost:8080/"
    },
    "id": "Uuh7IVT2GluT",
    "outputId": "a70b11e8-3d7a-4ef2-f59b-0c142e16615c"
   },
   "outputs": [
    {
     "data": {
      "text/plain": [
       "1         4389\n",
       "2         3431\n",
       "3         1985\n",
       "studio    1578\n",
       "4          731\n",
       "5          127\n",
       "6           23\n",
       "Name: bedrooms, dtype: int64"
      ]
     },
     "execution_count": 141,
     "metadata": {},
     "output_type": "execute_result"
    }
   ],
   "source": [
    "df = df[df['bedrooms']!= '7']\n",
    "df.loc[:, 'bedrooms'].value_counts()"
   ]
  },
  {
   "cell_type": "markdown",
   "metadata": {
    "id": "lNpQugFGGluU"
   },
   "source": [
    "row values 7+ and 7 removed"
   ]
  },
  {
   "cell_type": "markdown",
   "metadata": {
    "id": "WN5Q1WJWGluU"
   },
   "source": [
    "#### Replacing studio with 0"
   ]
  },
  {
   "cell_type": "code",
   "execution_count": 142,
   "metadata": {
    "id": "uT04FAhRGluU"
   },
   "outputs": [],
   "source": [
    "df['bedrooms'] = df['bedrooms'].replace('studio', 0)"
   ]
  },
  {
   "cell_type": "code",
   "execution_count": 143,
   "metadata": {
    "colab": {
     "base_uri": "https://localhost:8080/"
    },
    "id": "wXAS02FTGluV",
    "outputId": "54182d0a-f4ee-406c-9101-5c2619fcad3d"
   },
   "outputs": [
    {
     "data": {
      "text/plain": [
       "1    4389\n",
       "2    3431\n",
       "3    1985\n",
       "0    1578\n",
       "4     731\n",
       "5     127\n",
       "6      23\n",
       "Name: bedrooms, dtype: int64"
      ]
     },
     "execution_count": 143,
     "metadata": {},
     "output_type": "execute_result"
    }
   ],
   "source": [
    "df.loc[:, 'bedrooms'].value_counts()"
   ]
  },
  {
   "cell_type": "markdown",
   "metadata": {
    "id": "F515qwfFGluV"
   },
   "source": [
    "Studio values successfully replaced with 0"
   ]
  },
  {
   "cell_type": "code",
   "execution_count": 144,
   "metadata": {
    "id": "5HNiM27OGluV",
    "tags": []
   },
   "outputs": [],
   "source": [
    "df['bedrooms'] = df['bedrooms'].astype(int)\n"
   ]
  },
  {
   "cell_type": "markdown",
   "metadata": {
    "id": "FglvJwuqGluW"
   },
   "source": [
    "## Bathrooms Column"
   ]
  },
  {
   "cell_type": "code",
   "execution_count": 145,
   "metadata": {
    "colab": {
     "base_uri": "https://localhost:8080/"
    },
    "id": "vhSMVHECGluW",
    "outputId": "7e70adbe-034e-4da7-c308-23e98fb86da1"
   },
   "outputs": [
    {
     "data": {
      "text/plain": [
       "2     4485\n",
       "1     2868\n",
       "3     2820\n",
       "4     1437\n",
       "5      517\n",
       "6      110\n",
       "7       24\n",
       "7+       3\n",
       "Name: bathrooms, dtype: int64"
      ]
     },
     "execution_count": 145,
     "metadata": {},
     "output_type": "execute_result"
    }
   ],
   "source": [
    "df['bathrooms'].value_counts()"
   ]
  },
  {
   "cell_type": "markdown",
   "metadata": {
    "id": "49CZGEiZGluX"
   },
   "source": [
    "We decided to remove the rows that have the value of \"7+\" due to their limited number "
   ]
  },
  {
   "cell_type": "code",
   "execution_count": null,
   "metadata": {
    "id": "cCkhrYaHGluX"
   },
   "outputs": [],
   "source": []
  },
  {
   "cell_type": "markdown",
   "metadata": {
    "id": "s8INqJFEGluX"
   },
   "source": [
    "### Removing rows with value \"7+\""
   ]
  },
  {
   "cell_type": "code",
   "execution_count": 146,
   "metadata": {
    "colab": {
     "base_uri": "https://localhost:8080/"
    },
    "id": "_P-Y0hwKGluY",
    "outputId": "3a191617-00ce-43b8-b14a-b230fa9db696"
   },
   "outputs": [
    {
     "data": {
      "text/plain": [
       "2    4485\n",
       "1    2868\n",
       "3    2820\n",
       "4    1437\n",
       "5     517\n",
       "6     110\n",
       "7      24\n",
       "Name: bathrooms, dtype: int64"
      ]
     },
     "execution_count": 146,
     "metadata": {},
     "output_type": "execute_result"
    }
   ],
   "source": [
    "df = df[df['bathrooms']!= '7+']\n",
    "df['bathrooms'].value_counts()"
   ]
  },
  {
   "cell_type": "code",
   "execution_count": 147,
   "metadata": {
    "id": "0D7u9_q_GluY"
   },
   "outputs": [],
   "source": [
    "df['bathrooms'] = df['bathrooms'].astype(int)"
   ]
  },
  {
   "cell_type": "code",
   "execution_count": 148,
   "metadata": {
    "id": "Z1hYat88GluY"
   },
   "outputs": [],
   "source": [
    "# df.to_csv('raw_data.csv', index=False)"
   ]
  },
  {
   "cell_type": "markdown",
   "metadata": {
    "id": "iiWC4oqOGluZ"
   },
   "source": [
    "## Seperating attributes columns and target column"
   ]
  },
  {
   "cell_type": "code",
   "execution_count": 149,
   "metadata": {
    "colab": {
     "base_uri": "https://localhost:8080/"
    },
    "id": "6-u6ccQPGluZ",
    "outputId": "81dedf33-da00-4656-d3cf-78da379fdbfe"
   },
   "outputs": [
    {
     "data": {
      "text/plain": [
       "0        135000.0\n",
       "2        145000.0\n",
       "3        110000.0\n",
       "4         53999.0\n",
       "5         36999.0\n",
       "           ...   \n",
       "16252    209999.0\n",
       "16254    150000.0\n",
       "16255    125000.0\n",
       "16256     69999.0\n",
       "16257    110000.0\n",
       "Name: price, Length: 12261, dtype: float64"
      ]
     },
     "execution_count": 149,
     "metadata": {},
     "output_type": "execute_result"
    }
   ],
   "source": [
    "Y = df['price']\n",
    "Y"
   ]
  },
  {
   "cell_type": "code",
   "execution_count": 150,
   "metadata": {
    "id": "Ig6wV-WfGlua"
   },
   "outputs": [],
   "source": [
    "X = df.loc[:,df.columns != 'price']"
   ]
  },
  {
   "cell_type": "markdown",
   "metadata": {
    "id": "dUqc2lf1Glua",
    "tags": []
   },
   "source": [
    "# Converting description to numerical data\n",
    "This stage involves two steps:\n",
    "\n",
    "    1. Text cleaning:\n",
    "    \n",
    "        - removing punctuation\n",
    "        - removing stop words\n",
    "        - stemming the text (transform word to the original form)\n",
    "        \n",
    "    2. convert text to numerical form"
   ]
  },
  {
   "cell_type": "markdown",
   "metadata": {
    "id": "j-0hf0N3Glub",
    "tags": []
   },
   "source": [
    "Inspecting the first 2 rows"
   ]
  },
  {
   "cell_type": "code",
   "execution_count": 151,
   "metadata": {
    "colab": {
     "base_uri": "https://localhost:8080/"
    },
    "id": "kN2xL6h4Glub",
    "outputId": "786f00bf-cfe8-4b0a-ac1b-9bd4a08665fa"
   },
   "outputs": [
    {
     "name": "stdout",
     "output_type": "stream",
     "text": [
      "Brought to you by Driven Properties- this 4 Bedroom Townhouse is located in Maple 2- Dubai Hills Estate.\tUnit Details:\t  * Vacant\t  * Townhouse\t  * View: Park\t  * Kitchen: Open and Fully Fitted\t  * Bathrooms: 4\t  * Built up Area: 2165 square feet\t  * Furnished: No\tFeatures:\t  * Shared pool\t  * Professionally landscaped garden\t  * Childrens nursery\t  * Public transport\t  * Shops\t  * Children's play area\t  * Public park\t  * Restaurants\t  * Public parking\t  * Communal gardens\tDubai Hills Estate is a fully integrated community with luscious landscaped greens and pristine fairways with an iconic backdrop of the Burj Khalifa and the Dubai skyline.\tCall our Business Bay office for more information or viewing on +97144297040 for out of office hours or weekends call +971553658402.\tAsk us about:\t  * Mortgage Advisory\t  * Property Management\t  * Holiday Homes\t  * Interior Design\tVisit our offices across Dubai's most popular communities including:\t  * Business Bay\t  * Dubai Creek Harbour\t  * Jumeirah Village Circle\t  * Dubai Hills Estate\n",
      "\n",
      "\n",
      "Brought to you by Driven Properties- this 1 Bedroom Apartment is located in The Address Downtown Hotel- Downtown Dubai.\tUnit Details:\t  * Ready to move in\t  * Mid Floor\t  * View: Burj khalifa\t  * Kitchen: Open and Fully Fitted\t  * Bathrooms: 2\t  * Built-up Area: 927 sqft\t  * Furnished: Yes\t  * No. of Cheques: 2\t  * Security Deposit: 10%\tFeatures:\t  * Shared swimming pool\t  * Gymnasium\t  * Shops\t  * Restaurants\t  * Shopping mall\t  * Mosque\tDowntown Dubai is the city’s busy tourism hub. Home to the towering Burj Khalifa skyscraper- with its observation deck- and the dancing Dubai Fountain where crowds gather to watch music and light shows.\tCall our Business Bay office for more information or viewing on +97144297040 for out-of-office hours or weekends call +971553658402.\tAsk us about:\t  * Mortgage Advisory\t  * Property Management\t  * Holiday Homes\t  * Interior Design\tVisit our offices across Dubai's most popular communities including:\t  * Business Bay\t  * Dubai Creek Harbour\t  * Jumeirah Village Circle\t  * Dubai Hills Estate\n",
      "\n",
      "\n"
     ]
    }
   ],
   "source": [
    "for row in df[0:2]['description']:\n",
    "    print(row)\n",
    "    print()\n",
    "    print()"
   ]
  },
  {
   "cell_type": "markdown",
   "metadata": {
    "id": "wwdtENk7Glub"
   },
   "source": [
    "### 1. clean the text"
   ]
  },
  {
   "cell_type": "code",
   "execution_count": 70,
   "metadata": {
    "colab": {
     "base_uri": "https://localhost:8080/"
    },
    "id": "yNCu-B8cGluc",
    "outputId": "23a2591b-193c-4661-d320-3601a314be16"
   },
   "outputs": [
    {
     "name": "stderr",
     "output_type": "stream",
     "text": [
      "[nltk_data] Downloading package stopwords to\n",
      "[nltk_data]     /Users/zeinathabet/nltk_data...\n",
      "[nltk_data]   Package stopwords is already up-to-date!\n"
     ]
    }
   ],
   "source": [
    "import nltk\n",
    "nltk.download('stopwords')\n",
    "\n",
    "from nltk.corpus import stopwords\n",
    "stop_words = stopwords.words('english')\n",
    "\n",
    "from nltk.stem import WordNetLemmatizer\n",
    "\n",
    "import re"
   ]
  },
  {
   "cell_type": "code",
   "execution_count": 71,
   "metadata": {
    "id": "hqI__6NDGluc"
   },
   "outputs": [],
   "source": [
    "def text_cleaning(text):\n",
    "\n",
    "    text = text.lower()\n",
    "\n",
    "    # removing \\t\n",
    "    text = re.sub(r'(\\\\t)', \" \", text)\n",
    "\n",
    "    # removing symbols\n",
    "#     text = re.sub(r'[*-/■%|●]+', \" \", text)\n",
    "\n",
    "    # removing numbers and phone numbers\n",
    "#     text = re.sub(r'(\\+?(971)?[0-9]+)+', \" \", text)\n",
    "\n",
    "#     text = remove_stop_words(text)\n",
    "\n",
    "#     text = stem_text(text)\n",
    "\n",
    "    return text"
   ]
  },
  {
   "cell_type": "code",
   "execution_count": 72,
   "metadata": {
    "id": "4H9S8C2lGluc"
   },
   "outputs": [],
   "source": [
    "def remove_stop_words(text):\n",
    "\n",
    "    text = \" \".join([word for word in text.split() if word not in stop_words])\n",
    "\n",
    "    return text"
   ]
  },
  {
   "cell_type": "code",
   "execution_count": 73,
   "metadata": {
    "id": "a6JPeSBbGlud"
   },
   "outputs": [],
   "source": [
    "def stem_text(text):\n",
    "    # split into words\n",
    "    from nltk.tokenize import word_tokenize\n",
    "    tokens = word_tokenize(text)\n",
    "    \n",
    "    # stemming of words\n",
    "    from nltk.stem.porter import PorterStemmer\n",
    "    porter = PorterStemmer()\n",
    "    stemmed = [porter.stem(word) for word in tokens]\n",
    "    stemmed = \" \".join(stemmed)\n",
    "    return stemmed"
   ]
  },
  {
   "cell_type": "markdown",
   "metadata": {
    "id": "rrEqi2-SGluo"
   },
   "source": [
    "Manual Cleaning of the text generally results in worse results, so we will skip the step of applying cleaning on the text data"
   ]
  },
  {
   "cell_type": "code",
   "execution_count": 74,
   "metadata": {
    "id": "YQsiN1SlGlud"
   },
   "outputs": [],
   "source": [
    "# df['description'].apply(text_cleaning) "
   ]
  },
  {
   "cell_type": "markdown",
   "metadata": {
    "id": "Xc1wAA_xGlud"
   },
   "source": [
    "### 2. convert text to numerical values "
   ]
  },
  {
   "cell_type": "markdown",
   "metadata": {
    "id": "Rv3uwUrqGlue"
   },
   "source": [
    "There are two methods for transforming text into numerical values\n",
    "\n",
    "1. CountVectorizer\n",
    "    - CountVectorizer adopts a bag of words approach where it takes all documents (rows of text), tokenizes the words then build a table where the columns are all the words that appear in the corpus and rows are each document (row) and the count of each word that appears in the document.  \n",
    "2. TF-IDF Vectorizer \n",
    "    - TF-IDF Vectorizer expands upon the bag of words model by including two calculations: Term frequency (tf) and inverse document frequency (idf)\n",
    "        - Term frequency (TF) is uses a bag of words matrix which is called a term frequency matrix to compute the term frequency. Term frequency is for a word in a document is computed as:\n",
    "            - the number of times a word appears in a document / total number of words in a document. \n",
    "        - Inverse document frequency calculates how important a word is. It is calculated by the following:\n",
    "            - log(number of documents /number of documents containing the word)\n",
    "            - the more commmon a word is, the lower the score. And the more unique the word is, the higher the score.\n",
    "    - **final formula: tf-idf (of a certain word) = tf * idf**"
   ]
  },
  {
   "cell_type": "markdown",
   "metadata": {
    "id": "SxRs-G7iGlue"
   },
   "source": [
    "We decided to go with TF-IDF since it is more sensitive to words that appear frequently and would produce a better estimation of the importance of certain words"
   ]
  },
  {
   "cell_type": "markdown",
   "metadata": {
    "id": "1GlR79mRGlue"
   },
   "source": [
    "## Cannot transform all text data (training and testing)\n",
    "This would not be a problem if we just fit our training data on the selected model, but since we want to use cross validation to best select a model (training data will keep changing so we cant use data with TfIdf preapplied), \n",
    "we will create a pipeline which includes all transformations needed to be applied on the training data. \n",
    "\n",
    "#### Different types of transformers used in the section below:\n",
    "- Column Transformer\n",
    "- Function Transformer\n",
    "\n",
    "Both were used in **pipelines**\n",
    "\n",
    "Example of a pipeline:\n",
    "\n",
    "```py\n",
    "pipeline_example = Pipeline([\n",
    "    (\"tfidf vectorizer\", TfidfVectorizer()),\n",
    "    (\"linear regression\", LinearRegression(fit_intercept=False, normalize=True))\n",
    "])\n",
    "```"
   ]
  },
  {
   "cell_type": "markdown",
   "metadata": {
    "id": "JKgEXbwgGluf"
   },
   "source": [
    "### Creating function transformers"
   ]
  },
  {
   "cell_type": "markdown",
   "metadata": {
    "id": "LtVDYzzwGlug"
   },
   "source": [
    "Column transformers are used in pipelines to transform certain columns only instead of the whole dataset"
   ]
  },
  {
   "cell_type": "code",
   "execution_count": 62,
   "metadata": {
    "id": "ABQKk5HZGlug"
   },
   "outputs": [],
   "source": [
    "# converts data to sparse format\n",
    "def to_sparse(data):\n",
    "    return sp.sparse.csr_matrix(data)\n",
    "def to_dense(data):\n",
    "    return sp.sparse.csr_matrix.todense(data)\n",
    "\n",
    "to_dense = FunctionTransformer(to_dense)\n",
    "to_sparse_transformer = FunctionTransformer(to_sparse)"
   ]
  },
  {
   "cell_type": "code",
   "execution_count": null,
   "metadata": {
    "id": "MGOlLZCfGlug"
   },
   "outputs": [
    {
     "ename": "NameError",
     "evalue": "name 'X_train' is not defined",
     "output_type": "error",
     "traceback": [
      "\u001b[0;31m---------------------------------------------------------------------------\u001b[0m",
      "\u001b[0;31mNameError\u001b[0m                                 Traceback (most recent call last)",
      "\u001b[0;32m<ipython-input-185-866eb016905e>\u001b[0m in \u001b[0;36m<module>\u001b[0;34m\u001b[0m\n\u001b[1;32m      1\u001b[0m \u001b[0;31m# all column names except description\u001b[0m\u001b[0;34m\u001b[0m\u001b[0;34m\u001b[0m\u001b[0;34m\u001b[0m\u001b[0m\n\u001b[0;32m----> 2\u001b[0;31m \u001b[0mX_train_cols\u001b[0m\u001b[0;34m=\u001b[0m \u001b[0mX_train\u001b[0m\u001b[0;34m.\u001b[0m\u001b[0mloc\u001b[0m\u001b[0;34m[\u001b[0m\u001b[0;34m:\u001b[0m\u001b[0;34m,\u001b[0m \u001b[0mX_train\u001b[0m\u001b[0;34m.\u001b[0m\u001b[0mcolumns\u001b[0m \u001b[0;34m!=\u001b[0m \u001b[0;34m'description'\u001b[0m\u001b[0;34m]\u001b[0m\u001b[0;34m\u001b[0m\u001b[0;34m\u001b[0m\u001b[0m\n\u001b[0m\u001b[1;32m      3\u001b[0m \u001b[0mX_train_cols\u001b[0m \u001b[0;34m=\u001b[0m \u001b[0mX_train_cols\u001b[0m\u001b[0;34m.\u001b[0m\u001b[0mcolumns\u001b[0m\u001b[0;34m\u001b[0m\u001b[0;34m\u001b[0m\u001b[0m\n\u001b[1;32m      4\u001b[0m \u001b[0mX_train_cols\u001b[0m \u001b[0;34m=\u001b[0m \u001b[0mX_train_cols\u001b[0m\u001b[0;34m.\u001b[0m\u001b[0mtolist\u001b[0m\u001b[0;34m(\u001b[0m\u001b[0;34m)\u001b[0m\u001b[0;34m\u001b[0m\u001b[0;34m\u001b[0m\u001b[0m\n",
      "\u001b[0;31mNameError\u001b[0m: name 'X_train' is not defined"
     ]
    }
   ],
   "source": [
    "# all column names except description\n",
    "X_train_cols= X_train.loc[:, X_train.columns != 'description']\n",
    "X_train_cols = X_train_cols.columns\n",
    "X_train_cols = X_train_cols.tolist()"
   ]
  },
  {
   "cell_type": "markdown",
   "metadata": {
    "id": "mPaOJE6wGluh"
   },
   "source": [
    "### Cross validation"
   ]
  },
  {
   "cell_type": "markdown",
   "metadata": {},
   "source": [
    "#### Creating models and pipeline for cross val"
   ]
  },
  {
   "cell_type": "markdown",
   "metadata": {},
   "source": [
    "Here we created a list of the models that we would like to test. \n",
    "\n",
    "We also created a function that takes in a columns transformer and a list of models, and runs cross validation on those models by creating a pipeline and then printing the score"
   ]
  },
  {
   "cell_type": "code",
   "execution_count": null,
   "metadata": {
    "id": "5QL20uy8Gluk"
   },
   "outputs": [],
   "source": [
    "models = [\n",
    "    LinearRegression(fit_intercept=False, normalize=True),\n",
    "    RandomForestRegressor(max_depth=15),\n",
    "    DecisionTreeRegressor(),\n",
    "    Lasso(),\n",
    "    Ridge()\n",
    "    \n",
    "]\n",
    "    \n",
    "def run_crossval_with_models(models, columns_transformer, X, Y, scoring = 'r2'):\n",
    "    cross_val_scores = []\n",
    "    for model in models:\n",
    "        # creating the pipeline with column transformer and estimator of choice\n",
    "        pipe = make_pipeline(\n",
    "            columns_transformer,\n",
    "            model\n",
    "        )\n",
    "\n",
    "        scores = cross_val_score(pipe, X, Y, n_jobs=-1, scoring = scoring) \n",
    "        print(type(model).__name__, \"with score of: \",scores.mean())\n",
    "        \n",
    "        cross_val_scores.append((type(model).__name__ , scores))\n",
    "        \n",
    "    return cross_val_scores"
   ]
  },
  {
   "cell_type": "code",
   "execution_count": null,
   "metadata": {},
   "outputs": [],
   "source": []
  },
  {
   "cell_type": "markdown",
   "metadata": {
    "id": "Qwq4PI3CGluk"
   },
   "source": [
    "### Testing different approaches in the pipeline"
   ]
  },
  {
   "cell_type": "markdown",
   "metadata": {},
   "source": [
    "We are trying different combinations for what a Column Transformer could include, such as:\n",
    "Bag of words instead of TF-idf, with/without normalization and so on"
   ]
  },
  {
   "cell_type": "code",
   "execution_count": null,
   "metadata": {
    "colab": {
     "base_uri": "https://localhost:8080/"
    },
    "id": "sdgzI14aGluk",
    "outputId": "76897506-2b0e-4af7-bc9d-474f2ce5db21",
    "tags": []
   },
   "outputs": [],
   "source": [
    "def testing_approaches():\n",
    "\n",
    "  \n",
    "    # Bag of words\n",
    "    print(\"Bag of words: \")\n",
    "\n",
    "    columns_transformer = ColumnTransformer([\n",
    "      ('tf-idf',CountVectorizer(), 'description'),\n",
    "    #     ('std scalar', StandardScaler(with_mean=False), X_train_cols),\n",
    "      ('tosparse',to_sparse_transformer , X_train_cols)\n",
    "    ], remainder='passthrough')\n",
    "\n",
    "    run_crossval_with_models(models, columns_transformer, X, Y)\n",
    "\n",
    "    print(\"---------------\")\n",
    "\n",
    "    # tf-idf \n",
    "    print(\"TF-IDF: \")\n",
    "    columns_transformer = ColumnTransformer([\n",
    "      ('tf-idf',TfidfVectorizer(), 'description'),\n",
    "    #     ('std scalar', StandardScaler(with_mean=False), X_train_cols),\n",
    "      ('tosparse',to_sparse_transformer , X_train_cols)\n",
    "    ], remainder='passthrough')\n",
    "\n",
    "    run_crossval_with_models(models, columns_transformer, X, Y)\n",
    "    print(\"---------------\")\n",
    "\n",
    "    #  tfidf with normalization   \n",
    "    print(\"tfidf - with normalization: \")\n",
    "    columns_transformer = ColumnTransformer([\n",
    "      ('tf-idf',TfidfVectorizer(), 'description'),\n",
    "      ('std scalar', StandardScaler(with_mean=False), X_train_cols),\n",
    "      ('tosparse',to_sparse_transformer , X_train_cols)\n",
    "    ], remainder='passthrough')\n",
    "\n",
    "    run_crossval_with_models(models, columns_transformer, X, Y)\n",
    "    print(\"---------------\")\n",
    "\n",
    "    print(\"description dropped, no tfidf needed: \")\n",
    "    columns_transformer = ColumnTransformer([\n",
    "    #     ('tf-idf',TfidfVectorizer(), 'description'),\n",
    "      ('std scalar', StandardScaler(with_mean=False), X_train_cols),\n",
    "    #     ('tosparse',to_sparse_transformer , X_train_cols)\n",
    "    ], remainder='passthrough')\n",
    "\n",
    "    X_description_dropped = X.drop('description', axis=1)\n",
    "\n",
    "\n",
    "    run_crossval_with_models(models, columns_transformer, X_description_dropped, Y)"
   ]
  },
  {
   "cell_type": "code",
   "execution_count": null,
   "metadata": {
    "colab": {
     "base_uri": "https://localhost:8080/"
    },
    "id": "sdgzI14aGluk",
    "outputId": "76897506-2b0e-4af7-bc9d-474f2ce5db21",
    "tags": []
   },
   "outputs": [
    {
     "name": "stdout",
     "output_type": "stream",
     "text": [
      "Bag of words: \n",
      "LinearRegression with score of:  -0.28719421998437533\n",
      "RandomForestRegressor with score of:  0.8120371828807234\n",
      "SGDRegressor with score of:  -1.8750124230039752e+20\n",
      "DecisionTreeRegressor with score of:  0.6959575634166482\n",
      "Lasso with score of:  0.7665437766201016\n",
      "Ridge with score of:  0.7585202800122367\n",
      "---------------\n",
      "TF-IDF: \n",
      "LinearRegression with score of:  0.5204784622058142\n",
      "RandomForestRegressor with score of:  0.8025047644952309\n",
      "SGDRegressor with score of:  -9.679586699465825e+19\n",
      "DecisionTreeRegressor with score of:  0.666999846201859\n",
      "Lasso with score of:  0.8299383521283309\n",
      "Ridge with score of:  0.8320304769705018\n",
      "---------------\n",
      "tfidf - with normalization: \n",
      "LinearRegression with score of:  0.5318096443666809\n",
      "RandomForestRegressor with score of:  0.80269383838403\n",
      "SGDRegressor with score of:  -1.642963906608004e+19\n",
      "DecisionTreeRegressor with score of:  0.6624298282241814\n",
      "Lasso with score of:  0.8298494914067129\n",
      "Ridge with score of:  0.8318176506628422\n",
      "---------------\n",
      "description dropped, no tfidf needed: \n",
      "LinearRegression with score of:  0.740156911260688\n",
      "RandomForestRegressor with score of:  0.7947535144921178\n",
      "SGDRegressor with score of:  0.7353365072104934\n",
      "DecisionTreeRegressor with score of:  0.7346193438739044\n",
      "Lasso with score of:  0.7400995660343007\n",
      "Ridge with score of:  0.7400979591201178\n"
     ]
    }
   ],
   "source": [
    "testing_approaches()"
   ]
  },
  {
   "cell_type": "markdown",
   "metadata": {},
   "source": [
    "**As per the results shown, we picked the pipeline of TfIdf with normalization**"
   ]
  },
  {
   "cell_type": "markdown",
   "metadata": {},
   "source": [
    "### Testing different values of ngrams in TfIdf"
   ]
  },
  {
   "cell_type": "code",
   "execution_count": null,
   "metadata": {},
   "outputs": [],
   "source": [
    "columns_transformer = ColumnTransformer([\n",
    "      ('tf-idf',TfidfVectorizer(ngram_range=(1,2)), 'description'),\n",
    "      ('std scalar', StandardScaler(with_mean=False), X_train_cols),\n",
    "      ('tosparse',to_sparse_transformer , X_train_cols)\n",
    "    ], remainder='passthrough')"
   ]
  },
  {
   "cell_type": "code",
   "execution_count": null,
   "metadata": {},
   "outputs": [],
   "source": [
    "def testing_ngrams(ngram_range=(1,1), scoring='r2'):\n",
    "    print(\"tfidf - with normalization: \")\n",
    "    columns_transformer = ColumnTransformer([\n",
    "      ('tf-idf',TfidfVectorizer(ngram_range=ngram_range), 'description'),\n",
    "      ('std scalar', StandardScaler(with_mean=False), X_train_cols),\n",
    "      ('tosparse',to_sparse_transformer , X_train_cols)\n",
    "    ], remainder='passthrough')\n",
    "\n",
    "    run_crossval_with_models(models, columns_transformer, X, Y, scoring=scoring)\n",
    "    print(\"---------------\")"
   ]
  },
  {
   "cell_type": "code",
   "execution_count": null,
   "metadata": {},
   "outputs": [
    {
     "name": "stdout",
     "output_type": "stream",
     "text": [
      "tfidf - with normalization: \n",
      "LinearRegression with score of:  0.8328463032968522\n",
      "RandomForestRegressor with score of:  0.8008334369663764\n",
      "SGDRegressor with score of:  -3.916348186647292e+19\n",
      "DecisionTreeRegressor with score of:  0.6524425968610459\n",
      "Lasso with score of:  0.8407027511330345\n",
      "Ridge with score of:  0.8449051614677607\n",
      "---------------\n"
     ]
    }
   ],
   "source": [
    "testing_ngrams((1,2))"
   ]
  },
  {
   "cell_type": "code",
   "execution_count": null,
   "metadata": {},
   "outputs": [
    {
     "name": "stdout",
     "output_type": "stream",
     "text": [
      "tfidf - with normalization: \n",
      "LinearRegression with score of:  0.8310728473148765\n",
      "RandomForestRegressor with score of:  0.7940041570354269\n",
      "SGDRegressor with score of:  -4.291551326598216e+19\n",
      "DecisionTreeRegressor with score of:  0.7277181262957602\n",
      "Lasso with score of:  0.8366298635220268\n",
      "Ridge with score of:  0.8400893575103444\n",
      "---------------\n"
     ]
    }
   ],
   "source": [
    "testing_ngrams((2,2))"
   ]
  },
  {
   "cell_type": "code",
   "execution_count": null,
   "metadata": {},
   "outputs": [
    {
     "name": "stdout",
     "output_type": "stream",
     "text": [
      "tfidf - with normalization: \n",
      "LinearRegression with score of:  0.8416775630052351\n",
      "RandomForestRegressor with score of:  0.7920642364668453\n",
      "SGDRegressor with score of:  -2.2160499299434988e+20\n",
      "DecisionTreeRegressor with score of:  0.7176795576057107\n",
      "Lasso with score of:  0.8337911436319845\n",
      "Ridge with score of:  0.8359764706370072\n",
      "---------------\n"
     ]
    }
   ],
   "source": [
    "testing_ngrams((2,3))"
   ]
  },
  {
   "cell_type": "markdown",
   "metadata": {},
   "source": [
    "negative mean squared error scores:"
   ]
  },
  {
   "cell_type": "code",
   "execution_count": null,
   "metadata": {},
   "outputs": [
    {
     "name": "stdout",
     "output_type": "stream",
     "text": [
      " neg mean squrare error of TF-IDF - with normalization: \n",
      "LinearRegression with score of:  -576747315.7671335\n",
      "RandomForestRegressor with score of:  -684981064.4231489\n",
      "SGDRegressor with score of:  -1.1211716556530902e+30\n",
      "DecisionTreeRegressor with score of:  -1215722322.4615502\n",
      "Lasso with score of:  -550460343.6542766\n",
      "Ridge with score of:  -536075813.26210916\n"
     ]
    }
   ],
   "source": [
    "print(\"neg mean squrare error of TF-IDF - with normalization: \")\n",
    "columns_transformer = ColumnTransformer([\n",
    "      ('tf-idf',TfidfVectorizer(ngram_range=(1,2)), 'description'),\n",
    "      ('std scalar', StandardScaler(with_mean=False), X_train_cols),\n",
    "      ('tosparse',to_sparse_transformer , X_train_cols)\n",
    "    ], remainder='passthrough')\n",
    "\n",
    "neg_mean_cross_val_scores = run_crossval_with_models(models, columns_transformer, X, Y,scoring = 'neg_mean_squared_error')"
   ]
  },
  {
   "cell_type": "markdown",
   "metadata": {},
   "source": [
    "**Trying different hyper params of Lasso and Ridge**"
   ]
  },
  {
   "cell_type": "code",
   "execution_count": null,
   "metadata": {},
   "outputs": [],
   "source": [
    "models = [\n",
    "    Lasso(alpha = 0.5),\n",
    "    Ridge(alpha = 0.5)\n",
    "]"
   ]
  },
  {
   "cell_type": "code",
   "execution_count": null,
   "metadata": {},
   "outputs": [
    {
     "name": "stdout",
     "output_type": "stream",
     "text": [
      "Lasso with score of:  0.8396094333245452\n",
      "Ridge with score of:  0.8501401299568399\n"
     ]
    }
   ],
   "source": [
    "run_crossval_with_models(models, columns_transformer, X, Y)"
   ]
  },
  {
   "cell_type": "code",
   "execution_count": null,
   "metadata": {},
   "outputs": [],
   "source": [
    "models = [\n",
    "    Lasso(alpha = 5),\n",
    "    Ridge(alpha = 5)\n",
    "]"
   ]
  },
  {
   "cell_type": "code",
   "execution_count": null,
   "metadata": {},
   "outputs": [
    {
     "name": "stdout",
     "output_type": "stream",
     "text": [
      "Lasso with score of:  0.8214383725411561\n",
      "Ridge with score of:  0.8155948816082317\n"
     ]
    }
   ],
   "source": [
    "run_crossval_with_models(models, columns_transformer, X, Y)"
   ]
  },
  {
   "cell_type": "code",
   "execution_count": null,
   "metadata": {},
   "outputs": [],
   "source": [
    "models = [\n",
    "    Lasso(alpha = 0.05),\n",
    "    Ridge(alpha = 0.05)\n",
    "]"
   ]
  },
  {
   "cell_type": "code",
   "execution_count": null,
   "metadata": {},
   "outputs": [
    {
     "name": "stdout",
     "output_type": "stream",
     "text": [
      "Lasso with score of:  0.8112843915073121\n",
      "Ridge with score of:  0.8480517853789277\n"
     ]
    }
   ],
   "source": [
    "run_crossval_with_models(models, columns_transformer, X, Y)"
   ]
  },
  {
   "cell_type": "markdown",
   "metadata": {},
   "source": [
    "**No major improvements noticed**"
   ]
  },
  {
   "cell_type": "markdown",
   "metadata": {},
   "source": [
    "## Exploring the effects of categorizing area"
   ]
  },
  {
   "cell_type": "code",
   "execution_count": null,
   "metadata": {},
   "outputs": [
    {
     "data": {
      "text/plain": [
       "<AxesSubplot:>"
      ]
     },
     "execution_count": 471,
     "metadata": {},
     "output_type": "execute_result"
    },
    {
     "data": {
      "image/png": "[encoded data removed]",
      "text/plain": [
       "<Figure size 432x288 with 1 Axes>"
      ]
     },
     "metadata": {
      "needs_background": "light"
     },
     "output_type": "display_data"
    }
   ],
   "source": [
    "df['area'].hist(bins=14)"
   ]
  },
  {
   "cell_type": "code",
   "execution_count": null,
   "metadata": {},
   "outputs": [
    {
     "data": {
      "text/plain": [
       "6000.0"
      ]
     },
     "execution_count": 242,
     "metadata": {},
     "output_type": "execute_result"
    }
   ],
   "source": [
    "df['area'].max()"
   ]
  },
  {
   "cell_type": "markdown",
   "metadata": {},
   "source": [
    "### dividing into categories based on histogram"
   ]
  },
  {
   "cell_type": "markdown",
   "metadata": {},
   "source": [
    "We chose an interval of 500 based on the results we got from the histogram"
   ]
  },
  {
   "cell_type": "code",
   "execution_count": null,
   "metadata": {},
   "outputs": [
    {
     "data": {
      "text/plain": [
       "IntervalIndex([(0.0, 500.0], (500.0, 1000.0], (1000.0, 1500.0], (1500.0, 2000.0], (2000.0, 2500.0], (2500.0, 3000.0], (3000.0, inf]],\n",
       "              closed='right',\n",
       "              dtype='interval[float64]')"
      ]
     },
     "execution_count": 404,
     "metadata": {},
     "output_type": "execute_result"
    }
   ],
   "source": [
    "intervals = pd.IntervalIndex.from_tuples([(0,500), (500, 1000),(1000, 1500), (1500, 2000), (2000, 2500), (2500, 3000), (3000, float('inf'))])\n",
    "intervals"
   ]
  },
  {
   "cell_type": "code",
   "execution_count": null,
   "metadata": {},
   "outputs": [
    {
     "data": {
      "text/plain": [
       "0        2000-2500\n",
       "2         500-1000\n",
       "3        1000-1500\n",
       "4         500-1000\n",
       "5         500-1000\n",
       "           ...    \n",
       "15407        0-500\n",
       "15408    1500-2000\n",
       "15409     500-1000\n",
       "15410    2000-2500\n",
       "15411     500-1000\n",
       "Name: area, Length: 11614, dtype: category\n",
       "Categories (7, object): ['0-500' < '500-1000' < '1000-1500' < '1500-2000' < '2000-2500' < '2500-3000' < '3000+']"
      ]
     },
     "execution_count": 405,
     "metadata": {},
     "output_type": "execute_result"
    }
   ],
   "source": [
    "labels = ['0-500', '500-1000', '1000-1500', '1500-2000', '2000-2500', '2500-3000', '3000+']\n",
    "seven_areas = pd.cut(df['area'].tolist(), bins=intervals)\n",
    "seven_areas.categories = labels\n",
    "df['area'] = seven_area\n",
    "df['area']"
   ]
  },
  {
   "cell_type": "code",
   "execution_count": null,
   "metadata": {},
   "outputs": [
    {
     "name": "stdout",
     "output_type": "stream",
     "text": [
      "LinearRegression with score of:  0.8267175341092081\n",
      "RandomForestRegressor with score of:  0.772348274799729\n",
      "DecisionTreeRegressor with score of:  0.6666996031067984\n",
      "Lasso with score of:  0.8368999497097986\n",
      "Ridge with score of:  0.8408045500748693\n"
     ]
    },
    {
     "data": {
      "text/plain": [
       "[('LinearRegression',\n",
       "  array([0.83397667, 0.81922726, 0.86709185, 0.81875768, 0.79453422])),\n",
       " ('RandomForestRegressor',\n",
       "  array([0.7482159 , 0.79905086, 0.81440683, 0.73082955, 0.76923824])),\n",
       " ('DecisionTreeRegressor',\n",
       "  array([0.6515515 , 0.71638037, 0.73829711, 0.59707783, 0.63019119])),\n",
       " ('Lasso',\n",
       "  array([0.84362708, 0.8401881 , 0.8626261 , 0.82053145, 0.81752702])),\n",
       " ('Ridge',\n",
       "  array([0.84935672, 0.83898792, 0.86915948, 0.82425326, 0.82226536]))]"
      ]
     },
     "execution_count": 406,
     "metadata": {},
     "output_type": "execute_result"
    }
   ],
   "source": [
    "df = encode_and_bind(df, 'area')\n",
    "\n",
    "X = df.loc[:,df.columns != 'price']\n",
    "y = df['price']\n",
    "\n",
    "# all column names except description\n",
    "X_cols= X.loc[:, X.columns != 'description']\n",
    "X_cols = X_cols.columns\n",
    "X_cols = X_cols.tolist()\n",
    "\n",
    "# selected pipeline\n",
    "columns_transformer = ColumnTransformer([\n",
    "      ('tf-idf',TfidfVectorizer(ngram_range=(2,2)), 'description'),\n",
    "      ('std scalar', StandardScaler(with_mean=False), X_cols),\n",
    "      ('tosparse',to_sparse_transformer , X_cols)\n",
    "    ], remainder='passthrough')\n",
    "\n",
    "\n",
    "run_crossval_with_models(models, columns_transformer, X, y)"
   ]
  },
  {
   "cell_type": "markdown",
   "metadata": {
    "id": "vaQTZEQOGluo"
   },
   "source": [
    "-------------------------------------------------"
   ]
  },
  {
   "cell_type": "markdown",
   "metadata": {
    "id": "EGidRXlfGlup"
   },
   "source": [
    "# Summary"
   ]
  },
  {
   "cell_type": "markdown",
   "metadata": {
    "id": "trNEKEMvGluq"
   },
   "source": [
    "- Removing duplicate data\n",
    "- Removing trailing spaces\n",
    "- Dropping rows with missing values\n",
    "- Price column:\n",
    "    - removed AED/year from the price \n",
    "    - removed outliers in the data using zscore\n",
    "    - dropped rows that contain \"Ask for price\"\n",
    "    \n",
    "- Area column:\n",
    "    - removed sqft from the area\n",
    "    - removed outliers in the data using zscore\n",
    "- listing_type:\n",
    "    - removed 5 values which had 2 entries or less\n",
    "    - applied one hot encoding\n",
    " \n",
    "- location column:\n",
    "    - extracted neighborhood name only from full location \n",
    "    - removed trailing spaces\n",
    "    - removed values that have less than 10 entries\n",
    "    - applied one hot encoding\n",
    "- bedrooms column:\n",
    "    - removed rows that had 7+ value\n",
    "    - removed rows that have value of 7 \n",
    "    - replace studio with 0\n",
    "- bathrooms column:\n",
    "    - remove rows that have \"7+\"\n",
    "- description:\n",
    "    - text cleaning\n",
    "    - converting text to numerical form using TF-IDF\n"
   ]
  },
  {
   "cell_type": "markdown",
   "metadata": {
    "id": "mM9E1nW9Glur"
   },
   "source": [
    "### Exporting the model"
   ]
  },
  {
   "cell_type": "code",
   "execution_count": 152,
   "metadata": {},
   "outputs": [],
   "source": [
    "from joblib import dump, load\n",
    "\n",
    "\n",
    "def encode_and_bind(df, feature_to_encode):\n",
    "    dummies = pd.get_dummies(df[[feature_to_encode]])\n",
    "    res = pd.concat([df, dummies], axis=1)\n",
    "    res = res.drop([feature_to_encode], axis=1)\n",
    "    return res\n",
    "\n",
    "def encode_to_numerical_and_bind(df, feature_to_encode):\n",
    "    \n",
    "    encoder = OneHotEncoder(sparse=False)\n",
    "    \n",
    "    feature_list = df[feature_to_encode].values.reshape(-1,1)\n",
    "\n",
    "    encoded_feature = encoder.fit_transform(feature_list)\n",
    "    \n",
    "    categories = encoder.categories_\n",
    "    prefixed_categories = add_prefix_to_category(categories[0], feature_to_encode)\n",
    "    \n",
    "#   adding encoded feature to df\n",
    "    df[prefixed_categories] = encoded_feature\n",
    "    \n",
    "    df = df.drop([feature_to_encode], axis=1)\n",
    "    \n",
    "    return df\n",
    "\n",
    "def add_prefix_to_category(categories, prefix):\n",
    "    res = []\n",
    "    for category in categories:\n",
    "        res.append(f\"{prefix}_{category}\")\n",
    "    \n",
    "    return res\n",
    "\n",
    "\n",
    "######################################################################\n",
    "\n",
    "def export_fit_OneHotEncoder(listing_col):\n",
    "    \n",
    "    def export_OneHotEncoder(data_encoder, feature_name):\n",
    "        dump(data_encoder, f'{feature_name}_encoder.joblib')\n",
    "    \n",
    "    \n",
    "    data_encoder = OneHotEncoder()\n",
    "    feature_list = listing_col.values.reshape(-1,1)\n",
    "    encoded_feature = data_encoder.fit_transform(feature_list)\n",
    "    \n",
    "    export_OneHotEncoder(data_encoder, listing_col.name)\n",
    "    \n",
    "\n",
    "# def load_fit_OneHotEncoder(feature_name):\n",
    "    \n",
    "#     data_encoder = load(f'{feature_name}_encoder.joblib')\n",
    "    \n",
    "#     return data_encoder\n",
    "    \n",
    "    \n",
    "    \n",
    "# def encode_to_numerical(listing_col):\n",
    "    \n",
    "#     data_encoder = load_fit_OneHotEncoder(listing_col.name)\n",
    "    \n",
    "#     feature_list = listing_col.values.reshape(-1, 1)\n",
    "#     encoded_feature = data_encoder.transform(feature_list)\n",
    "    \n",
    "#     return encoded_feature\n",
    "\n",
    "    \n",
    "from utils import to_dense, to_sparse, encode_to_numerical_listing_type, encode_to_numerical_location\n",
    "\n",
    "to_dense_transformer = FunctionTransformer(to_dense)\n",
    "to_sparse_transformer = FunctionTransformer(to_sparse)\n",
    "\n",
    "listing_encode_to_numerical_transformer = FunctionTransformer(encode_to_numerical_listing_type)\n",
    "location_encode_to_numerical_transformer = FunctionTransformer(encode_to_numerical_location)"
   ]
  },
  {
   "cell_type": "code",
   "execution_count": 154,
   "metadata": {},
   "outputs": [],
   "source": [
    "export_fit_OneHotEncoder(df['listing_type'])\n",
    "export_fit_OneHotEncoder(df['location'])\n",
    "\n",
    "# drop columns after exporting fit encoders\n",
    "# df = df.drop(['listing_type', 'location'], axis=1)"
   ]
  },
  {
   "cell_type": "code",
   "execution_count": 155,
   "metadata": {},
   "outputs": [
    {
     "data": {
      "text/html": [
       "<div>\n",
       "<style scoped>\n",
       "    .dataframe tbody tr th:only-of-type {\n",
       "        vertical-align: middle;\n",
       "    }\n",
       "\n",
       "    .dataframe tbody tr th {\n",
       "        vertical-align: top;\n",
       "    }\n",
       "\n",
       "    .dataframe thead th {\n",
       "        text-align: right;\n",
       "    }\n",
       "</style>\n",
       "<table border=\"1\" class=\"dataframe\">\n",
       "  <thead>\n",
       "    <tr style=\"text-align: right;\">\n",
       "      <th></th>\n",
       "      <th>listing_type</th>\n",
       "      <th>bedrooms</th>\n",
       "      <th>bathrooms</th>\n",
       "      <th>area</th>\n",
       "      <th>price</th>\n",
       "      <th>location</th>\n",
       "      <th>description</th>\n",
       "    </tr>\n",
       "  </thead>\n",
       "  <tbody>\n",
       "    <tr>\n",
       "      <th>0</th>\n",
       "      <td>Townhouse</td>\n",
       "      <td>4</td>\n",
       "      <td>4</td>\n",
       "      <td>2165.0</td>\n",
       "      <td>135000.0</td>\n",
       "      <td>Dubai Hills Estate</td>\n",
       "      <td>Brought to you by Driven Properties- this 4 Be...</td>\n",
       "    </tr>\n",
       "    <tr>\n",
       "      <th>2</th>\n",
       "      <td>Apartment</td>\n",
       "      <td>1</td>\n",
       "      <td>2</td>\n",
       "      <td>927.0</td>\n",
       "      <td>145000.0</td>\n",
       "      <td>Downtown Dubai</td>\n",
       "      <td>Brought to you by Driven Properties- this 1 Be...</td>\n",
       "    </tr>\n",
       "    <tr>\n",
       "      <th>3</th>\n",
       "      <td>Apartment</td>\n",
       "      <td>2</td>\n",
       "      <td>2</td>\n",
       "      <td>1085.0</td>\n",
       "      <td>110000.0</td>\n",
       "      <td>The Views</td>\n",
       "      <td>We are very proud to present to you with this ...</td>\n",
       "    </tr>\n",
       "    <tr>\n",
       "      <th>4</th>\n",
       "      <td>Apartment</td>\n",
       "      <td>1</td>\n",
       "      <td>2</td>\n",
       "      <td>857.0</td>\n",
       "      <td>53999.0</td>\n",
       "      <td>Arjan</td>\n",
       "      <td>AZCO REAL ESTATE BROKERS LLC is excited to bri...</td>\n",
       "    </tr>\n",
       "    <tr>\n",
       "      <th>5</th>\n",
       "      <td>Apartment</td>\n",
       "      <td>0</td>\n",
       "      <td>1</td>\n",
       "      <td>511.0</td>\n",
       "      <td>36999.0</td>\n",
       "      <td>Arjan</td>\n",
       "      <td>AZCO REAL ESTATE BROKERS LLC is excited to bri...</td>\n",
       "    </tr>\n",
       "    <tr>\n",
       "      <th>...</th>\n",
       "      <td>...</td>\n",
       "      <td>...</td>\n",
       "      <td>...</td>\n",
       "      <td>...</td>\n",
       "      <td>...</td>\n",
       "      <td>...</td>\n",
       "      <td>...</td>\n",
       "    </tr>\n",
       "    <tr>\n",
       "      <th>16252</th>\n",
       "      <td>Villa</td>\n",
       "      <td>3</td>\n",
       "      <td>4</td>\n",
       "      <td>3063.0</td>\n",
       "      <td>209999.0</td>\n",
       "      <td>Jumeirah Park</td>\n",
       "      <td>- Legacy Style Villa\\t- All White Goods includ...</td>\n",
       "    </tr>\n",
       "    <tr>\n",
       "      <th>16254</th>\n",
       "      <td>Apartment</td>\n",
       "      <td>3</td>\n",
       "      <td>4</td>\n",
       "      <td>2012.0</td>\n",
       "      <td>150000.0</td>\n",
       "      <td>Al Satwa</td>\n",
       "      <td>The Flagship Two - Jumeirah Garden City Satwa\\...</td>\n",
       "    </tr>\n",
       "    <tr>\n",
       "      <th>16255</th>\n",
       "      <td>Apartment</td>\n",
       "      <td>2</td>\n",
       "      <td>3</td>\n",
       "      <td>1390.0</td>\n",
       "      <td>125000.0</td>\n",
       "      <td>Sheikh Zayed Road</td>\n",
       "      <td>Excel Properties brings you this fully furnish...</td>\n",
       "    </tr>\n",
       "    <tr>\n",
       "      <th>16256</th>\n",
       "      <td>Townhouse</td>\n",
       "      <td>3</td>\n",
       "      <td>1</td>\n",
       "      <td>1881.0</td>\n",
       "      <td>69999.0</td>\n",
       "      <td>Akoya</td>\n",
       "      <td>Amazing Brand New  3 Bedroom with Maids Room\\t...</td>\n",
       "    </tr>\n",
       "    <tr>\n",
       "      <th>16257</th>\n",
       "      <td>Apartment</td>\n",
       "      <td>2</td>\n",
       "      <td>4</td>\n",
       "      <td>1412.0</td>\n",
       "      <td>110000.0</td>\n",
       "      <td>Al Satwa</td>\n",
       "      <td>The Flagship Two - Jumeirah Garden City Satwa\\...</td>\n",
       "    </tr>\n",
       "  </tbody>\n",
       "</table>\n",
       "<p>12261 rows × 7 columns</p>\n",
       "</div>"
      ],
      "text/plain": [
       "      listing_type  bedrooms  bathrooms    area     price            location  \\\n",
       "0        Townhouse         4          4  2165.0  135000.0  Dubai Hills Estate   \n",
       "2        Apartment         1          2   927.0  145000.0      Downtown Dubai   \n",
       "3        Apartment         2          2  1085.0  110000.0           The Views   \n",
       "4        Apartment         1          2   857.0   53999.0               Arjan   \n",
       "5        Apartment         0          1   511.0   36999.0               Arjan   \n",
       "...            ...       ...        ...     ...       ...                 ...   \n",
       "16252        Villa         3          4  3063.0  209999.0       Jumeirah Park   \n",
       "16254    Apartment         3          4  2012.0  150000.0            Al Satwa   \n",
       "16255    Apartment         2          3  1390.0  125000.0   Sheikh Zayed Road   \n",
       "16256    Townhouse         3          1  1881.0   69999.0               Akoya   \n",
       "16257    Apartment         2          4  1412.0  110000.0            Al Satwa   \n",
       "\n",
       "                                             description  \n",
       "0      Brought to you by Driven Properties- this 4 Be...  \n",
       "2      Brought to you by Driven Properties- this 1 Be...  \n",
       "3      We are very proud to present to you with this ...  \n",
       "4      AZCO REAL ESTATE BROKERS LLC is excited to bri...  \n",
       "5      AZCO REAL ESTATE BROKERS LLC is excited to bri...  \n",
       "...                                                  ...  \n",
       "16252  - Legacy Style Villa\\t- All White Goods includ...  \n",
       "16254  The Flagship Two - Jumeirah Garden City Satwa\\...  \n",
       "16255  Excel Properties brings you this fully furnish...  \n",
       "16256  Amazing Brand New  3 Bedroom with Maids Room\\t...  \n",
       "16257  The Flagship Two - Jumeirah Garden City Satwa\\...  \n",
       "\n",
       "[12261 rows x 7 columns]"
      ]
     },
     "execution_count": 155,
     "metadata": {},
     "output_type": "execute_result"
    }
   ],
   "source": [
    "df"
   ]
  },
  {
   "cell_type": "code",
   "execution_count": 156,
   "metadata": {},
   "outputs": [],
   "source": [
    "# selected model -> Ridge Regression\n",
    "\n",
    "X = df.loc[:,df.columns != 'price']\n",
    "y = df['price']\n",
    "\n",
    "# all column names except description\n",
    "X_cols = X[X.columns.difference(['location', 'description', 'listing_type'])]\n",
    "X_cols = X_cols.columns\n",
    "X_cols = X_cols.tolist()\n",
    "\n",
    "# selected pipeline\n",
    "# columns_transformer = ColumnTransformer([\n",
    "#       ('tf-idf',TfidfVectorizer(ngram_range=(2,2)), 'description'),\n",
    "#       ('encode to numerical listing', encode_to_numerical_transformer , 'listing_type' ),\n",
    "#       ('encode to numerical location', encode_to_numerical_transformer , 'location' ),\n",
    "#       ('std scalar', StandardScaler(with_mean=False), X_cols),\n",
    "#       ('tosparse',to_sparse_transformer , X_cols)\n",
    "#     ], remainder='passthrough')\n",
    "\n",
    "# encoders are one hot encoding.. \n",
    "columns_transformer = ColumnTransformer([\n",
    "      ('tf-idf',TfidfVectorizer(ngram_range=(2,2)), 5),\n",
    "      ('encode to numerical listing', listing_encode_to_numerical_transformer , 0 ),\n",
    "      ('encode to numerical location', location_encode_to_numerical_transformer , 4 ),\n",
    "      ('std scalar', StandardScaler(with_mean=False), [1,2,3]),\n",
    "      ('tosparse',to_sparse_transformer , [1,2,3])\n",
    "    ], remainder='passthrough')\n",
    "\n",
    "final_pipeline = Pipeline([('col_transformer', columns_transformer), ('ridge', Ridge())])\n",
    "model_pipeline = final_pipeline.fit(X, y)\n"
   ]
  },
  {
   "cell_type": "code",
   "execution_count": 157,
   "metadata": {},
   "outputs": [
    {
     "data": {
      "text/plain": [
       "Pipeline(steps=[('col_transformer',\n",
       "                 ColumnTransformer(remainder='passthrough',\n",
       "                                   transformers=[('tf-idf',\n",
       "                                                  TfidfVectorizer(ngram_range=(2,\n",
       "                                                                               2)),\n",
       "                                                  5),\n",
       "                                                 ('encode to numerical listing',\n",
       "                                                  FunctionTransformer(func=<function encode_to_numerical_listing_type at 0x7f8a89c7ecb0>),\n",
       "                                                  0),\n",
       "                                                 ('encode to numerical '\n",
       "                                                  'location',\n",
       "                                                  FunctionTransformer(func=<function encode_to_numerical_location at 0x7f8a89c7edd0>),\n",
       "                                                  4),\n",
       "                                                 ('std scalar',\n",
       "                                                  StandardScaler(with_mean=False),\n",
       "                                                  [1, 2, 3]),\n",
       "                                                 ('tosparse',\n",
       "                                                  FunctionTransformer(func=<function to_sparse at 0x7f8a8aa88e60>),\n",
       "                                                  [1, 2, 3])])),\n",
       "                ('ridge', Ridge())])"
      ]
     },
     "execution_count": 157,
     "metadata": {},
     "output_type": "execute_result"
    }
   ],
   "source": [
    "model_pipeline"
   ]
  },
  {
   "cell_type": "code",
   "execution_count": null,
   "metadata": {},
   "outputs": [],
   "source": []
  },
  {
   "cell_type": "code",
   "execution_count": 158,
   "metadata": {},
   "outputs": [],
   "source": [
    "from joblib import dump\n",
    "if __name__ == \"__main__\":\n",
    "    model_pipeline.__module__ = \"project_final\"\n",
    "    dump(model_pipeline, 'model_file.joblib')"
   ]
  },
  {
   "cell_type": "code",
   "execution_count": 159,
   "metadata": {},
   "outputs": [
    {
     "data": {
      "text/plain": [
       "array([130970.75395404])"
      ]
     },
     "execution_count": 159,
     "metadata": {},
     "output_type": "execute_result"
    }
   ],
   "source": [
    "model_pipeline.predict([['Apartment', 3, 2, 2000, \"The Views\", \"We are very proud to present to you with this\"]])"
   ]
  },
  {
   "cell_type": "code",
   "execution_count": null,
   "metadata": {},
   "outputs": [],
   "source": []
  }
 ],
 "metadata": {
  "colab": {
   "collapsed_sections": [
    "z5UTIfm1Gltw",
    "lkTeLYMMGltx",
    "rGEMjHrpGltz",
    "20f-Po4MGltz",
    "yzpglDS4Glt1",
    "a4GM1FWHGlt2",
    "X9bIVL8sGlt3",
    "BUFS3UCFGlt4",
    "5sMWpHOnGlt5",
    "cREeb8JwGlt6",
    "3FIeFFu0Glt6",
    "iFU0KicvGlt8",
    "-Dvt7ZwFGlt9",
    "m4OlEoxYGlt-",
    "91njgHkaGlt_",
    "whEjaKlSGluA",
    "SURA_lkWGluB",
    "B5Jc1BuDGluD",
    "H-BfhY8mGluE",
    "iOrFFS9AGluF",
    "PdIRrCYjGluH",
    "BW8BNmuUGluH",
    "7gTnXcewGluJ",
    "JEu1y2INGluJ",
    "cvHIQI2VGluM",
    "FFh-yZIHGluN",
    "zAZMoDNDGluO",
    "Q3Nqyv_WGluP",
    "T8L4IpANGluQ",
    "2mU_MmCKGluQ",
    "Q9FyALE0GluR",
    "0BigySSxGluS",
    "1qnib9oGGluT",
    "WN5Q1WJWGluU",
    "s8INqJFEGluX",
    "rrEqi2-SGluo",
    "_Tx5U0neGlur"
   ],
   "name": "project.ipynb",
   "provenance": [],
   "toc_visible": true
  },
  "interpreter": {
   "hash": "08201aecc6f550a1cb5629053a597d26d439895316d41952eee11d6472bc4d72"
  },
  "kernelspec": {
   "display_name": "Python 3.7.6 64-bit ('base': conda)",
   "language": "python",
   "name": "python37664bitbasecondaca3f0cc7a6f64496b0f539afbcd52f18"
  },
  "language_info": {
   "codemirror_mode": {
    "name": "ipython",
    "version": 3
   },
   "file_extension": ".py",
   "mimetype": "text/x-python",
   "name": "python",
   "nbconvert_exporter": "python",
   "pygments_lexer": "ipython3",
   "version": "3.7.7"
  },
  "metadata": {
   "interpreter": {
    "hash": "082e9a3bcad0a290d0001e938aa60b99250c6c2ef33a923c00b70f9826caf4b7"
   }
  }
 },
 "nbformat": 4,
 "nbformat_minor": 4
}
